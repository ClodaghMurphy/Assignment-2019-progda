{
 "cells": [
  {
   "cell_type": "markdown",
   "metadata": {},
   "source": [
    "# Assignment 2019 Programming for Data Analysis\n",
    "## Due: last commit on or before November 11th"
   ]
  },
  {
   "cell_type": "markdown",
   "metadata": {},
   "source": [
    "1. Explain the overall purpose of the numpy.random package in Python.\n",
    "2. Explain the use of the “Simple random data” and “Permutations” functions.\n",
    "3. Explain the use and purpose of at least five “Distributions” functions.\n",
    "4. Explain the use of seeds in generating pseudorandom numbers.\n",
    "***"
   ]
  },
  {
   "cell_type": "markdown",
   "metadata": {},
   "source": [
    "## Section 1: Explain the overall purpose of the numpy.random package in Python."
   ]
  },
  {
   "cell_type": "markdown",
   "metadata": {},
   "source": [
    "Randomness is becoming more imortant in computer science - randomised approaches can often outperform deterministic (i.e. no randomness at all) ones or at least,  get close to an optimal solution in a shorter time frame by \"strategcially flipping a few coins while their deterministic cousins sweat it out\".  \n",
    "Brian Christian and Tom Griffiths (2016), _Algorithms To Live By_ William Collins Books pg 182.\n",
    "\n",
    "NumPy, short for Numerical Python, is a linear algebra library in Python that most data science Python packages e.g, Mat−plotlib and Scikit-learn are built on.  NumPy specialises in working with large collections of Python objects called multi-dimensional arrays, this data structure is called ndarray (n-dimensional array).\n",
    "\n",
    "The Python numpy.random package generates random sample numbers, this function is useful when there is a requirement for\n",
    "unpredictability.  \n",
    "The Python Library warns that the package should not be used for cryptographic purposes. \n",
    "\n",
    "NumPy is specialized for building large, multi-dimensional arrays therefore the standard random module that is built into python is a faster option when just an individual random value or small sequence is required. \n",
    "\n",
    "\n",
    "\n",
    "Almost all module functions depend on the basic function random(), which generates a random float uniformly in the half-open range [low, high) [0.0  , 1)\n",
    "\n",
    "\n",
    "The square brackets indicate where the numbers start and the round brackets show that the highest range is 1 but does not include 1. 0 <= n <1.0\n",
    "\n",
    "The basic random ( ) function will return a uniform distribution of numbers.\n",
    "If a different type of distribution is required - there are many more to choose from within the package. \n",
    "The \"Mersenne Twister\" pseudo random number generator (PRNG) algorithm is used to generate numbers in NumPy whereas a true random number generator is usually hardware based.\n",
    "\n",
    "\n",
    "***\n"
   ]
  },
  {
   "cell_type": "markdown",
   "metadata": {},
   "source": [
    "## Examples of the numpy random package"
   ]
  },
  {
   "cell_type": "markdown",
   "metadata": {},
   "source": [
    "### .random()"
   ]
  },
  {
   "cell_type": "code",
   "execution_count": 12,
   "metadata": {},
   "outputs": [
    {
     "data": {
      "text/plain": [
       "0.28401394957296433"
      ]
     },
     "execution_count": 12,
     "metadata": {},
     "output_type": "execute_result"
    }
   ],
   "source": [
    "#This is the most basic use of the command - produces numbers between 0 and up to but not including 1\n",
    "#Each time this command is called it will produce a different number\n",
    "import numpy as np\n",
    "import random\n",
    "#when the parenthesis are left empty, the output defaults to one.\n",
    "np.random.random()"
   ]
  },
  {
   "cell_type": "code",
   "execution_count": 13,
   "metadata": {},
   "outputs": [
    {
     "data": {
      "text/plain": [
       "array([0.6411401 , 0.99368245, 0.89172395, 0.48186633, 0.72704089,\n",
       "       0.74537023, 0.32587424])"
      ]
     },
     "execution_count": 13,
     "metadata": {},
     "output_type": "execute_result"
    }
   ],
   "source": [
    "#the inclusion of 7 produces an array of 7 random numbers\n",
    "np.random.random(7)"
   ]
  },
  {
   "cell_type": "markdown",
   "metadata": {},
   "source": [
    "### .randint()"
   ]
  },
  {
   "cell_type": "code",
   "execution_count": 14,
   "metadata": {},
   "outputs": [
    {
     "data": {
      "text/plain": [
       "2"
      ]
     },
     "execution_count": 14,
     "metadata": {},
     "output_type": "execute_result"
    }
   ],
   "source": [
    "#the randint() method (random integer) produces whole numbers\n",
    "#this is an interesting example that uses the command to recreate the result of rolling a six sided dice\n",
    "#from the numpy random module, import randint - the command that returns random integers from your indicated\n",
    "#selection of low to high with the upperbounds being exclusive\n",
    "#call np.random.randint(1, 7) 7 must be included so that the number 6 can be selected randomly\n",
    "np.random.randint(1, 7)"
   ]
  },
  {
   "cell_type": "markdown",
   "metadata": {},
   "source": [
    "***"
   ]
  },
  {
   "cell_type": "markdown",
   "metadata": {},
   "source": [
    "## Section 2: Explain the use of the “Simple random data” and “Permutations” functions"
   ]
  },
  {
   "cell_type": "markdown",
   "metadata": {},
   "source": [
    "## _Simple Random Data_\n",
    "\n",
    "The simple random data commands offer the most straighforward pseudo random numbers functions for use in scripts. <br>At time of writing there are ten options.\n",
    "I am going to go into detail of a sample of three.\n",
    "\n",
    "Simple random data function | Description\n",
    "------------ | -------------\n",
    "rand(d0, d1, ..., dn)\t| Random values in a given shape.<br>\n",
    "randn(d0, d1, ..., dn)\t|  Return a sample (or samples) from the “standard normal” distribution.<br>\n",
    "randint(low[, high, size, dtype]) |\tReturn random integers from low (inclusive) to high (exclusive).<br>\n",
    "random_integers(low[, high, size]) |\tRandom integers of type np.int between low and high, inclusive.<br>\n",
    "random_sample([size])\t|  Return random floats in the half-open interval [0.0, 1.0).<br>\n",
    "random([size]) | Return random floats in the half-open interval [0.0, 1.0).<br>\n",
    "ranf([size]) |\tReturn random floats in the half-open interval [0.0, 1.0).<br>\n",
    "sample([size])|\tReturn random floats in the half-open interval [0.0, 1.0).<br>\n",
    "choice(a[, size, replace, p])\t|Generates a random sample from a given 1-D array<br>\n",
    "bytes(length)\t|  Return random bytes.<br>"
   ]
  },
  {
   "cell_type": "markdown",
   "metadata": {},
   "source": [
    "### _rand_"
   ]
  },
  {
   "cell_type": "code",
   "execution_count": 15,
   "metadata": {},
   "outputs": [
    {
     "data": {
      "text/plain": [
       "array([[[0.24088957, 0.41112925, 0.60822926],\n",
       "        [0.10125472, 0.01468906, 0.60927683]]])"
      ]
     },
     "execution_count": 15,
     "metadata": {},
     "output_type": "execute_result"
    }
   ],
   "source": [
    "#rand(d0, d1, ..., dn)\n",
    "#calling the rand function produces values in a particular shape of array that is denoted by the appearance of: d0,d1...,dn\n",
    "#the parameters input influence the \"shape\"\n",
    "#but the random numbers created will always be in the half-open range [low, high) [0.0  , 1)\n",
    "np.random.rand(1,2,3)"
   ]
  },
  {
   "cell_type": "code",
   "execution_count": 16,
   "metadata": {},
   "outputs": [
    {
     "data": {
      "text/plain": [
       "<function matplotlib.pyplot.show(*args, **kw)>"
      ]
     },
     "execution_count": 16,
     "metadata": {},
     "output_type": "execute_result"
    }
   ],
   "source": [
    "#The supporting documentation advises that this function produces a uniform distribution, i.e. that all numbers have an \n",
    "#equal likelihood of being randomly selected\n",
    "#by plotting a large parameter in a histogram, this idea can be demonstrated to better understand what \"uniform\" means\n",
    "a = np.random.rand(5000,10)\n",
    "#matplotlib is required for plotting\n",
    "import matplotlib.pyplot as plt\n",
    "\n",
    "plt.hist(a)\n",
    "plt.show"
   ]
  },
  {
   "cell_type": "markdown",
   "metadata": {},
   "source": [
    "### _.choice_"
   ]
  },
  {
   "cell_type": "code",
   "execution_count": 17,
   "metadata": {},
   "outputs": [
    {
     "data": {
      "text/plain": [
       "array([0, 2, 3, 1])"
      ]
     },
     "execution_count": 17,
     "metadata": {},
     "output_type": "execute_result"
    }
   ],
   "source": [
    "#choice(a[, size, replace, p])\t\n",
    "#various parameters (or none) can be input when using numpy.random.choice\n",
    "#p refers to probabilities, if none are given then the default is uniform distribution\n",
    "np.random.choice(5,4,replace=False)"
   ]
  },
  {
   "cell_type": "code",
   "execution_count": 18,
   "metadata": {},
   "outputs": [
    {
     "data": {
      "text/plain": [
       "2"
      ]
     },
     "execution_count": 18,
     "metadata": {},
     "output_type": "execute_result"
    }
   ],
   "source": [
    "#this example provides a one dimensional array called nums\n",
    "#by calling the choice function, a random sample is generated from the given 1-D array\n",
    "nums= [2,4,6,8]\n",
    "np.random.choice(nums)"
   ]
  },
  {
   "cell_type": "code",
   "execution_count": 19,
   "metadata": {},
   "outputs": [],
   "source": [
    "#another example for choice using a virtual pack of cards\n",
    "cards = [\"AS\", \"2S\", \"3S\", \"4S\", \"5S\", \"6S\", \"7S\", \"8S\", \"9S\", \"TS\", \"JS\", \"QS\", \"KS\",\n",
    "         \"AH\", \"2H\", \"3H\", \"4H\", \"5H\", \"6H\", \"7H\", \"8H\", \"9H\", \"TH\", \"JH\", \"QH\", \"KH\",\n",
    "         \"AC\", \"2C\", \"3C\", \"4C\", \"5C\", \"6C\", \"7C\", \"8C\", \"9C\", \"TC\", \"JC\", \"QC\", \"KC\",\n",
    "         \"AD\", \"2D\", \"3D\", \"4D\", \"5D\", \"6D\", \"7D\", \"8D\", \"9D\", \"TD\", \"JD\", \"QD\", \"KD\"]"
   ]
  },
  {
   "cell_type": "code",
   "execution_count": 20,
   "metadata": {},
   "outputs": [
    {
     "data": {
      "text/plain": [
       "'3C'"
      ]
     },
     "execution_count": 20,
     "metadata": {},
     "output_type": "execute_result"
    }
   ],
   "source": [
    "random.choice(cards)"
   ]
  },
  {
   "cell_type": "code",
   "execution_count": 21,
   "metadata": {},
   "outputs": [],
   "source": [
    "#using .choice() to randomly choose a simple random data function!\n",
    "simple_random_data = ['rand', 'randn', 'randint', 'random_integers', 'random_sample', 'random', 'ranf', 'sample', 'choice', 'bytes']"
   ]
  },
  {
   "cell_type": "code",
   "execution_count": 22,
   "metadata": {},
   "outputs": [
    {
     "data": {
      "text/plain": [
       "'sample'"
      ]
     },
     "execution_count": 22,
     "metadata": {},
     "output_type": "execute_result"
    }
   ],
   "source": [
    "np.random.choice(simple_random_data)"
   ]
  },
  {
   "cell_type": "markdown",
   "metadata": {},
   "source": [
    "### _.bytes_"
   ]
  },
  {
   "cell_type": "code",
   "execution_count": 23,
   "metadata": {},
   "outputs": [
    {
     "data": {
      "text/plain": [
       "b\">\\x9bg\\x1b\\xfc\\xc0\\xcd\\x10_\\xe7\\x0b\\x8d\\xda\\xaf%\\xe3-r\\xd1\\x8e\\xcdNd\\xe01/\\x834o\\xc2\\x01\\x0f\\xd4\\x00\\xc4\\xa4j\\xd2M\\xdac4\\x0b\\x04\\x8c^\\xe5\\x13k-\\xfb\\xc5\\x1dk\\xd0\\xd8s=\\xca\\x08d7\\xae\\xc7/\\x8c\\\\\\x0c\\x10y\\xb8\\x87]hO>\\xc9\\x8f\\x10\\x13@\\x80&Z\\xd2%4\\xdd\\x9e\\xb0\\x81Y6>^\\xaf\\xa8\\xb9\\xe5xI\\xd9\\xf2!\\x9f[(V#Y> \\xa6\\xe5(\\x05\\xf9\\xbdwsX+\\xc8A\\xd6\\xd5\\x8eH?}\\xba\\xd0m\\xfdi\\xb8\\xf3\\xf2\\x1c\\x0f\\xea7\\x03'\\xe5\\xf5\\x1f\\x9b\\x9b\\x98l\\xac\\xac\\xfd\\x87\\x9a\\x9b\\x17\\xd5\\xb23X)<x[\\xd6C\\x8cyr\\x8e1\\x9b\\xcc?\\xbd\\xfd\\xaa\\x9c\\\\\\xbe\\x9f\\xb4\\xc9\\x997\\x90\\x9a'\\\\\\xa5\\xa4\\xbf\\n\\xd4\\xd7\\xd0\\xad\\x93\""
      ]
     },
     "execution_count": 23,
     "metadata": {},
     "output_type": "execute_result"
    }
   ],
   "source": [
    "#bytes function is used to return a string of random bytes ( 8 bits) of the length input in parenthesis\n",
    "#this is a useful tool if a large number of pseudo random bytes is required to be efficiently generated\n",
    "np.random.bytes(200)\n"
   ]
  },
  {
   "cell_type": "markdown",
   "metadata": {},
   "source": [
    "[Stefano Cappellini](https://www.stefanocappellini.it/generate-pseudorandom-bytes-with-python/) compared various numpy random functions to generate 1048576 bytes (1MB) .bytes was the most efficient with an execution time of 0.001017 seconds . "
   ]
  },
  {
   "cell_type": "markdown",
   "metadata": {},
   "source": [
    "### _Summary of Simple Random Data_\n",
    "These options are useful tools as an introduction to the concept of pseudo random number generation.\n",
    "When used in conjunction with matplotlib to generate plots of the data, the ideas can be more effectively conveyed for those without a mathematical background."
   ]
  },
  {
   "cell_type": "markdown",
   "metadata": {},
   "source": [
    "## _Permutations_\n",
    "There are two types of permutation functions - shuffle and permutation. <br>\n",
    "Shuffle modifies the contents of a list that has been passed into the argument by \"shuffling\" its contents - not providing new numbers.<br>\n",
    "This means the original order is lost after being passed through shuffle.\n",
    "Permute rearranges the array, in the case of a multi-dimensional array, it is only shuffled along its first index.<br>"
   ]
  },
  {
   "cell_type": "code",
   "execution_count": 24,
   "metadata": {},
   "outputs": [],
   "source": [
    "#to demonstrate an example of shuffle\n",
    "#first create a range called a\n",
    "a=np.arange (10)"
   ]
  },
  {
   "cell_type": "code",
   "execution_count": 25,
   "metadata": {},
   "outputs": [
    {
     "data": {
      "text/plain": [
       "array([0, 1, 2, 3, 4, 5, 6, 7, 8, 9])"
      ]
     },
     "execution_count": 25,
     "metadata": {},
     "output_type": "execute_result"
    }
   ],
   "source": [
    "a"
   ]
  },
  {
   "cell_type": "code",
   "execution_count": 26,
   "metadata": {},
   "outputs": [],
   "source": [
    "#pass the argument of a into the shuffle function\n",
    "#the output is that the array is rearranged.\n",
    "np.random.shuffle (a)"
   ]
  },
  {
   "cell_type": "code",
   "execution_count": 27,
   "metadata": {},
   "outputs": [
    {
     "data": {
      "text/plain": [
       "array([4, 3, 0, 9, 1, 2, 7, 6, 5, 8])"
      ]
     },
     "execution_count": 27,
     "metadata": {},
     "output_type": "execute_result"
    }
   ],
   "source": [
    "a"
   ]
  },
  {
   "cell_type": "code",
   "execution_count": 28,
   "metadata": {},
   "outputs": [
    {
     "data": {
      "text/plain": [
       "array([9, 1, 6, 7, 8, 0, 4, 2, 3, 5])"
      ]
     },
     "execution_count": 28,
     "metadata": {},
     "output_type": "execute_result"
    }
   ],
   "source": [
    "#the output is a permuted sequence or array range.\n",
    "np.random.permutation(a)"
   ]
  },
  {
   "cell_type": "markdown",
   "metadata": {},
   "source": [
    "\n"
   ]
  },
  {
   "cell_type": "code",
   "execution_count": 29,
   "metadata": {},
   "outputs": [],
   "source": [
    "b=np.random.rand(3,2,1)"
   ]
  },
  {
   "cell_type": "code",
   "execution_count": 30,
   "metadata": {},
   "outputs": [
    {
     "data": {
      "text/plain": [
       "array([[[0.76295496],\n",
       "        [0.67724664]],\n",
       "\n",
       "       [[0.65272303],\n",
       "        [0.40962086]],\n",
       "\n",
       "       [[0.01081852],\n",
       "        [0.22851347]]])"
      ]
     },
     "execution_count": 30,
     "metadata": {},
     "output_type": "execute_result"
    }
   ],
   "source": [
    "#use of a multi-dimensional array to illustrate how it is only shuffled along its first index\n",
    "np.random.permutation(b)"
   ]
  },
  {
   "cell_type": "code",
   "execution_count": 31,
   "metadata": {},
   "outputs": [],
   "source": [
    "c=np.random.rand(5,4,3)"
   ]
  },
  {
   "cell_type": "code",
   "execution_count": 32,
   "metadata": {},
   "outputs": [],
   "source": [
    "np.random.shuffle(c)"
   ]
  },
  {
   "cell_type": "code",
   "execution_count": 33,
   "metadata": {},
   "outputs": [
    {
     "data": {
      "text/plain": [
       "array([[[0.86671273, 0.91831938, 0.32760684],\n",
       "        [0.31321867, 0.14624968, 0.91491915],\n",
       "        [0.61989893, 0.92398366, 0.25114894],\n",
       "        [0.90624707, 0.59086819, 0.48673878]],\n",
       "\n",
       "       [[0.18562516, 0.48151051, 0.12408843],\n",
       "        [0.77771194, 0.43949228, 0.83157611],\n",
       "        [0.80419313, 0.70450992, 0.75226176],\n",
       "        [0.82937347, 0.11726676, 0.3010972 ]],\n",
       "\n",
       "       [[0.02411988, 0.80870852, 0.31451485],\n",
       "        [0.86080935, 0.50820107, 0.89723717],\n",
       "        [0.15364175, 0.66442636, 0.70589255],\n",
       "        [0.82366169, 0.63617817, 0.51430419]],\n",
       "\n",
       "       [[0.40783883, 0.45122198, 0.37243446],\n",
       "        [0.544698  , 0.26175024, 0.80653931],\n",
       "        [0.29434189, 0.05183256, 0.99208284],\n",
       "        [0.17753554, 0.47045104, 0.18709589]],\n",
       "\n",
       "       [[0.86616554, 0.54810651, 0.68980033],\n",
       "        [0.4994821 , 0.05470355, 0.18288139],\n",
       "        [0.21587639, 0.36646883, 0.59514271],\n",
       "        [0.52293286, 0.40546514, 0.76527636]]])"
      ]
     },
     "execution_count": 33,
     "metadata": {},
     "output_type": "execute_result"
    }
   ],
   "source": [
    "c"
   ]
  },
  {
   "cell_type": "code",
   "execution_count": 34,
   "metadata": {},
   "outputs": [
    {
     "data": {
      "text/plain": [
       "array([[[0.86616554, 0.54810651, 0.68980033],\n",
       "        [0.4994821 , 0.05470355, 0.18288139],\n",
       "        [0.21587639, 0.36646883, 0.59514271],\n",
       "        [0.52293286, 0.40546514, 0.76527636]],\n",
       "\n",
       "       [[0.86671273, 0.91831938, 0.32760684],\n",
       "        [0.31321867, 0.14624968, 0.91491915],\n",
       "        [0.61989893, 0.92398366, 0.25114894],\n",
       "        [0.90624707, 0.59086819, 0.48673878]],\n",
       "\n",
       "       [[0.02411988, 0.80870852, 0.31451485],\n",
       "        [0.86080935, 0.50820107, 0.89723717],\n",
       "        [0.15364175, 0.66442636, 0.70589255],\n",
       "        [0.82366169, 0.63617817, 0.51430419]],\n",
       "\n",
       "       [[0.18562516, 0.48151051, 0.12408843],\n",
       "        [0.77771194, 0.43949228, 0.83157611],\n",
       "        [0.80419313, 0.70450992, 0.75226176],\n",
       "        [0.82937347, 0.11726676, 0.3010972 ]],\n",
       "\n",
       "       [[0.40783883, 0.45122198, 0.37243446],\n",
       "        [0.544698  , 0.26175024, 0.80653931],\n",
       "        [0.29434189, 0.05183256, 0.99208284],\n",
       "        [0.17753554, 0.47045104, 0.18709589]]])"
      ]
     },
     "execution_count": 34,
     "metadata": {},
     "output_type": "execute_result"
    }
   ],
   "source": [
    "#another use of a multi-dimensional array to illustrate how it is only shuffled along its first index\n",
    "np.random.permutation(c)"
   ]
  },
  {
   "cell_type": "code",
   "execution_count": 35,
   "metadata": {},
   "outputs": [],
   "source": [
    "#permutation and shuffle of a virtual deck of cards\n",
    "cards = [\"AS\", \"2S\", \"3S\", \"4S\", \"5S\", \"6S\", \"7S\", \"8S\", \"9S\", \"TS\", \"JS\", \"QS\", \"KS\",\n",
    "         \"AH\", \"2H\", \"3H\", \"4H\", \"5H\", \"6H\", \"7H\", \"8H\", \"9H\", \"TH\", \"JH\", \"QH\", \"KH\",\n",
    "         \"AC\", \"2C\", \"3C\", \"4C\", \"5C\", \"6C\", \"7C\", \"8C\", \"9C\", \"TC\", \"JC\", \"QC\", \"KC\",\n",
    "         \"AD\", \"2D\", \"3D\", \"4D\", \"5D\", \"6D\", \"7D\", \"8D\", \"9D\", \"TD\", \"JD\", \"QD\", \"KD\"]"
   ]
  },
  {
   "cell_type": "code",
   "execution_count": 36,
   "metadata": {},
   "outputs": [
    {
     "data": {
      "text/plain": [
       "array(['JS', 'TS', '3S', '2S', 'JD', 'KD', 'KS', 'KC', '4H', 'KH', '8S',\n",
       "       'QH', '6D', '9H', '5S', '2D', 'QD', '8H', '3C', '5H', '6C', 'TC',\n",
       "       '4S', '4C', '4D', '7D', '5D', '2C', '9C', '7S', 'QC', '7H', '8C',\n",
       "       '9D', '9S', 'TD', 'AS', '6H', '3H', '7C', 'AC', '2H', '5C', '6S',\n",
       "       'QS', '8D', '3D', 'AD', 'JH', 'AH', 'TH', 'JC'], dtype='<U2')"
      ]
     },
     "execution_count": 36,
     "metadata": {},
     "output_type": "execute_result"
    }
   ],
   "source": [
    "np.random.permutation(cards)"
   ]
  },
  {
   "cell_type": "code",
   "execution_count": 37,
   "metadata": {},
   "outputs": [],
   "source": [
    "np.random.shuffle(cards)"
   ]
  },
  {
   "cell_type": "code",
   "execution_count": 38,
   "metadata": {},
   "outputs": [
    {
     "data": {
      "text/plain": [
       "['6C',\n",
       " 'KD',\n",
       " '7H',\n",
       " '2H',\n",
       " 'QC',\n",
       " 'KH',\n",
       " 'TC',\n",
       " 'KC',\n",
       " 'QH',\n",
       " '9S',\n",
       " '8S',\n",
       " '3C',\n",
       " '9D',\n",
       " '6H',\n",
       " '7S',\n",
       " '5D',\n",
       " '3D',\n",
       " '5C',\n",
       " 'TH',\n",
       " 'AD',\n",
       " '9H',\n",
       " '5H',\n",
       " 'JS',\n",
       " '7D',\n",
       " '8C',\n",
       " '5S',\n",
       " 'KS',\n",
       " '4C',\n",
       " '8H',\n",
       " 'TS',\n",
       " 'JC',\n",
       " 'AS',\n",
       " '4S',\n",
       " 'TD',\n",
       " '3S',\n",
       " '4H',\n",
       " '6S',\n",
       " '2S',\n",
       " '9C',\n",
       " 'QD',\n",
       " '3H',\n",
       " '8D',\n",
       " '2D',\n",
       " 'AC',\n",
       " 'JH',\n",
       " '6D',\n",
       " '2C',\n",
       " '7C',\n",
       " 'JD',\n",
       " 'AH',\n",
       " '4D',\n",
       " 'QS']"
      ]
     },
     "execution_count": 38,
     "metadata": {},
     "output_type": "execute_result"
    }
   ],
   "source": [
    "cards"
   ]
  },
  {
   "cell_type": "markdown",
   "metadata": {},
   "source": [
    "### The difference between shuffle and permutation\n",
    "The difference between shuffle and permutation is difficult to identify for a beginner. <br>\n",
    "Stackoverflow user [ecatmur](https://stackoverflow.com/users/567292/ecatmur) offers the following explanation (the emphasis is mine) -\n",
    ">np.random.permutation has two differences from np.random.shuffle:<br>\n",
    ">if passed an array, it will return a shuffled _copy_ of the array; np.random.shuffle shuffles the array inplace<br>\n",
    ">if passed an integer, it will return a shuffled _range_ "
   ]
  },
  {
   "cell_type": "markdown",
   "metadata": {},
   "source": [
    "## Section 3: Explain the use and purpose of at least five “Distributions” functions.\n",
    "\n",
    "The \"Distributions\" functions are the heavy lifters of Numpy.  \n",
    "Distributions are a mathematical concept that set out the likely results given particular factors(or numbers) in an experiment.\n",
    "Distributions are important because they help understand the probability of an event.\n",
    "\n",
    "\n"
   ]
  },
  {
   "cell_type": "markdown",
   "metadata": {},
   "source": [
    "![alt text](List%20of%20Distributions.PNG)"
   ]
  },
  {
   "cell_type": "markdown",
   "metadata": {},
   "source": [
    "### 1. normal (loc=0.0, scale=1.0, size=None)"
   ]
  },
  {
   "cell_type": "markdown",
   "metadata": {},
   "source": [
    "#### Purpose"
   ]
  },
  {
   "cell_type": "markdown",
   "metadata": {},
   "source": [
    "The Normal (Gaussian) Distribution is one of the most used distributions in Data Science. Many common phenomena that take place in our daily life follows normal distributions such as: income distribution in the economy, students average marks or the average height in populations."
   ]
  },
  {
   "cell_type": "markdown",
   "metadata": {},
   "source": [
    "In order to use the normal numpy function, the inputs should be: <br>\n",
    "**loc** : float or array_like of floats; it controls the Mean (“centre”) of the distribution.<br>\n",
    "**scale** : float or array_like of floats;it sets the standard deviation (spread or “width”) of the distribution.<br>\n",
    "These two parameters define normal distribution.  \n",
    "Quote from [Probability Distributions blog post](http://hamelg.blogspot.com/2015/11/python-for-data-analysis-part-22.html)\n",
    "\n",
    ">about 68% of the data lies within 1 standard deviation of the mean, <br>\n",
    ">95% lies within 2 standard deviations and <br>\n",
    ">99.7% lies within 3 standard deviations.<br>\n",
    "\n",
    "**size** : int or tuple of ints, optional provides the output size and shape.\n",
    "\n",
    "to give an output of ndarray or scalar samples from a normal distribution."
   ]
  },
  {
   "cell_type": "code",
   "execution_count": 39,
   "metadata": {},
   "outputs": [],
   "source": [
    "#### Applications/Usage"
   ]
  },
  {
   "cell_type": "code",
   "execution_count": 115,
   "metadata": {},
   "outputs": [
    {
     "data": {
      "text/plain": [
       "0.6971727810792845"
      ]
     },
     "execution_count": 115,
     "metadata": {},
     "output_type": "execute_result"
    }
   ],
   "source": [
    "#An empty parenthesis generates a random number from normal distribution\n",
    "np.random.normal()"
   ]
  },
  {
   "cell_type": "code",
   "execution_count": 127,
   "metadata": {},
   "outputs": [
    {
     "data": {
      "text/plain": [
       "array([ 1.35593694,  0.64433375, -1.83371794,  1.16292299, -0.62629658,\n",
       "        0.17934828,  0.43153533])"
      ]
     },
     "execution_count": 127,
     "metadata": {},
     "output_type": "execute_result"
    }
   ],
   "source": [
    "#code to produce an output of 7 random numbers from the normal distribution\n",
    "np.random.normal(0,1,7)"
   ]
  },
  {
   "cell_type": "code",
   "execution_count": 128,
   "metadata": {},
   "outputs": [
    {
     "data": {
      "text/plain": [
       "array([ 1.3153878 , -0.45724609,  0.15738636,  1.33504761, -0.23503989,\n",
       "        1.06898159,  2.00165192])"
      ]
     },
     "execution_count": 128,
     "metadata": {},
     "output_type": "execute_result"
    }
   ],
   "source": [
    "#code to produce an output of 7 random numbers from the normal distribution\n",
    "#if values are not specified for the loc and scale parameters, they will default to loc = 0 and scale = 1.\n",
    "np.random.normal(size=7)"
   ]
  },
  {
   "cell_type": "code",
   "execution_count": 134,
   "metadata": {},
   "outputs": [
    {
     "data": {
      "text/plain": [
       "999.941809177757"
      ]
     },
     "execution_count": 134,
     "metadata": {},
     "output_type": "execute_result"
    }
   ],
   "source": [
    "#specifying loc produces an output based on that mean value\n",
    "np.random.normal(loc=1000)"
   ]
  },
  {
   "cell_type": "code",
   "execution_count": 135,
   "metadata": {},
   "outputs": [
    {
     "data": {
      "text/plain": [
       "999.4452869355629"
      ]
     },
     "execution_count": 135,
     "metadata": {},
     "output_type": "execute_result"
    }
   ],
   "source": [
    "#the function produces the same output (defaults to loc) as above example wheninput is not specified\n",
    "np.random.normal(1000)"
   ]
  },
  {
   "cell_type": "code",
   "execution_count": 92,
   "metadata": {},
   "outputs": [
    {
     "data": {
      "text/plain": [
       "array([ 1.89679449e+02,  2.32312038e+02,  2.84555992e+02,  1.43753833e+02,\n",
       "       -2.57568602e+01,  5.79335369e+01, -3.59529494e+01,  9.40552178e+01,\n",
       "        1.06528434e+02, -2.59060440e+01, -1.74466918e+01,  6.35093315e+01,\n",
       "        6.05104129e+01,  1.42421467e+02,  9.14980502e+01,  1.09783729e+02,\n",
       "       -1.26889310e+01,  6.32330959e+00, -8.29355825e+01,  1.87622075e+00,\n",
       "        1.51830084e+02, -1.03108076e+02,  1.60060515e+02,  8.90219530e+01,\n",
       "        7.50316955e+01,  8.82082089e+01, -1.04266989e+02,  9.71138488e+01,\n",
       "        1.18418978e+02,  1.33345190e+02,  1.05863572e+01,  2.58585605e+02,\n",
       "        1.27526496e+02,  6.99865808e+01,  2.37190027e+01,  2.42681073e+02,\n",
       "        1.68324176e+02,  1.01277948e+02, -1.44314246e+01,  1.44023151e+02,\n",
       "        2.19178460e+02,  2.54903148e+01,  1.20094439e+02,  2.10326134e+02,\n",
       "       -9.01540700e+01,  8.41319676e+01, -6.94479552e+00,  1.73248539e+01,\n",
       "       -5.26226329e+01, -2.41983535e+01,  1.08078956e+02, -2.19827924e+01,\n",
       "        1.67494355e+02,  1.92386594e+01,  1.25432939e+02,  2.13064050e+02,\n",
       "        4.99294042e+01,  1.33893496e+01, -2.85002514e+01,  9.31998008e+01,\n",
       "        1.00118165e+02, -8.06225917e+01,  1.19601752e+02, -9.66527025e+01,\n",
       "        4.92051387e+01, -1.74102485e+01,  4.14391453e+01,  8.35244819e+01,\n",
       "        1.67683812e+02,  6.19334022e+01,  4.73661731e+01, -3.29124261e+01,\n",
       "        6.25879090e-01,  2.32766249e+02, -3.00387564e+01, -4.78011127e+01,\n",
       "       -1.19203465e+02,  3.37131447e+00,  1.35549524e+02,  4.75749612e+01,\n",
       "        1.64616889e+02, -6.51548918e+01,  6.36040639e+01,  1.53900474e+02,\n",
       "        2.27174421e+02,  6.31439006e+01,  1.83805576e+02,  1.11081738e+02,\n",
       "        1.68057043e+02,  1.21923417e+02,  2.02787794e+02,  4.31796217e+01,\n",
       "       -3.74440917e+01,  1.58546479e+02,  4.68689047e+01, -6.07273089e+01,\n",
       "        1.26808188e+02,  1.65709501e+02,  2.54615749e+01,  2.23954199e+02,\n",
       "        5.58260829e+01, -3.33649923e+01,  3.38250061e+01,  1.47361981e+02,\n",
       "        4.85880712e+01,  1.75597545e+02,  1.84227653e+02, -8.16328147e+01,\n",
       "        2.30684837e+02,  2.04157830e+01,  1.69012396e+02, -5.25580000e+01,\n",
       "        1.14479676e+02,  7.39857322e+00,  1.02300499e+02, -1.46159632e+01,\n",
       "       -3.01024255e+01,  6.72320232e+01,  2.83861024e+02,  5.24273378e+01,\n",
       "        4.86966101e+01,  8.48928456e+01, -3.29111393e+01, -6.89126990e+01,\n",
       "        1.67969117e+02,  1.01103668e+02,  4.01739001e+01,  2.56374092e+02,\n",
       "        9.51372834e+01, -3.50406751e+01,  1.50923195e+02,  1.15708282e+02,\n",
       "        6.63274244e+01,  9.78019846e+01, -4.23466154e+01, -6.53372643e+01,\n",
       "        1.13467927e+02, -1.62465363e+02,  8.60322021e+01,  8.73914109e+00,\n",
       "        2.21589330e+02,  8.40813868e+01,  2.17117756e+02,  1.03267623e+02,\n",
       "        1.56177820e+02,  1.59690592e+02,  1.41351130e+02,  1.49185391e+02,\n",
       "       -1.09859717e+02,  1.02670443e+02,  7.90097501e+01,  2.90118692e+01,\n",
       "        2.27582511e+02,  9.60073173e+01,  7.04805629e+01,  1.06160988e+02,\n",
       "       -7.51348052e+01,  1.90863631e+02,  1.11685354e+02,  1.03545275e+02,\n",
       "       -5.65905289e+00,  6.10458932e+01,  1.92203594e+02, -1.05407365e+02,\n",
       "        7.67877687e+01,  1.84360962e+02,  3.51138610e+01,  7.95946636e+01,\n",
       "       -1.41023563e+01, -1.89547997e+01,  1.77576385e+02,  5.81168339e+01,\n",
       "       -8.40010151e+01,  6.58882953e+01,  8.95947041e+01, -1.05881343e+02,\n",
       "       -1.08066053e+00,  1.48242982e+02,  3.28860885e+01,  2.90995172e+02,\n",
       "        7.13598624e+01,  7.04917843e+01,  1.07824344e+02,  1.35404686e+02,\n",
       "        1.96891989e+02,  3.98163458e+01,  2.25686387e+02,  4.83775487e+01,\n",
       "        1.43379378e+02,  1.13796540e+02,  7.04110560e+01,  1.73807867e+02,\n",
       "        1.11387427e+02,  1.06503818e+01, -1.45604763e+02,  1.16662582e+02,\n",
       "        1.97678436e+01,  1.12256700e+02,  1.88745000e+01,  1.39996484e+02,\n",
       "        1.22109820e+02,  2.48686122e+02,  3.38986270e+02, -1.00653157e+02,\n",
       "        1.15095914e+02,  1.50590613e+02,  9.53662781e+01, -8.60309793e+00,\n",
       "       -6.23768240e+01,  4.09170153e+01,  1.56320737e+02, -2.09938983e+01,\n",
       "        1.78670141e+02,  5.72671197e+01,  7.61363447e+01,  3.70006137e+01,\n",
       "        1.55508786e+02,  1.09376854e+02, -4.89068372e+01,  4.54472753e+01,\n",
       "        2.17609819e+02,  1.74616332e+02,  2.28568954e+01,  1.44176810e+02,\n",
       "        4.90095799e+02,  2.27899292e+02,  4.92188465e+01, -4.18077293e+00,\n",
       "        1.93930285e+02,  2.43956419e+01,  4.03725645e+01,  1.14343651e+02,\n",
       "       -3.95423072e+01,  8.18748556e+01,  1.11730038e+02,  2.58812073e+02,\n",
       "        3.35872173e+01,  7.03522118e+01,  8.70526657e+01,  1.54261656e+02,\n",
       "        7.99456224e+01,  2.17519139e+02,  3.85514944e+01,  1.47302742e+02,\n",
       "        1.65975164e+01,  6.74996984e+01, -1.18456708e+02,  2.54536293e+02,\n",
       "        2.41681316e+02,  4.33579910e+01,  3.13199166e+02,  1.38897402e+02,\n",
       "       -6.35703272e+01,  1.62167235e+02,  7.75227810e+01,  1.60447125e+02,\n",
       "       -2.31638570e+01,  1.39005793e+02,  7.40906031e+01,  1.80408682e+02,\n",
       "       -1.03126731e+02,  1.64948039e+02,  1.07256952e+02,  5.26594197e+00,\n",
       "        7.30160287e+01,  5.69969573e+01,  5.65903814e+01,  1.16603758e+02,\n",
       "        1.22556452e+02,  2.62993811e+02,  1.54625941e+02,  9.70279870e+01,\n",
       "        4.20144642e+01,  5.22493796e+01,  2.10332680e+02,  3.55829114e+01,\n",
       "        1.62308851e+02,  9.28222263e+01,  1.93934023e+02, -4.19118253e+01,\n",
       "        2.90915584e+02,  1.07812933e+01,  8.86192838e+01,  8.62836314e+01,\n",
       "        1.17427169e+02,  9.03158456e+01,  5.99844746e+01,  3.48445196e+01,\n",
       "        2.68732971e+01,  5.92120363e+01,  1.39596142e+02, -1.09698119e+02,\n",
       "        4.63456639e+01,  1.56364896e+02,  2.39052931e+01, -1.32017133e+01,\n",
       "       -5.04098543e+01,  3.54213494e+01,  1.43583474e+02,  1.60153282e+02,\n",
       "       -4.02665144e+01,  2.33102219e+02, -2.38231383e+01,  1.92290672e+02,\n",
       "        1.78770591e+02,  1.34654389e+01,  1.36943288e+02,  1.37326236e+02,\n",
       "       -1.25276155e+02,  9.49477152e+01, -9.36760868e+01,  7.53685611e+01,\n",
       "        1.13178566e+02, -1.58711454e+01, -5.28437174e+01,  1.09432154e+02,\n",
       "       -5.18010087e+01,  5.96247990e+01, -1.77039130e+01,  4.75035020e+01,\n",
       "        1.40904475e+02, -1.03630728e+02, -2.34075383e+01,  6.39354784e+01,\n",
       "        6.54138773e+01,  1.19421721e+02,  8.26243636e+01,  5.37689772e+01,\n",
       "        1.45899931e+02,  9.42226036e+01,  3.50771463e+01, -2.92068230e+01,\n",
       "        2.78151079e+01,  2.55015824e+02,  2.54088872e+02, -6.82450530e+01,\n",
       "       -5.13525226e+01, -6.12151718e+00, -1.52234307e+02,  2.40327992e+02,\n",
       "        8.78093837e+01,  4.60721736e+01,  6.88064243e+01,  5.47214293e+01,\n",
       "        1.76256418e+02, -6.42971056e+01,  4.58283654e+01,  2.66962424e+02,\n",
       "       -2.31447324e+01,  1.00297988e+02, -9.98983962e+01,  3.21994171e+00,\n",
       "       -3.96193745e+01,  1.67023475e+02, -8.83687986e+00,  5.64357379e+01,\n",
       "        4.63110761e+01,  6.62582233e+01, -5.77312575e+01,  6.60011938e+01,\n",
       "        4.54719497e+01,  1.15170930e+02,  1.64327853e+02,  4.88252340e+01,\n",
       "        2.95931249e+01,  2.79079184e+01,  1.82125401e+02, -1.20218067e+02,\n",
       "        1.24799655e+02,  2.07632066e+01,  9.11329405e+01,  5.76852470e+01,\n",
       "        4.91404564e+01,  1.81558036e+01,  4.53327468e+01,  1.87252817e+02,\n",
       "        9.53681373e+01, -4.45327666e+01, -1.03272418e+02,  1.71415037e+02,\n",
       "        1.14414384e+01,  6.89055820e+01, -3.48537361e+01,  3.52601465e+01,\n",
       "        8.15872900e+01,  1.34086485e+02,  1.41147092e+02, -2.38640966e+01,\n",
       "        9.98830280e+01,  8.76956395e+01,  8.10331707e+01, -5.27360105e+01,\n",
       "       -1.86742160e+01, -3.83838391e+00,  5.39795573e+01,  9.70591024e+01,\n",
       "        1.90216995e+02,  8.06559884e+01,  3.70906151e+01,  1.43226910e+02,\n",
       "       -3.96654101e+01,  5.92599610e+01,  3.87993880e+01,  1.85629090e+02,\n",
       "        1.92528352e+02,  1.40581711e+02,  8.88104806e+01, -6.09963330e+01,\n",
       "        6.66162767e+01,  8.61125256e+01,  8.69844539e+01,  6.69251755e+01,\n",
       "        1.88713177e+02,  2.23940690e+01,  7.72374278e+01,  1.37022080e+02,\n",
       "        1.31745249e+02,  8.15596439e+01,  1.89700733e+02,  1.66213738e+02,\n",
       "       -2.07350373e+01,  4.89897641e+01,  2.01285135e+01,  1.47702282e+02,\n",
       "        2.47264313e+01,  2.03731631e-01, -9.18696651e+01,  1.96223847e+02,\n",
       "       -5.12269382e+01,  2.78747105e+02,  9.34614194e+01, -4.43496305e+01,\n",
       "        9.40914579e+01,  7.51110670e+01,  4.34883729e+01,  1.90752039e+02,\n",
       "        1.18874245e+02,  1.46003072e+02,  6.66029313e+01,  1.27483779e+02,\n",
       "        3.03263406e+01, -1.81475496e+01, -9.81432945e+01,  5.18801911e+01,\n",
       "        1.51121143e+02,  3.99672564e+01, -1.33985452e+01,  1.63294486e+02,\n",
       "        9.87283908e+01,  1.06069369e+02,  3.96477933e+01,  1.71530848e+02,\n",
       "       -8.14658595e+01,  8.88228045e+01,  2.23513928e+02,  7.37387235e+00,\n",
       "        1.40542939e+02,  1.74492953e+02,  1.49420366e+02,  2.13283201e+02,\n",
       "        1.12372080e+02,  1.25399353e+02,  2.74509018e+02, -1.91962872e+02,\n",
       "        1.11539038e+02,  1.60953174e+02,  4.63727943e+01,  4.37284539e+01,\n",
       "        1.87327008e+02, -7.26923192e+01,  1.43661003e+02, -3.96833694e+01,\n",
       "        3.56200728e+01, -2.05950344e+01,  2.96913341e+00,  1.31674502e+02,\n",
       "       -8.56465446e+01,  1.90565963e+02,  8.63772845e+01,  2.13731844e+01,\n",
       "        8.78394356e+01, -1.44258251e+01,  1.13633958e+02,  1.51994732e+02,\n",
       "        1.04590993e+02,  1.04324462e+02,  2.00556280e+02,  5.51228937e+01,\n",
       "        1.25179110e+02,  1.57481002e+02,  2.26535280e+01,  1.20859075e+01,\n",
       "        1.87732534e+01,  7.04265042e+01,  1.72986122e+02,  9.68274390e+01,\n",
       "        1.03546901e+02,  8.72939508e+01,  1.00969736e+02, -4.25586425e+01,\n",
       "        1.73675355e+02, -1.42266908e+01,  4.59057681e+01,  8.41933875e+01,\n",
       "        5.29883580e+01,  9.14497802e+01,  1.07604424e+02, -7.29207804e+01,\n",
       "       -8.54535166e+01,  1.66881030e+01,  1.44791707e+02,  2.14861945e+02,\n",
       "        1.08843838e+02, -2.83424622e+00, -2.40251265e+01,  1.18591683e+02,\n",
       "       -6.10574117e+00,  2.24140449e+02,  9.49917792e+01,  1.35485651e+02,\n",
       "        5.01154990e-01,  1.19055995e+02,  2.03179402e+02,  8.39153597e+01,\n",
       "        7.53181092e+01, -5.02289462e+01, -1.08337242e+02,  4.33490360e+01,\n",
       "        5.53063026e+01,  2.80113091e+01,  2.69183484e+02,  1.56357604e+02,\n",
       "        1.26842847e+02,  2.25316748e+02,  8.04302580e+01, -5.47270174e+01,\n",
       "        5.79963394e+01,  3.44968546e+02,  4.75857758e+01, -9.83819217e+01,\n",
       "        3.39780211e+01,  5.01939199e+01, -8.19649939e+01,  4.14694114e+01,\n",
       "       -8.10391716e+01,  1.25183635e+02,  7.01648461e+01,  3.23506878e+02,\n",
       "        2.12507226e+02, -9.23111229e+01,  4.84551512e+01,  3.79436629e+01,\n",
       "        1.26553010e+02,  2.49685659e+02,  1.48038567e+02,  9.03907099e+01,\n",
       "        1.44003386e+02, -1.16760638e+02,  2.01695629e+01, -9.49730090e+00,\n",
       "        2.07844898e+02, -5.62663184e+01,  1.84962278e+02,  8.96193898e+00,\n",
       "        3.22486329e+02,  3.01317556e+01,  2.34217031e+02,  9.64039252e+01,\n",
       "        2.59634725e+02,  5.14587066e+01,  1.72321591e+02,  5.46179025e+01,\n",
       "        4.32968951e+01,  5.23645862e+01,  2.09422231e+02, -1.72630686e+02,\n",
       "       -1.87735541e+01,  4.66922555e+00,  1.07241986e+02,  3.03908453e+01,\n",
       "        9.04904774e+01,  2.11076750e+02,  1.20810351e+02,  5.42934758e+01,\n",
       "        5.46860285e+01,  6.37083170e+01, -2.60797957e+02,  9.73899483e+00,\n",
       "        5.11560646e+00,  5.51292023e+01,  2.53777972e+02,  2.84160460e+01,\n",
       "        1.69164055e+02,  1.38053132e+02,  2.28761143e+02,  2.82104306e+01,\n",
       "        5.45589591e+00,  1.10532087e+02,  3.22093235e+01,  1.20215180e+02,\n",
       "        2.47909405e+01,  9.09043466e+01,  6.70927234e+01,  1.22082959e+02,\n",
       "        2.39196168e+01, -9.15195893e+00,  1.77121686e+02,  1.79715777e+02,\n",
       "        9.15046746e+00,  1.14132417e+02, -3.06007176e+01,  2.48737758e+02,\n",
       "       -4.93702562e+01,  3.86823720e+01,  1.06283582e+02,  1.30341957e+02,\n",
       "        1.08451582e+02,  9.74281737e+00, -5.10069215e+01,  5.18349597e+01,\n",
       "        2.61597560e+02,  2.58953365e+01,  4.88003370e+01,  6.37297295e+01,\n",
       "        8.69575075e+01,  9.11952917e+01,  2.95842887e+01,  1.60842372e+02,\n",
       "        1.16366839e+02,  6.50637058e+01,  1.66888146e+01,  1.30731107e+02,\n",
       "        2.87055076e+02,  1.24481167e+02,  5.14307811e+01,  2.09693665e+02,\n",
       "        1.86921057e+02,  1.21918338e+01,  1.60010820e+02, -4.01421178e+00,\n",
       "        3.10010207e+01,  2.02953053e+02, -7.34927255e+00,  2.46772876e+02,\n",
       "        9.73124951e+01, -2.36070644e+01,  2.77667341e+01, -6.87017822e+01,\n",
       "        1.86996620e+02,  6.37134260e+01,  1.13023475e+02,  1.23513087e+01,\n",
       "        1.03917553e+02, -3.86074525e+01, -1.02929630e+02,  6.54248179e+01,\n",
       "       -6.82145904e+00,  5.38824853e+01, -1.22418432e+02,  1.01637372e+02,\n",
       "        2.44803248e+01, -4.60971549e+01,  1.28445223e+02, -7.03408377e+01,\n",
       "        4.95771912e+00,  1.64481532e+02, -1.05192759e+02,  7.96605151e+01,\n",
       "        7.07044665e+01, -7.98251875e+01,  1.76337512e+02,  5.10737855e+01,\n",
       "       -2.02768255e+01,  8.14425046e+01,  1.01640252e+01,  1.45459872e+02,\n",
       "        3.62531382e+01,  6.84132221e+00,  7.76606842e+01,  1.37660986e+02,\n",
       "        1.54619783e+02,  1.65068496e+02,  2.02168217e+02,  1.04914418e+02,\n",
       "        1.64369377e+02,  2.30102232e+02, -2.57355648e+01,  2.10949764e+02,\n",
       "        3.63924926e+01,  6.19889316e+01, -1.20589191e+02,  1.28672924e+02,\n",
       "       -5.41438362e+01,  1.32834728e+02,  1.58283078e+02,  1.12004287e+02,\n",
       "        7.21178159e+01,  1.26113076e+02, -1.37997057e+02,  2.19551539e+02,\n",
       "        1.31914405e+02, -7.55839069e+01, -2.14725626e+01,  1.13478640e+01,\n",
       "        2.08920539e+02,  9.09961846e+01, -9.41333461e+01,  1.96055018e+02,\n",
       "        4.19830896e+01, -1.02508760e+02,  4.27842848e+01, -9.53841997e+01,\n",
       "       -5.63826850e+01,  1.28243380e+02,  6.59134817e+01,  6.38656380e+01,\n",
       "        2.77751574e+02, -2.03267395e+01, -5.57681722e+01,  5.97381757e+01,\n",
       "        1.21444365e+02, -1.12789974e+02,  1.10396046e+02,  1.33850817e+02,\n",
       "        4.56310429e+01,  1.00942938e+02,  7.33576714e+01,  5.78390904e+01,\n",
       "        1.61487946e+01,  8.61154160e-01,  4.20670663e+01,  4.37977367e+00,\n",
       "        1.26288659e+02, -1.01372575e+02, -1.36808469e+02,  7.13173022e+01,\n",
       "        5.72494237e+01,  8.41357314e+01, -2.44606532e+01,  1.07717130e+01,\n",
       "        1.09605775e+02, -2.62680481e+01,  8.30700448e+01,  1.21844432e+02,\n",
       "       -5.96782465e+01, -1.56242463e+02,  1.80299055e+02,  5.32500049e+01,\n",
       "        1.23122251e+02,  6.14174331e+01,  4.78905167e+01,  1.15423764e+01,\n",
       "        1.45238219e+02,  2.52403002e+01, -1.00482062e+02,  8.36615995e+01,\n",
       "        6.96141837e+01, -6.51441565e+01,  1.36288065e+02,  6.61922935e+01,\n",
       "        1.31149799e+01, -1.40992280e+01,  2.84069274e+01, -4.01442877e+01,\n",
       "        1.47846733e+01,  1.67987567e+02,  3.56896041e+01,  4.32590798e+01,\n",
       "        4.67384556e+01,  1.66387114e+02,  3.18075829e+02,  1.61506863e+02,\n",
       "        1.42335996e+02,  7.35260793e+01,  1.18431465e+00, -7.53510073e+01,\n",
       "       -1.30521926e+01,  1.25052503e+02,  2.07537051e+02, -3.27552245e+01,\n",
       "        8.00174263e+01,  4.66484088e+01, -1.99789223e+02, -1.55562416e+01,\n",
       "        2.33245376e+02,  1.63488356e+02,  2.74654574e+02,  2.64621518e+02,\n",
       "        1.40054420e+01, -5.78916387e+01,  1.06082157e+02,  1.49890383e+02,\n",
       "        1.41486626e+01,  1.08419685e+02, -1.45950832e+01,  5.16040723e+01,\n",
       "       -4.71843559e+01,  2.26301069e+02,  7.31556928e+01, -1.21624046e+02,\n",
       "       -1.55750423e+01,  2.16324170e+02,  5.52413143e+01,  3.93943190e+02,\n",
       "       -1.16252572e+02,  1.46643087e+02, -1.00694514e+02,  1.76462229e+01,\n",
       "       -5.91868984e+01,  9.77762631e+01,  1.15962138e+02,  1.77247579e+02,\n",
       "       -1.41490677e+00, -6.35348777e+01,  8.92552604e+01,  1.50217826e+02,\n",
       "        4.46532092e+01,  4.40108190e+01, -4.91064605e+00, -3.48583217e+01,\n",
       "        1.32107177e+02,  6.15367703e+01,  1.85639831e+02,  1.18050499e+02,\n",
       "        2.21645532e+01,  2.66102337e+01,  1.12919407e+02,  1.23433736e+02,\n",
       "        1.08436137e+02, -8.51556500e+01, -1.09552494e+02,  1.68855140e+02,\n",
       "        1.77293305e+02,  8.80564647e+01,  1.32939563e+02,  2.58325146e+01,\n",
       "        5.13174868e+01,  1.26308941e+02,  4.67717935e+01,  9.46829858e+01,\n",
       "        1.69760170e+02,  1.79317379e+01,  2.33990671e+02, -5.26696498e+01,\n",
       "        2.78962618e+02, -9.49369663e+01,  7.60497114e+01,  1.26847300e+02,\n",
       "        3.66354659e+01, -3.86837199e+01,  2.54769792e+02, -8.20571415e+01,\n",
       "       -5.11405199e+01, -5.51177525e+01,  2.03267707e+02, -4.19070829e+01,\n",
       "        2.74812247e+02,  1.96211377e+02,  4.03750226e+01, -3.72349106e+01,\n",
       "       -1.02586243e+02,  4.04540487e+01,  8.30030200e+01, -1.49639152e+00,\n",
       "       -3.24656548e+00,  1.55031665e+02,  5.99042605e+01, -6.78930827e+01,\n",
       "        2.40302246e+01,  9.84375047e+01, -1.09695974e+02,  1.39513306e+02,\n",
       "       -1.69405798e+01,  8.00447055e+00,  7.71895047e+01,  2.07851009e+02,\n",
       "       -9.26424830e+01,  4.37643749e+01,  1.02766084e+02,  8.31143790e+01,\n",
       "        2.55267875e+02,  3.72762207e+02,  1.92321086e+02,  6.12154835e+01,\n",
       "        1.32918558e+02, -2.86311158e+01,  2.63583547e+02,  7.56201014e+00,\n",
       "        6.30500829e+01,  1.30247036e+02,  5.59783344e+01,  2.08532198e+02,\n",
       "        4.10967853e+01,  9.47286618e+01,  2.13135061e+02,  1.02974642e+02,\n",
       "        1.40474958e+02,  2.70437108e+02,  3.45536208e+01, -6.89082075e+01,\n",
       "        2.22289758e+02, -9.79670556e+01,  1.15917496e+02,  7.03159224e+00,\n",
       "       -4.00638472e+01,  1.70289244e+02, -2.21568099e+00,  9.99616137e+01,\n",
       "        6.19649216e+01,  4.35091594e+01,  4.30210402e+01,  2.35059026e+02,\n",
       "        9.49250083e+01,  1.11877746e+02,  3.40007562e+01,  1.23875062e+02,\n",
       "        1.54005901e+02,  1.25681711e+02,  2.19697265e+02, -2.12255136e+01,\n",
       "        1.24300803e+02, -4.11434335e+01,  9.76246788e+01,  7.51684944e+01,\n",
       "        6.44595117e+01, -1.74585726e+01,  3.47463860e+01,  1.86954767e+02,\n",
       "        2.74554313e+02,  2.55210481e+02,  1.41785615e+02,  2.82661755e+01,\n",
       "        2.92949525e+00,  1.26449353e+01, -1.02449379e+01,  1.18878740e+02,\n",
       "        4.12464278e+01,  2.55559105e+01,  9.04882640e+00,  1.59339933e+02,\n",
       "        6.09352563e+01,  2.60918284e+01, -1.26991154e+02,  1.75493321e+02,\n",
       "        1.90567181e+02,  3.79846866e+01, -2.20822972e+01,  1.35942316e+02,\n",
       "        1.03301839e+02, -7.32315561e+01,  8.50915631e+01,  9.07284556e+01,\n",
       "        2.23765873e+02, -6.05700807e+01,  1.29686256e+01,  1.49481058e+02,\n",
       "        1.09322468e+02, -8.15006943e+01, -9.85422931e+01,  2.69857773e+02,\n",
       "        3.29638223e+01,  1.21409648e+01,  1.29042677e+01,  2.54137632e+00,\n",
       "        9.50528097e+01,  1.03669954e+02,  2.76073002e+01,  4.16806583e+01,\n",
       "       -6.06171775e+01, -4.96469930e+00,  2.11531825e+02,  5.76845993e+01,\n",
       "        5.61840818e+01,  6.06035437e+01,  1.04524382e+02, -4.93071592e+01,\n",
       "        8.07137666e+01,  2.31772059e+02,  7.86756891e+01,  7.41403923e+01,\n",
       "        1.45207874e+02, -1.35757723e+01,  1.22203150e+02,  1.30775913e+02,\n",
       "        5.52003953e+01, -1.03004691e+02, -1.35802570e+01, -5.72190400e+01,\n",
       "       -7.51677367e+00,  1.73336022e+02,  1.84231714e+02,  1.74819619e+02,\n",
       "       -1.47666237e+02,  4.95949899e+01,  1.80257948e+01,  1.25850125e+02,\n",
       "        9.03523761e+01,  2.01010018e+02, -1.50942039e+02,  7.21344962e+01])"
      ]
     },
     "execution_count": 92,
     "metadata": {},
     "output_type": "execute_result"
    }
   ],
   "source": [
    "#An example of using the loc and scale parameters.\n",
    "#To create an array of values with a mean of 75 (loc) and a standard deviation of 100 (scale)\n",
    "c=np.random.normal( loc = 75, size = 1000, scale = 100)\n",
    "#The array will display a mix of positive and negative outputs.\n",
    "c"
   ]
  },
  {
   "cell_type": "code",
   "execution_count": 91,
   "metadata": {},
   "outputs": [
    {
     "data": {
      "text/plain": [
       "<function matplotlib.pyplot.show(*args, **kw)>"
      ]
     },
     "execution_count": 91,
     "metadata": {},
     "output_type": "execute_result"
    },
    {
     "data": {
      "image/png": "[encoded data removed]",
      "text/plain": [
       "<Figure size 432x288 with 1 Axes>"
      ]
     },
     "metadata": {
      "needs_background": "light"
     },
     "output_type": "display_data"
    }
   ],
   "source": [
    "plt.hist(c)\n",
    "plt.show"
   ]
  },
  {
   "cell_type": "markdown",
   "metadata": {},
   "source": [
    "The production of a plot displays how the normal distribution looks.<br>\n",
    "Normal distribution in its ideal form shows the majority of numbers concentrated centrally with an<br>\n",
    "equal dispersal of values tapering off to either side.\n",
    "In common usage the shape may not follow the ideal \"bell curve\" due to variations in the values."
   ]
  },
  {
   "cell_type": "markdown",
   "metadata": {},
   "source": [
    "### 2. uniform (low=0.0, high=1.0, size=None)"
   ]
  },
  {
   "cell_type": "code",
   "execution_count": 43,
   "metadata": {},
   "outputs": [],
   "source": [
    "#### Purpose"
   ]
  },
  {
   "cell_type": "code",
   "execution_count": 44,
   "metadata": {},
   "outputs": [],
   "source": [
    "#### Applications/Usage"
   ]
  },
  {
   "cell_type": "code",
   "execution_count": 45,
   "metadata": {},
   "outputs": [
    {
     "data": {
      "text/plain": [
       "array([10.70730945, 17.42992782, 16.13211034, 18.74120048, 11.50162743,\n",
       "       12.77673413, 14.9059506 ])"
      ]
     },
     "execution_count": 45,
     "metadata": {},
     "output_type": "execute_result"
    }
   ],
   "source": [
    "#uniform\n",
    "#produce an array of 7 random floating point numbers between 10 and 20\n",
    "#the output is in a continuous uniform distribution\n",
    "np.random.uniform (10,20,7)"
   ]
  },
  {
   "cell_type": "markdown",
   "metadata": {},
   "source": []
  },
  {
   "cell_type": "markdown",
   "metadata": {},
   "source": [
    "### 3. exponential (scale=1.0, size=None)¶"
   ]
  },
  {
   "cell_type": "code",
   "execution_count": 46,
   "metadata": {},
   "outputs": [],
   "source": [
    "#### Purpose"
   ]
  },
  {
   "cell_type": "markdown",
   "metadata": {},
   "source": [
    "The exponential distribution can be used to describe many common situation e.g. the size of raindrops measured during storms,   and often models waiting time e.g., the time it takes, after an event, for the next event to occur.\n",
    "It is linked to the poisson distribution.\n",
    "In order to use the numpy function, the inputs should be: **scale** (floats) and **size** (optional - integer format) to give an output of ndarray or scalar samples from an exponential distribution."
   ]
  },
  {
   "cell_type": "code",
   "execution_count": null,
   "metadata": {},
   "outputs": [],
   "source": []
  },
  {
   "cell_type": "code",
   "execution_count": 47,
   "metadata": {},
   "outputs": [],
   "source": [
    "#### Applications/Usage"
   ]
  },
  {
   "cell_type": "code",
   "execution_count": 120,
   "metadata": {},
   "outputs": [
    {
     "data": {
      "text/plain": [
       "3.6752303399828334"
      ]
     },
     "execution_count": 120,
     "metadata": {},
     "output_type": "execute_result"
    }
   ],
   "source": [
    "#An empty parenthesis generates a random number from exponential distribution\n",
    "np.random.exponential()"
   ]
  },
  {
   "cell_type": "code",
   "execution_count": 48,
   "metadata": {},
   "outputs": [
    {
     "data": {
      "text/plain": [
       "11.825672549942304"
      ]
     },
     "execution_count": 48,
     "metadata": {},
     "output_type": "execute_result"
    }
   ],
   "source": [
    "#This is a simple example of how selecting a random distribution with a scale of 10 and no size parameter.\n",
    "h= np.random.exponential(10)\n",
    "h"
   ]
  },
  {
   "cell_type": "code",
   "execution_count": 49,
   "metadata": {},
   "outputs": [
    {
     "data": {
      "text/plain": [
       "<function matplotlib.pyplot.show(*args, **kw)>"
      ]
     },
     "execution_count": 49,
     "metadata": {},
     "output_type": "execute_result"
    },
    {
     "data": {
      "image/png": "[encoded data removed]",
      "text/plain": [
       "<Figure size 432x288 with 1 Axes>"
      ]
     },
     "metadata": {
      "needs_background": "light"
     },
     "output_type": "display_data"
    }
   ],
   "source": [
    "plt.hist(h)\n",
    "#the plot displays the waiting time after an event for another to occur within the value of 10  \n",
    "plt.show"
   ]
  },
  {
   "cell_type": "markdown",
   "metadata": {},
   "source": [
    "This is much more elaborate example of exponential distribution usage applied to a plot comparing driven distance by frequency.\n",
    "https://stackoverflow.com/questions/15481808/matplotlib-if-i-set-fig-height-x-legend-is-cut-off/15482057#15482057"
   ]
  },
  {
   "cell_type": "code",
   "execution_count": 50,
   "metadata": {},
   "outputs": [
    {
     "data": {
      "text/plain": [
       "Text(0, 0.5, 'Frequency')"
      ]
     },
     "execution_count": 50,
     "metadata": {},
     "output_type": "execute_result"
    },
    {
     "data": {
      "image/png": "[encoded data removed]",
      "text/plain": [
       "<Figure size 550x400 with 1 Axes>"
      ]
     },
     "metadata": {
      "needs_background": "light"
     },
     "output_type": "display_data"
    }
   ],
   "source": [
    "\n",
    "from numpy import random\n",
    "from matplotlib import pyplot as plt\n",
    "driveDistance = random.exponential(size=100)\n",
    "fig1 = plt.figure(figsize=(5.5,4),dpi=100)\n",
    "ax = fig1.add_subplot(111)\n",
    "ax.grid(True,which='both')\n",
    "ax.hist(driveDistance,100)\n",
    "ax.set_xlabel('Driven Distance in km')\n",
    "ax.set_ylabel('Frequency')"
   ]
  },
  {
   "cell_type": "markdown",
   "metadata": {},
   "source": [
    "### 4.  binomial (n, p, size=None)"
   ]
  },
  {
   "cell_type": "markdown",
   "metadata": {},
   "source": [
    "#### Purpose"
   ]
  },
  {
   "cell_type": "markdown",
   "metadata": {},
   "source": [
    "The binomial distribution can be used in any instance repeated multiple times where there are deemed to be two possible outcomes - success or failure e.g. the purchase of a Lotto ticket - you either win something or you don't.<br>\n",
    "It is linked to the Bernoulli distribution. <br>\n",
    "In order to use the numpy function, the inputs should be: <br>\n",
    "**n**: number of trials (int or array_like of ints. Parameter of the distribution, >= 0. Floats are also accepted, but they will be truncated to integers.)<br>\n",
    "**p** : probability of success - float or array_like of floats (Parameter of the distribution, >= 0 and <=1.)<br>\n",
    "**size** : int or tuple of ints, optional<br>\n",
    "\n",
    "The output is of ndarray or scalar samples from the parameterized binomial distribution, where each sample is equal to the number of successes over the n trials"
   ]
  },
  {
   "cell_type": "markdown",
   "metadata": {},
   "source": [
    "#### Applications/Usage"
   ]
  },
  {
   "cell_type": "code",
   "execution_count": 122,
   "metadata": {},
   "outputs": [
    {
     "ename": "TypeError",
     "evalue": "binomial() takes at least 2 positional arguments (0 given)",
     "output_type": "error",
     "traceback": [
      "\u001b[1;31m---------------------------------------------------------------------------\u001b[0m",
      "\u001b[1;31mTypeError\u001b[0m                                 Traceback (most recent call last)",
      "\u001b[1;32m<ipython-input-122-0b42ce78c8e9>\u001b[0m in \u001b[0;36m<module>\u001b[1;34m\u001b[0m\n\u001b[0;32m      1\u001b[0m \u001b[1;31m#An empty parenthesis generates a random number from binomial distribution\u001b[0m\u001b[1;33m\u001b[0m\u001b[1;33m\u001b[0m\u001b[1;33m\u001b[0m\u001b[0m\n\u001b[1;32m----> 2\u001b[1;33m \u001b[0mnp\u001b[0m\u001b[1;33m.\u001b[0m\u001b[0mrandom\u001b[0m\u001b[1;33m.\u001b[0m\u001b[0mbinomial\u001b[0m\u001b[1;33m(\u001b[0m\u001b[1;33m)\u001b[0m\u001b[1;33m\u001b[0m\u001b[1;33m\u001b[0m\u001b[0m\n\u001b[0m",
      "\u001b[1;32mmtrand.pyx\u001b[0m in \u001b[0;36mmtrand.RandomState.binomial\u001b[1;34m()\u001b[0m\n",
      "\u001b[1;31mTypeError\u001b[0m: binomial() takes at least 2 positional arguments (0 given)"
     ]
    }
   ],
   "source": [
    "#An empty parenthesis roduces an error because this distribution requires at least 2 arguments.\n",
    "np.random.binomial()"
   ]
  },
  {
   "cell_type": "code",
   "execution_count": 51,
   "metadata": {},
   "outputs": [
    {
     "name": "stdout",
     "output_type": "stream",
     "text": [
      "[241 264 223 ... 254 265 257]\n"
     ]
    }
   ],
   "source": [
    "#code verbatim from https://discuss.codecademy.com/t/what-does-the-np-random-binomial-function-return/361162\n",
    "# n = 500 (samples or trials)\n",
    "# p = 0.5 (probability of success)\n",
    "# size = 10000 (number of experiments)\n",
    "# The result is 10000 randomly selected \n",
    "# experiments from the distribution using the binomial distribution of two possible outcomes\n",
    "# [241, 262, ..., 248, 255, 235]\n",
    "tests = np.random.binomial(500, 0.5, size=10000)\n",
    "print(tests)"
   ]
  },
  {
   "cell_type": "code",
   "execution_count": 52,
   "metadata": {},
   "outputs": [
    {
     "data": {
      "text/plain": [
       "<function matplotlib.pyplot.show(*args, **kw)>"
      ]
     },
     "execution_count": 52,
     "metadata": {},
     "output_type": "execute_result"
    },
    {
     "data": {
      "image/png": "[encoded data removed]",
      "text/plain": [
       "<Figure size 432x288 with 1 Axes>"
      ]
     },
     "metadata": {
      "needs_background": "light"
     },
     "output_type": "display_data"
    }
   ],
   "source": [
    "plt.hist(tests)\n",
    "#the plot displays the majority of results around 250 half of the sample (500), that is consistent with the binomial\n",
    "#principle of two possible outcomes.  \n",
    "plt.show"
   ]
  },
  {
   "cell_type": "markdown",
   "metadata": {},
   "source": [
    "I note that the resulting plot resembles the \"bell shaped\" curve of a normal distribution.  \n",
    "Normal distribution can be used as an approximation to the binomial distribution, under certain circumstances."
   ]
  },
  {
   "cell_type": "markdown",
   "metadata": {},
   "source": [
    "### 5. poisson (lam=1.0, size=None)"
   ]
  },
  {
   "cell_type": "code",
   "execution_count": 53,
   "metadata": {},
   "outputs": [],
   "source": [
    "#### Use and Purpose"
   ]
  },
  {
   "cell_type": "markdown",
   "metadata": {},
   "source": [
    "The Poisson distribution is used to plot the likelihood of a certain number of events within an expected time interval.\n",
    "It is linked to exponential distribution which can be used models the waiting time between such events."
   ]
  },
  {
   "cell_type": "markdown",
   "metadata": {},
   "source": [
    "In order to use the poisson numpy function, the two inputs should be: <br>\n",
    "**lam** : >= 0 float or array_like of floats (lam/lambda is a mathematical function)<br>\n",
    "**size** : optional, int or tuple of ints<br>\n",
    "The output is of ndarray or scalar samples from the parameterized poisson distribution."
   ]
  },
  {
   "cell_type": "code",
   "execution_count": 54,
   "metadata": {},
   "outputs": [],
   "source": [
    "#s = the probability of 2000 events over intervals of 3\n",
    "s = np.random.poisson(3,2000)"
   ]
  },
  {
   "cell_type": "code",
   "execution_count": null,
   "metadata": {},
   "outputs": [],
   "source": []
  },
  {
   "cell_type": "code",
   "execution_count": 55,
   "metadata": {},
   "outputs": [
    {
     "data": {
      "text/plain": [
       "<function matplotlib.pyplot.show(*args, **kw)>"
      ]
     },
     "execution_count": 55,
     "metadata": {},
     "output_type": "execute_result"
    },
    {
     "data": {
      "image/png": "[encoded data removed]",
      "text/plain": [
       "<Figure size 432x288 with 1 Axes>"
      ]
     },
     "metadata": {
      "needs_background": "light"
     },
     "output_type": "display_data"
    }
   ],
   "source": [
    "plt.hist(s)\n",
    "#the plot displays the number of occurences along the horizontal axis and the probability along the vertical one.  \n",
    "  \n",
    "plt.show"
   ]
  },
  {
   "cell_type": "code",
   "execution_count": null,
   "metadata": {},
   "outputs": [],
   "source": []
  },
  {
   "cell_type": "code",
   "execution_count": null,
   "metadata": {},
   "outputs": [],
   "source": []
  },
  {
   "cell_type": "code",
   "execution_count": null,
   "metadata": {},
   "outputs": [],
   "source": []
  },
  {
   "cell_type": "code",
   "execution_count": null,
   "metadata": {},
   "outputs": [],
   "source": []
  },
  {
   "cell_type": "code",
   "execution_count": 56,
   "metadata": {},
   "outputs": [
    {
     "ename": "SyntaxError",
     "evalue": "invalid syntax (<ipython-input-56-041c0bf06d90>, line 1)",
     "output_type": "error",
     "traceback": [
      "\u001b[1;36m  File \u001b[1;32m\"<ipython-input-56-041c0bf06d90>\"\u001b[1;36m, line \u001b[1;32m1\u001b[0m\n\u001b[1;33m    Normal Approximations  https://revisionmaths.com/advanced-level-maths-revision/statistics/normal-approximations\u001b[0m\n\u001b[1;37m                        ^\u001b[0m\n\u001b[1;31mSyntaxError\u001b[0m\u001b[1;31m:\u001b[0m invalid syntax\n"
     ]
    }
   ],
   "source": [
    "Normal Approximations  https://revisionmaths.com/advanced-level-maths-revision/statistics/normal-approximations"
   ]
  },
  {
   "cell_type": "markdown",
   "metadata": {},
   "source": [
    "## Section 4: Explain the use of seeds in generating pseudorandom numbers.\n",
    "\n",
    "The topic of seeds and random number generation is currently an active area of research.  \n",
    "For example, the paper [Design and Analysis of a True Random Number Generator Based on GSR Signals for Body Sensor Network](https://www.mdpi.com/1424-8220/19/9/2033) published in 2019 explores how a TRNG can be created using the vital signs of a monitored patient and this in turn is used to encrypt their medical data that is being transmitted on a radio signal.<br>\n",
    "Computers have difficulty generating truly random numbers and require a mechanism to do so; therefore \n",
    "a number is not actually random but appears to be so i.e., pseudo random.\n",
    "\n",
    "The term \"seed\" refers to the starting position of generating pseudo-random numbers which then uses an algorithim to continue producing numbers e.g. multiplying this by a large number then taking modulo (remainder after division) of the product\n",
    "The seed is linked to the system time when the number was generated, i.e., when the numpy random generator is imported onto your machine the seed is selected and holds from that moment on.  \n",
    "\n",
    "If the seed is known/set it is possible to predict the pattern because the algorithm will do the same equation and return the same numbers at  each iteration. \n",
    "Setting the seed is useful when demonstrating or testing code, e.g., a script can calculate results based on a \n",
    "random selection of numbers, then after debugging, test the code again using the same selection of numbers so that the code will do the same thing.\n",
    "\n",
    "\n",
    "When seemingly random numbers are required: do not set the seed. \n",
    "To get the most random numbers for each run, call numpy.random.seed(). This will cause numpy to set the seed to a random number obtained from /dev/urandom or its Windows analog or, if neither of those is available, it will use the clock.\n",
    "***"
   ]
  },
  {
   "cell_type": "markdown",
   "metadata": {},
   "source": [
    "### Examples of the seed function\n",
    "#### In order to illustrate the use of seed function I will compare two scripts"
   ]
  },
  {
   "cell_type": "code",
   "execution_count": null,
   "metadata": {},
   "outputs": [],
   "source": [
    "#from the numpy random module, import randint - the command that returns random integers from your indicated\n",
    "#selection of low to high\n",
    "from random import randint\n",
    "#print a selection of 10 random integers between 1 and 10\n",
    "for i in range (10):print (randint(1,10))\n",
    "#this command,if used, would instead just print one integer: print (randint(1,10))"
   ]
  },
  {
   "cell_type": "code",
   "execution_count": null,
   "metadata": {},
   "outputs": [],
   "source": [
    "#This script first imports seed, then includes the call for the seed function which I have set at 33\n",
    "#When the seed is set each iteration produces the same sequence.\n",
    "from random import randint, seed\n",
    "seed(33)\n",
    "for i in range (10):print (randint(1,10))"
   ]
  },
  {
   "cell_type": "code",
   "execution_count": null,
   "metadata": {},
   "outputs": [],
   "source": [
    "#this time using the random function\n",
    "#the output is always the same\n",
    "np.random.seed (33)\n",
    "np.random.random()"
   ]
  },
  {
   "cell_type": "code",
   "execution_count": null,
   "metadata": {},
   "outputs": [],
   "source": []
  },
  {
   "cell_type": "code",
   "execution_count": null,
   "metadata": {},
   "outputs": [],
   "source": []
  },
  {
   "cell_type": "markdown",
   "metadata": {},
   "source": [
    "## Summary"
   ]
  },
  {
   "cell_type": "markdown",
   "metadata": {},
   "source": [
    "I have explained the benefits of randomness and the overall purpose of the numpy.random package in Python.<br>\n",
    "I have set out the current simple random data options and described three of them (rand, choice and bytes) in detail with a combination of scripts and plots. <br>\n",
    "I have described the use and purpose of five “Distributions” functions using scripts and examples of usage.<br>\n",
    "Finally, I have explained the background of pseudorandom numbers and demonstrated usage of the seed function.<br>"
   ]
  },
  {
   "cell_type": "code",
   "execution_count": null,
   "metadata": {},
   "outputs": [],
   "source": []
  }
 ],
 "metadata": {
  "kernelspec": {
   "display_name": "Python 3",
   "language": "python",
   "name": "python3"
  },
  "language_info": {
   "codemirror_mode": {
    "name": "ipython",
    "version": 3
   },
   "file_extension": ".py",
   "mimetype": "text/x-python",
   "name": "python",
   "nbconvert_exporter": "python",
   "pygments_lexer": "ipython3",
   "version": "3.7.1"
  }
 },
 "nbformat": 4,
 "nbformat_minor": 2
}
