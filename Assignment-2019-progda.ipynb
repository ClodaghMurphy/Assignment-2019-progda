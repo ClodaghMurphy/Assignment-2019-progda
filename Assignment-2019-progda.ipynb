{
 "cells": [
  {
   "cell_type": "markdown",
   "metadata": {},
   "source": [
    "# Assignment 2019 Programming for Data Analysis\n",
    "## Due: last commit on or before November 11th"
   ]
  },
  {
   "cell_type": "markdown",
   "metadata": {},
   "source": [
    "1. Explain the overall purpose of the numpy.random package in Python.\n",
    "2. Explain the use of the “Simple random data” and “Permutations” functions.\n",
    "3. Explain the use and purpose of at least five “Distributions” functions.\n",
    "4. Explain the use of seeds in generating pseudorandom numbers.\n",
    "***"
   ]
  },
  {
   "cell_type": "markdown",
   "metadata": {},
   "source": [
    "## Section 1: Explain the overall purpose of the numpy.random package in Python."
   ]
  },
  {
   "cell_type": "markdown",
   "metadata": {},
   "source": [
    "Randomness is becoming more imortant in computer science - randomised approaches can often outperform deterministic (i.e. no randomness at all) ones or at least,  get close to an optimal solution in a shorter time frame by \"strategcially flipping a few coins while their deterministic cousins sweat it out\".  \n",
    "Brian Christian and Tom Griffiths (2016), _Algorithms To Live By_ William Collins Books pg 182.\n",
    "\n",
    "NumPy, short for Numerical Python, is a linear algebra library in Python that most data science Python packages e.g, Mat−plotlib and Scikit-learn are built on.  NumPy specialises in working with large collections of Python objects called multi-dimensional arrays, this data structure is called ndarray (n-dimensional array).\n",
    "\n",
    "The Python numpy.random package generates random sample numbers, this function is useful when there is a requirement for\n",
    "unpredictability.  \n",
    "The Python Library warns that the package should not be used for cryptographic purposes. \n",
    "\n",
    "NumPy is specialized for building large, multi-dimensional arrays therefore the standard random module that is built into python is a faster option when just an individual random value or small sequence is required. \n",
    "\n",
    "\n",
    "\n",
    "Almost all module functions depend on the basic function random(), which generates a random float uniformly in the half-open range [low, high) [0.0  , 1)\n",
    "\n",
    "\n",
    "The square brackets indicate where the numbers start and the round brackets show that the highest range is 1 but does not include 1. 0 <= n <1.0\n",
    "\n",
    "The basic random ( ) function will return a uniform distribution of numbers.\n",
    "If a different type of distribution is required - there are many more to choose from within the package. \n",
    "The \"Mersenne Twister\" pseudo random number generator (PRNG) algorithm is used to generate numbers in NumPy whereas a true random number generator is usually hardware based.\n",
    "\n",
    "\n",
    "***\n"
   ]
  },
  {
   "cell_type": "markdown",
   "metadata": {},
   "source": [
    "## Examples of the numpy random package"
   ]
  },
  {
   "cell_type": "markdown",
   "metadata": {},
   "source": [
    "### .random()"
   ]
  },
  {
   "cell_type": "code",
   "execution_count": 5,
   "metadata": {},
   "outputs": [
    {
     "data": {
      "text/plain": [
       "0.697692257239186"
      ]
     },
     "execution_count": 5,
     "metadata": {},
     "output_type": "execute_result"
    }
   ],
   "source": [
    "#This is the most basic use of the command - produces numbers between 0 and up to but not including 1\n",
    "#Each time this command is called it will produce a different number\n",
    "import numpy as np\n",
    "import random\n",
    "#when the parenthesis are left empty, the output defaults to one.\n",
    "np.random.random()"
   ]
  },
  {
   "cell_type": "code",
   "execution_count": 6,
   "metadata": {},
   "outputs": [
    {
     "data": {
      "text/plain": [
       "array([0.85391531, 0.55373007, 0.29862417, 0.71345277, 0.58030699,\n",
       "       0.42579884, 0.32737053])"
      ]
     },
     "execution_count": 6,
     "metadata": {},
     "output_type": "execute_result"
    }
   ],
   "source": [
    "#the inclusion of 7 produces an array of 7 random numbers\n",
    "np.random.random(7)"
   ]
  },
  {
   "cell_type": "markdown",
   "metadata": {},
   "source": [
    "### .randint()"
   ]
  },
  {
   "cell_type": "code",
   "execution_count": 7,
   "metadata": {},
   "outputs": [
    {
     "data": {
      "text/plain": [
       "5"
      ]
     },
     "execution_count": 7,
     "metadata": {},
     "output_type": "execute_result"
    }
   ],
   "source": [
    "#the randint() method (random integer) produces whole numbers\n",
    "#this is an interesting example that uses the command to recreate the result of rolling a six sided dice\n",
    "#from the numpy random module, import randint - the command that returns random integers from your indicated\n",
    "#selection of low to high with the upperbounds being exclusive\n",
    "#call np.random.randint(1, 7) 7 must be included so that the number 6 can be selected randomly\n",
    "np.random.randint(1, 7)"
   ]
  },
  {
   "cell_type": "markdown",
   "metadata": {},
   "source": [
    "### example 3 of 3 with comments"
   ]
  },
  {
   "cell_type": "code",
   "execution_count": 8,
   "metadata": {},
   "outputs": [],
   "source": [
    "\n",
    "#something more advanced, also an example of data"
   ]
  },
  {
   "cell_type": "markdown",
   "metadata": {},
   "source": [
    "***"
   ]
  },
  {
   "cell_type": "markdown",
   "metadata": {},
   "source": [
    "## Section 2: Explain the use of the “Simple random data” and “Permutations” functions"
   ]
  },
  {
   "cell_type": "markdown",
   "metadata": {},
   "source": [
    "## _Simple Random Data_\n",
    "\n",
    "The simple random data commands offer the most straighforward pseudo random numbers functions for use in scripts. <br>At time of writing there are ten options.\n",
    "I am going to go into detail of a sample of three.\n",
    "\n",
    "Simple random data function | Description\n",
    "------------ | -------------\n",
    "rand(d0, d1, ..., dn)\t| Random values in a given shape.<br>\n",
    "randn(d0, d1, ..., dn)\t|  Return a sample (or samples) from the “standard normal” distribution.<br>\n",
    "randint(low[, high, size, dtype]) |\tReturn random integers from low (inclusive) to high (exclusive).<br>\n",
    "random_integers(low[, high, size]) |\tRandom integers of type np.int between low and high, inclusive.<br>\n",
    "random_sample([size])\t|  Return random floats in the half-open interval [0.0, 1.0).<br>\n",
    "random([size]) | Return random floats in the half-open interval [0.0, 1.0).<br>\n",
    "ranf([size]) |\tReturn random floats in the half-open interval [0.0, 1.0).<br>\n",
    "sample([size])|\tReturn random floats in the half-open interval [0.0, 1.0).<br>\n",
    "choice(a[, size, replace, p])\t|Generates a random sample from a given 1-D array<br>\n",
    "bytes(length)\t|  Return random bytes.<br>"
   ]
  },
  {
   "cell_type": "markdown",
   "metadata": {},
   "source": [
    "### _rand_"
   ]
  },
  {
   "cell_type": "code",
   "execution_count": 9,
   "metadata": {},
   "outputs": [
    {
     "data": {
      "text/plain": [
       "array([[[0.22569249, 0.21698266, 0.41324663],\n",
       "        [0.34747333, 0.77200214, 0.60924063]]])"
      ]
     },
     "execution_count": 9,
     "metadata": {},
     "output_type": "execute_result"
    }
   ],
   "source": [
    "#rand(d0, d1, ..., dn)\n",
    "#calling the rand function produces values in a particular shape of array that is denoted by the appearance of: d0,d1...,dn\n",
    "#the parameters input influence the \"shape\"\n",
    "#but the random numbers created will always be in the half-open range [low, high) [0.0  , 1)\n",
    "np.random.rand(1,2,3)"
   ]
  },
  {
   "cell_type": "code",
   "execution_count": 10,
   "metadata": {},
   "outputs": [
    {
     "data": {
      "text/plain": [
       "<function matplotlib.pyplot.show(*args, **kw)>"
      ]
     },
     "execution_count": 10,
     "metadata": {},
     "output_type": "execute_result"
    },
    {
     "data": {
      "image/png": "[encoded data removed]",
      "text/plain": [
       "<Figure size 432x288 with 1 Axes>"
      ]
     },
     "metadata": {
      "needs_background": "light"
     },
     "output_type": "display_data"
    }
   ],
   "source": [
    "#The supporting documentation advises that this function produces a uniform distribution, i.e. that all numbers have an \n",
    "#equal likelihood of being randomly selected\n",
    "#by plotting a large parameter in a histogram, this idea can be demonstrated to better understand what \"uniform\" means\n",
    "a = np.random.rand(5000,10)\n",
    "#matplotlib is required for plotting\n",
    "import matplotlib.pyplot as plt\n",
    "\n",
    "plt.hist(a)\n",
    "plt.show"
   ]
  },
  {
   "cell_type": "markdown",
   "metadata": {},
   "source": [
    "### _.choice_"
   ]
  },
  {
   "cell_type": "code",
   "execution_count": 11,
   "metadata": {},
   "outputs": [
    {
     "data": {
      "text/plain": [
       "array([3, 2, 4, 0])"
      ]
     },
     "execution_count": 11,
     "metadata": {},
     "output_type": "execute_result"
    }
   ],
   "source": [
    "#choice(a[, size, replace, p])\t\n",
    "#various parameters (or none) can be input when using numpy.random.choice\n",
    "#p refers to probabilities, if none are given then the default is uniform distribution\n",
    "np.random.choice(5,4,replace=False)"
   ]
  },
  {
   "cell_type": "code",
   "execution_count": 12,
   "metadata": {},
   "outputs": [
    {
     "data": {
      "text/plain": [
       "2"
      ]
     },
     "execution_count": 12,
     "metadata": {},
     "output_type": "execute_result"
    }
   ],
   "source": [
    "#this example provides a one dimensional array called nums\n",
    "#by calling the choice function, a random sample is generated from the given 1-D array\n",
    "nums= [2,4,6,8]\n",
    "np.random.choice(nums)"
   ]
  },
  {
   "cell_type": "code",
   "execution_count": 13,
   "metadata": {},
   "outputs": [],
   "source": [
    "#another example for choice using a virtual pack of cards\n",
    "cards = [\"AS\", \"2S\", \"3S\", \"4S\", \"5S\", \"6S\", \"7S\", \"8S\", \"9S\", \"TS\", \"JS\", \"QS\", \"KS\",\n",
    "         \"AH\", \"2H\", \"3H\", \"4H\", \"5H\", \"6H\", \"7H\", \"8H\", \"9H\", \"TH\", \"JH\", \"QH\", \"KH\",\n",
    "         \"AC\", \"2C\", \"3C\", \"4C\", \"5C\", \"6C\", \"7C\", \"8C\", \"9C\", \"TC\", \"JC\", \"QC\", \"KC\",\n",
    "         \"AD\", \"2D\", \"3D\", \"4D\", \"5D\", \"6D\", \"7D\", \"8D\", \"9D\", \"TD\", \"JD\", \"QD\", \"KD\"]"
   ]
  },
  {
   "cell_type": "code",
   "execution_count": 14,
   "metadata": {},
   "outputs": [
    {
     "data": {
      "text/plain": [
       "'4C'"
      ]
     },
     "execution_count": 14,
     "metadata": {},
     "output_type": "execute_result"
    }
   ],
   "source": [
    "random.choice(cards)"
   ]
  },
  {
   "cell_type": "code",
   "execution_count": 15,
   "metadata": {},
   "outputs": [],
   "source": [
    "#using .choice() to randomly choose a simple random data function!\n",
    "simple_random_data = ['rand', 'randn', 'randint', 'random_integers', 'random_sample', 'random', 'ranf', 'sample', 'choice', 'bytes']"
   ]
  },
  {
   "cell_type": "code",
   "execution_count": 16,
   "metadata": {},
   "outputs": [
    {
     "data": {
      "text/plain": [
       "'choice'"
      ]
     },
     "execution_count": 16,
     "metadata": {},
     "output_type": "execute_result"
    }
   ],
   "source": [
    "np.random.choice(simple_random_data)"
   ]
  },
  {
   "cell_type": "markdown",
   "metadata": {},
   "source": [
    "### _.bytes_"
   ]
  },
  {
   "cell_type": "code",
   "execution_count": 17,
   "metadata": {},
   "outputs": [
    {
     "data": {
      "text/plain": [
       "b'\\xf6~\\xa7T\\xcf\\x1d>\\xd3\\xdc\\x13\\r\\xc8\\xe9\\xf2\\xb7\\xaf6d\\xdb\\xfc]I\\x0es#\\xd6\\x10\\xeaP1\\xef\\xc6j\\xe9\\xc2\\x0b\\x1b\\xae\\x8d\\xbb\\x1f;\\xa9\\xea\\xd1\\xda\\xb9k\\x1d0\\x16h*\\xe8\\xa0|\\xc0\\xbc\\xf5\\x17p\\x03\\xc4G\\x91\\xcd+\\x06\\xdaM\\xe5\\xc8:\\x0e\\xe9\\x015\\x94\\xf3\\xff\\x96\\x94\\x8c\\x1c\\xc8/!\\xc2\\xe3\\xa8\\x94\\xb0\\xfe\\xbfV\\x0bI* /\\xb7g %\\xad\\xda4\\x0f\\xd6\\xf3\\xef\\xa65\\xe8\\xe2\\xb9\\xac\\xd8\\x1e\\xfe&P\\r\\x16S\\xed\\xe8S\\x93w\\xa8_\\xf3\\xbe5\\n\\xe5`\\x9e\\xd72\\x8a\\x05G\\xfbJM\\xf9\\xac\\xff\\x99\\xa2\\xf9\\x8c\\xa9\\xc1&8\\xaa\\xe3\\xaa\\xd3`\\xcf\\x1c\\x19&\\x8c\\x80\\x88\\x08\\xf9\\xd8\\x98\\x17\\xa4V\\xe5\\xc9\\xd8\\x80Z\\x88\\xf4\\x13*\\xc5\\xf5o\\xb0\\x05\\xf7Z\\xc1\\x12,\\xbc\\xe4\\xea\\x1b'"
      ]
     },
     "execution_count": 17,
     "metadata": {},
     "output_type": "execute_result"
    }
   ],
   "source": [
    "#bytes function is used to return a string of random bytes ( 8 bits) of the length input in parenthesis\n",
    "#this is a useful tool if a large number of pseudo random bytes is required to be efficiently generated\n",
    "np.random.bytes(200)\n"
   ]
  },
  {
   "cell_type": "markdown",
   "metadata": {},
   "source": [
    "[Stefano Cappellini](https://www.stefanocappellini.it/generate-pseudorandom-bytes-with-python/) compared various numpy random functions to generate 1048576 bytes (1MB) .bytes was the most efficient with an execution time of 0.001017 seconds . "
   ]
  },
  {
   "cell_type": "markdown",
   "metadata": {},
   "source": [
    "### _Summary of Simple Random Data_\n",
    "These options are useful tools as an introduction to the concept of pseudo random number generation.\n",
    "When used in conjunction with matplotlib to generate plots of the data, the ideas can be more effectively conveyed for those without a mathematical background."
   ]
  },
  {
   "cell_type": "markdown",
   "metadata": {},
   "source": [
    "## _Permutations_\n",
    "There are two types of permutation functions - shuffle and permutation. <br>\n",
    "Shuffle modifies the contents of a list that has been passed into the argument by \"shuffling\" its contents - not providing new numbers.<br>\n",
    "This means the original order is lost after being passed through shuffle.\n",
    "Permute rearranges the array, in the case of a multi-dimensional array, it is only shuffled along its first index.<br>"
   ]
  },
  {
   "cell_type": "code",
   "execution_count": 18,
   "metadata": {},
   "outputs": [],
   "source": [
    "#to demonstrate an example of shuffle\n",
    "#first create a range called a\n",
    "a=np.arange (10)"
   ]
  },
  {
   "cell_type": "code",
   "execution_count": 19,
   "metadata": {},
   "outputs": [
    {
     "data": {
      "text/plain": [
       "array([0, 1, 2, 3, 4, 5, 6, 7, 8, 9])"
      ]
     },
     "execution_count": 19,
     "metadata": {},
     "output_type": "execute_result"
    }
   ],
   "source": [
    "a"
   ]
  },
  {
   "cell_type": "code",
   "execution_count": 20,
   "metadata": {},
   "outputs": [],
   "source": [
    "#pass the argument of a into the shuffle function\n",
    "#the array is rearranged.\n",
    "np.random.shuffle (a)"
   ]
  },
  {
   "cell_type": "code",
   "execution_count": 21,
   "metadata": {},
   "outputs": [
    {
     "data": {
      "text/plain": [
       "array([6, 5, 4, 7, 9, 0, 1, 8, 2, 3])"
      ]
     },
     "execution_count": 21,
     "metadata": {},
     "output_type": "execute_result"
    }
   ],
   "source": [
    "a"
   ]
  },
  {
   "cell_type": "code",
   "execution_count": 22,
   "metadata": {},
   "outputs": [
    {
     "data": {
      "text/plain": [
       "array([1, 0, 6, 8, 7, 9, 5, 2, 4, 3])"
      ]
     },
     "execution_count": 22,
     "metadata": {},
     "output_type": "execute_result"
    }
   ],
   "source": [
    "#the output is a permuted sequence or array range.\n",
    "np.random.permutation(a)"
   ]
  },
  {
   "cell_type": "markdown",
   "metadata": {},
   "source": [
    "\n"
   ]
  },
  {
   "cell_type": "code",
   "execution_count": 23,
   "metadata": {},
   "outputs": [],
   "source": [
    "b=np.random.rand(3,2,1)"
   ]
  },
  {
   "cell_type": "code",
   "execution_count": 24,
   "metadata": {},
   "outputs": [
    {
     "data": {
      "text/plain": [
       "array([[[0.21344534],\n",
       "        [0.11819535]],\n",
       "\n",
       "       [[0.32474478],\n",
       "        [0.57057424]],\n",
       "\n",
       "       [[0.88985378],\n",
       "        [0.69515134]]])"
      ]
     },
     "execution_count": 24,
     "metadata": {},
     "output_type": "execute_result"
    }
   ],
   "source": [
    "#use of a multi-dimensional array to illustrate how it is only shuffled along its first index\n",
    "np.random.permutation(b)"
   ]
  },
  {
   "cell_type": "code",
   "execution_count": 25,
   "metadata": {},
   "outputs": [],
   "source": [
    "c=np.random.rand(5,4,3)"
   ]
  },
  {
   "cell_type": "code",
   "execution_count": 26,
   "metadata": {},
   "outputs": [],
   "source": [
    "np.random.shuffle(c)"
   ]
  },
  {
   "cell_type": "code",
   "execution_count": 27,
   "metadata": {},
   "outputs": [
    {
     "data": {
      "text/plain": [
       "array([[[0.50481409, 0.76807737, 0.26982372],\n",
       "        [0.01015166, 0.82932071, 0.1237941 ],\n",
       "        [0.52748306, 0.01016616, 0.38900629],\n",
       "        [0.77985436, 0.98804765, 0.06872464]],\n",
       "\n",
       "       [[0.66673863, 0.83819208, 0.74051735],\n",
       "        [0.25050468, 0.29250368, 0.43969503],\n",
       "        [0.59907024, 0.42834973, 0.30775195],\n",
       "        [0.86352147, 0.43077074, 0.6856411 ]],\n",
       "\n",
       "       [[0.92195282, 0.1289717 , 0.74856153],\n",
       "        [0.53879589, 0.14738045, 0.97004422],\n",
       "        [0.30411764, 0.58420268, 0.10755597],\n",
       "        [0.5741184 , 0.0258173 , 0.51094345]],\n",
       "\n",
       "       [[0.13897025, 0.79898263, 0.24420823],\n",
       "        [0.50316372, 0.90159692, 0.14437703],\n",
       "        [0.82395471, 0.11251199, 0.74170037],\n",
       "        [0.79492869, 0.27318764, 0.66343058]],\n",
       "\n",
       "       [[0.39645529, 0.83396289, 0.02416419],\n",
       "        [0.4204876 , 0.08275706, 0.69935985],\n",
       "        [0.03379183, 0.8487549 , 0.68121424],\n",
       "        [0.35171545, 0.65222564, 0.87852758]]])"
      ]
     },
     "execution_count": 27,
     "metadata": {},
     "output_type": "execute_result"
    }
   ],
   "source": [
    "c"
   ]
  },
  {
   "cell_type": "code",
   "execution_count": 28,
   "metadata": {},
   "outputs": [
    {
     "data": {
      "text/plain": [
       "array([[[0.50481409, 0.76807737, 0.26982372],\n",
       "        [0.01015166, 0.82932071, 0.1237941 ],\n",
       "        [0.52748306, 0.01016616, 0.38900629],\n",
       "        [0.77985436, 0.98804765, 0.06872464]],\n",
       "\n",
       "       [[0.92195282, 0.1289717 , 0.74856153],\n",
       "        [0.53879589, 0.14738045, 0.97004422],\n",
       "        [0.30411764, 0.58420268, 0.10755597],\n",
       "        [0.5741184 , 0.0258173 , 0.51094345]],\n",
       "\n",
       "       [[0.66673863, 0.83819208, 0.74051735],\n",
       "        [0.25050468, 0.29250368, 0.43969503],\n",
       "        [0.59907024, 0.42834973, 0.30775195],\n",
       "        [0.86352147, 0.43077074, 0.6856411 ]],\n",
       "\n",
       "       [[0.13897025, 0.79898263, 0.24420823],\n",
       "        [0.50316372, 0.90159692, 0.14437703],\n",
       "        [0.82395471, 0.11251199, 0.74170037],\n",
       "        [0.79492869, 0.27318764, 0.66343058]],\n",
       "\n",
       "       [[0.39645529, 0.83396289, 0.02416419],\n",
       "        [0.4204876 , 0.08275706, 0.69935985],\n",
       "        [0.03379183, 0.8487549 , 0.68121424],\n",
       "        [0.35171545, 0.65222564, 0.87852758]]])"
      ]
     },
     "execution_count": 28,
     "metadata": {},
     "output_type": "execute_result"
    }
   ],
   "source": [
    "#use of a multi-dimensional array to illustrate how it is only shuffled along its first index\n",
    "np.random.permutation(c)"
   ]
  },
  {
   "cell_type": "code",
   "execution_count": 29,
   "metadata": {},
   "outputs": [],
   "source": [
    "#permutation and shuffle a virtual deck of cards\n",
    "cards = [\"AS\", \"2S\", \"3S\", \"4S\", \"5S\", \"6S\", \"7S\", \"8S\", \"9S\", \"TS\", \"JS\", \"QS\", \"KS\",\n",
    "         \"AH\", \"2H\", \"3H\", \"4H\", \"5H\", \"6H\", \"7H\", \"8H\", \"9H\", \"TH\", \"JH\", \"QH\", \"KH\",\n",
    "         \"AC\", \"2C\", \"3C\", \"4C\", \"5C\", \"6C\", \"7C\", \"8C\", \"9C\", \"TC\", \"JC\", \"QC\", \"KC\",\n",
    "         \"AD\", \"2D\", \"3D\", \"4D\", \"5D\", \"6D\", \"7D\", \"8D\", \"9D\", \"TD\", \"JD\", \"QD\", \"KD\"]"
   ]
  },
  {
   "cell_type": "code",
   "execution_count": 30,
   "metadata": {},
   "outputs": [
    {
     "data": {
      "text/plain": [
       "array(['3D', '5D', 'TD', '5S', '3S', 'JS', 'KD', 'KC', 'QS', '2S', '7H',\n",
       "       'JH', '7S', 'TS', '2C', '4D', 'QC', '8D', '6S', '5C', 'KH', 'TC',\n",
       "       '4S', '8H', '8S', '6D', '6C', 'JD', '8C', '5H', '6H', 'AS', '9D',\n",
       "       'AC', '9S', 'JC', '4H', '2D', 'KS', '2H', '9C', '9H', '7C', 'QH',\n",
       "       'AD', 'TH', '3C', '7D', '3H', '4C', 'AH', 'QD'], dtype='<U2')"
      ]
     },
     "execution_count": 30,
     "metadata": {},
     "output_type": "execute_result"
    }
   ],
   "source": [
    "np.random.permutation(cards)"
   ]
  },
  {
   "cell_type": "code",
   "execution_count": 31,
   "metadata": {},
   "outputs": [],
   "source": [
    "np.random.shuffle(cards)"
   ]
  },
  {
   "cell_type": "code",
   "execution_count": 32,
   "metadata": {},
   "outputs": [
    {
     "data": {
      "text/plain": [
       "['2H',\n",
       " 'TS',\n",
       " '8H',\n",
       " '5D',\n",
       " 'KS',\n",
       " '4S',\n",
       " '9C',\n",
       " '3D',\n",
       " '4C',\n",
       " 'JH',\n",
       " 'AH',\n",
       " '5C',\n",
       " '2S',\n",
       " 'AS',\n",
       " 'QS',\n",
       " '8D',\n",
       " 'JC',\n",
       " 'TC',\n",
       " '3C',\n",
       " 'JS',\n",
       " '8S',\n",
       " 'KH',\n",
       " '7S',\n",
       " 'QC',\n",
       " '9S',\n",
       " 'AD',\n",
       " '8C',\n",
       " 'AC',\n",
       " 'JD',\n",
       " 'KC',\n",
       " '4H',\n",
       " '3H',\n",
       " '6H',\n",
       " 'TH',\n",
       " 'QD',\n",
       " '6D',\n",
       " '9H',\n",
       " 'TD',\n",
       " '6C',\n",
       " '5H',\n",
       " '7D',\n",
       " '3S',\n",
       " '6S',\n",
       " '7H',\n",
       " '7C',\n",
       " 'QH',\n",
       " 'KD',\n",
       " '4D',\n",
       " '9D',\n",
       " '2D',\n",
       " '2C',\n",
       " '5S']"
      ]
     },
     "execution_count": 32,
     "metadata": {},
     "output_type": "execute_result"
    }
   ],
   "source": [
    "cards"
   ]
  },
  {
   "cell_type": "markdown",
   "metadata": {},
   "source": [
    "### The difference between shuffle and permutation\n",
    "The difference between shuffle and permutation is difficult to identify for a beginner. <br>\n",
    "Stackoverflow user [ecatmur](https://stackoverflow.com/users/567292/ecatmur) offers the following explanation (the emphasis is mine) -\n",
    ">np.random.permutation has two differences from np.random.shuffle:<br>\n",
    ">if passed an array, it will return a shuffled _copy_ of the array; np.random.shuffle shuffles the array inplace<br>\n",
    ">if passed an integer, it will return a shuffled _range_ "
   ]
  },
  {
   "cell_type": "markdown",
   "metadata": {},
   "source": [
    "## Section 3: Explain the use and purpose of at least five “Distributions” functions.\n",
    "\n",
    "The \"Distributions\" functions are the heavy lifters of Numpy.  \n",
    "Distributions are a mathematical concept that set out the likely results given particular factors(or numbers) in an experiment.\n",
    "Distributions are important because they help understand the probability of an event.\n",
    "\n",
    "\n"
   ]
  },
  {
   "cell_type": "markdown",
   "metadata": {},
   "source": [
    "![alt text](List%20of%20Distributions.PNG)"
   ]
  },
  {
   "cell_type": "markdown",
   "metadata": {},
   "source": [
    "### 1. normal (loc=0.0, scale=1.0, size=None)"
   ]
  },
  {
   "cell_type": "markdown",
   "metadata": {},
   "source": [
    "#### Purpose"
   ]
  },
  {
   "cell_type": "markdown",
   "metadata": {},
   "source": [
    "In order to use the normal numpy function, the inputs should be: <br>\n",
    "**loc** : float or array_like of floats.Mean (“centre”) of the distribution.<br>\n",
    "**scale** : float or array_like of floats.Standard deviation (spread or “width”) of the distribution.<br>\n",
    "These two parameters define normal distribution.  \n",
    "Quote from [Probability Distributions blog post](http://hamelg.blogspot.com/2015/11/python-for-data-analysis-part-22.html)\n",
    "\n",
    ">about 68% of the data lies within 1 standard deviation of the mean, <br>\n",
    ">95% lies within 2 standard deviations and <br>\n",
    ">99.7% lies within 3 standard deviations.<br>\n",
    "\n",
    "**size** : int or tuple of ints, optional\n",
    "\n",
    "to give an output of ndarray or scalar samples from a normal distribution."
   ]
  },
  {
   "cell_type": "code",
   "execution_count": null,
   "metadata": {},
   "outputs": [],
   "source": [
    "#### Applications/Usage"
   ]
  },
  {
   "cell_type": "markdown",
   "metadata": {},
   "source": [
    "The Normal (Gaussian) Distribution is one of the most used distributions in Data Science. Many common phenomena that take place in our daily life follows Normal Distributions such as: the income distribution in the economy, students average reports, the average height in populations"
   ]
  },
  {
   "cell_type": "code",
   "execution_count": null,
   "metadata": {},
   "outputs": [],
   "source": []
  },
  {
   "cell_type": "markdown",
   "metadata": {},
   "source": [
    "### 2. uniform (low=0.0, high=1.0, size=None)"
   ]
  },
  {
   "cell_type": "code",
   "execution_count": null,
   "metadata": {},
   "outputs": [],
   "source": [
    "#### Purpose"
   ]
  },
  {
   "cell_type": "code",
   "execution_count": 33,
   "metadata": {},
   "outputs": [],
   "source": [
    "#### Applications/Usage"
   ]
  },
  {
   "cell_type": "code",
   "execution_count": 34,
   "metadata": {},
   "outputs": [
    {
     "data": {
      "text/plain": [
       "array([13.67815236, 18.89944991, 19.23986395, 19.95513771, 11.71645925,\n",
       "       12.7660574 , 19.66567309])"
      ]
     },
     "execution_count": 34,
     "metadata": {},
     "output_type": "execute_result"
    }
   ],
   "source": [
    "#uniform\n",
    "#produce an array of 7 random floating point numbers between 10 and 20\n",
    "#the output is in a continuous uniform distribution\n",
    "np.random.uniform (10,20,7)"
   ]
  },
  {
   "cell_type": "markdown",
   "metadata": {},
   "source": []
  },
  {
   "cell_type": "markdown",
   "metadata": {},
   "source": [
    "### 3. exponential (scale=1.0, size=None)¶"
   ]
  },
  {
   "cell_type": "code",
   "execution_count": 35,
   "metadata": {},
   "outputs": [],
   "source": [
    "#### Purpose"
   ]
  },
  {
   "cell_type": "markdown",
   "metadata": {},
   "source": [
    "The exponential distribution can be used to describe many common situation e.g. the size of raindrops measured during storms,   and often models waiting time e.g., the time it takes, after an event, for the next event to occur.\n",
    "It is linked to the poisson distribution.\n",
    "In order to use the numpy function, the inputs should be: **scale** (floats) and **size** (optional - integer format) to give an output of ndarray or scalar samples from an exponential distribution."
   ]
  },
  {
   "cell_type": "code",
   "execution_count": null,
   "metadata": {},
   "outputs": [],
   "source": []
  },
  {
   "cell_type": "code",
   "execution_count": null,
   "metadata": {},
   "outputs": [],
   "source": [
    "#### Applications/Usage"
   ]
  },
  {
   "cell_type": "code",
   "execution_count": 61,
   "metadata": {},
   "outputs": [
    {
     "data": {
      "text/plain": [
       "8.96521969123922"
      ]
     },
     "execution_count": 61,
     "metadata": {},
     "output_type": "execute_result"
    }
   ],
   "source": [
    "#This is a simple example of how selecting a random distribution with a scale of 10 and no size parameter.\n",
    "h= np.random.exponential(10)\n",
    "h"
   ]
  },
  {
   "cell_type": "code",
   "execution_count": 62,
   "metadata": {},
   "outputs": [
    {
     "data": {
      "text/plain": [
       "<function matplotlib.pyplot.show(*args, **kw)>"
      ]
     },
     "execution_count": 62,
     "metadata": {},
     "output_type": "execute_result"
    },
    {
     "data": {
      "image/png": "[encoded data removed]",
      "text/plain": [
       "<Figure size 432x288 with 1 Axes>"
      ]
     },
     "metadata": {
      "needs_background": "light"
     },
     "output_type": "display_data"
    }
   ],
   "source": [
    "plt.hist(h)\n",
    "#the plot displays the waiting time after an event for another to occur within the value of 10  \n",
    "plt.show"
   ]
  },
  {
   "cell_type": "markdown",
   "metadata": {},
   "source": [
    "This is much more elaborate example of exponential distribution usage applied to a plot comparing driven distance by frequency.\n",
    "https://stackoverflow.com/questions/15481808/matplotlib-if-i-set-fig-height-x-legend-is-cut-off/15482057#15482057"
   ]
  },
  {
   "cell_type": "code",
   "execution_count": 3,
   "metadata": {},
   "outputs": [
    {
     "data": {
      "text/plain": [
       "Text(0, 0.5, 'Frequency')"
      ]
     },
     "execution_count": 3,
     "metadata": {},
     "output_type": "execute_result"
    },
    {
     "data": {
      "image/png": "[encoded data removed]",
      "text/plain": [
       "<Figure size 550x400 with 1 Axes>"
      ]
     },
     "metadata": {
      "needs_background": "light"
     },
     "output_type": "display_data"
    }
   ],
   "source": [
    "\n",
    "from numpy import random\n",
    "from matplotlib import pyplot as plt\n",
    "driveDistance = random.exponential(size=100)\n",
    "fig1 = plt.figure(figsize=(5.5,4),dpi=100)\n",
    "ax = fig1.add_subplot(111)\n",
    "ax.grid(True,which='both')\n",
    "ax.hist(driveDistance,100)\n",
    "ax.set_xlabel('Driven Distance in km')\n",
    "ax.set_ylabel('Frequency')"
   ]
  },
  {
   "cell_type": "markdown",
   "metadata": {},
   "source": [
    "### 4.  binomial (n, p, size=None)"
   ]
  },
  {
   "cell_type": "markdown",
   "metadata": {},
   "source": [
    "#### Purpose"
   ]
  },
  {
   "cell_type": "markdown",
   "metadata": {},
   "source": [
    "The binomial distribution can be used in any instance repeated multiple times where there are deemed to be two possible outcomes - success or failure e.g. the purchase of a Lotto ticket - you either win something or you don't.<br>\n",
    "It is linked to the Bernoulli distribution. <br>\n",
    "In order to use the numpy function, the inputs should be: <br>\n",
    "**n**: number of trials (int or array_like of ints. Parameter of the distribution, >= 0. Floats are also accepted, but they will be truncated to integers.)<br>\n",
    "**p** : probability of success - float or array_like of floats (Parameter of the distribution, >= 0 and <=1.)<br>\n",
    "**size** : int or tuple of ints, optional<br>\n",
    "\n",
    "The output is of ndarray or scalar samples from the parameterized binomial distribution, where each sample is equal to the number of successes over the n trials"
   ]
  },
  {
   "cell_type": "markdown",
   "metadata": {},
   "source": [
    "#### Applications/Usage"
   ]
  },
  {
   "cell_type": "code",
   "execution_count": 38,
   "metadata": {},
   "outputs": [
    {
     "name": "stdout",
     "output_type": "stream",
     "text": [
      "[243 238 253 ... 254 245 243]\n"
     ]
    }
   ],
   "source": [
    "#code verbatim from https://discuss.codecademy.com/t/what-does-the-np-random-binomial-function-return/361162\n",
    "# n = 500 (samples or trials)\n",
    "# p = 0.5 (probability of success)\n",
    "# size = 10000 (number of experiments)\n",
    "# The result is 10000 randomly selected \n",
    "# experiments from the distribution using the binomial distribution of two possible outcomes\n",
    "# [241, 262, ..., 248, 255, 235]\n",
    "tests = np.random.binomial(500, 0.5, size=10000)\n",
    "print(tests)"
   ]
  },
  {
   "cell_type": "code",
   "execution_count": 39,
   "metadata": {},
   "outputs": [
    {
     "data": {
      "text/plain": [
       "<function matplotlib.pyplot.show(*args, **kw)>"
      ]
     },
     "execution_count": 39,
     "metadata": {},
     "output_type": "execute_result"
    },
    {
     "data": {
      "image/png": "[encoded data removed]",
      "text/plain": [
       "<Figure size 432x288 with 1 Axes>"
      ]
     },
     "metadata": {
      "needs_background": "light"
     },
     "output_type": "display_data"
    }
   ],
   "source": [
    "plt.hist(tests)\n",
    "#the plot displays the majority of results around 250 half of the sample (500), that is consistent with the binomial\n",
    "#principle of two possible outcomes.  \n",
    "plt.show"
   ]
  },
  {
   "cell_type": "markdown",
   "metadata": {},
   "source": [
    "I note that the resulting plot resembles the \"bell shaped\" curve of a normal distribution.  \n",
    "Normal distribution can be used as an approximation to the binomial distribution, under certain circumstances."
   ]
  },
  {
   "cell_type": "markdown",
   "metadata": {},
   "source": [
    "### 5. poisson (lam=1.0, size=None)"
   ]
  },
  {
   "cell_type": "code",
   "execution_count": 40,
   "metadata": {},
   "outputs": [],
   "source": [
    "#### Use and Purpose"
   ]
  },
  {
   "cell_type": "markdown",
   "metadata": {},
   "source": [
    "The Poisson distribution is used to plot the likelihood of a certain number of events within an expected time interval.\n",
    "It is linked to exponential distribution which can be used models the waiting time between such events."
   ]
  },
  {
   "cell_type": "markdown",
   "metadata": {},
   "source": [
    "In order to use the poisson numpy function, the two inputs should be: <br>\n",
    "**lam** : >= 0 float or array_like of floats (lam/lambda is a mathematical function)<br>\n",
    "**size** : optional, int or tuple of ints<br>\n",
    "The output is of ndarray or scalar samples from the parameterized poisson distribution."
   ]
  },
  {
   "cell_type": "code",
   "execution_count": 52,
   "metadata": {},
   "outputs": [],
   "source": [
    "#s = the probability of 2000 events over intervals of 3\n",
    "s = np.random.poisson(3,2000)"
   ]
  },
  {
   "cell_type": "code",
   "execution_count": null,
   "metadata": {},
   "outputs": [],
   "source": []
  },
  {
   "cell_type": "code",
   "execution_count": 53,
   "metadata": {},
   "outputs": [
    {
     "data": {
      "text/plain": [
       "<function matplotlib.pyplot.show(*args, **kw)>"
      ]
     },
     "execution_count": 53,
     "metadata": {},
     "output_type": "execute_result"
    },
    {
     "data": {
      "image/png": "[encoded data removed]",
      "text/plain": [
       "<Figure size 432x288 with 1 Axes>"
      ]
     },
     "metadata": {
      "needs_background": "light"
     },
     "output_type": "display_data"
    }
   ],
   "source": [
    "plt.hist(s)\n",
    "#the plot displays the number of occurences along the horizontal axis and the probability along the vertical one.  \n",
    "  \n",
    "plt.show"
   ]
  },
  {
   "cell_type": "code",
   "execution_count": null,
   "metadata": {},
   "outputs": [],
   "source": []
  },
  {
   "cell_type": "code",
   "execution_count": 46,
   "metadata": {},
   "outputs": [],
   "source": []
  },
  {
   "cell_type": "code",
   "execution_count": null,
   "metadata": {},
   "outputs": [],
   "source": []
  },
  {
   "cell_type": "code",
   "execution_count": null,
   "metadata": {},
   "outputs": [],
   "source": []
  },
  {
   "cell_type": "code",
   "execution_count": null,
   "metadata": {},
   "outputs": [],
   "source": [
    "Normal Approximations  https://revisionmaths.com/advanced-level-maths-revision/statistics/normal-approximations"
   ]
  },
  {
   "cell_type": "markdown",
   "metadata": {},
   "source": [
    "## Section 4: Explain the use of seeds in generating pseudorandom numbers.\n",
    "\n",
    "The topic of seeds and random number generation is currently an active area of research.  \n",
    "For example, the paper [Design and Analysis of a True Random Number Generator Based on GSR Signals for Body Sensor Network](https://www.mdpi.com/1424-8220/19/9/2033) published in 2019 explores how a TRNG can be created using the vital signs of a monitored patient and this in turn is used to encrypt their medical data that is being transmitted on a radio signal.<br>\n",
    "Computers have difficulty generating truly random numbers and require a mechanism to do so; therefore \n",
    "a number is not actually random but appears to be so i.e., pseudo random.\n",
    "\n",
    "The term \"seed\" refers to the starting position of generating pseudo-random numbers which then uses an algorithim to continue producing numbers e.g. multiplying this by a large number then taking modulo (remainder after division) of the product\n",
    "The seed is linked to the system time when the number was generated, i.e., when the numpy random generator is imported onto your machine the seed is selected and holds from that moment on.  \n",
    "\n",
    "If the seed is known/set it is possible to predict the pattern because the algorithm will do the same equation and return the same numbers at  each iteration. \n",
    "Setting the seed is useful when demonstrating or testing code, e.g., a script can calculate results based on a \n",
    "random selection of numbers, then after debugging, test the code again using the same selection of numbers so that the code will do the same thing.\n",
    "\n",
    "\n",
    "When seemingly random numbers are required: do not set the seed. \n",
    "To get the most random numbers for each run, call numpy.random.seed(). This will cause numpy to set the seed to a random number obtained from /dev/urandom or its Windows analog or, if neither of those is available, it will use the clock.\n",
    "***"
   ]
  },
  {
   "cell_type": "markdown",
   "metadata": {},
   "source": [
    "### Examples of the seed function\n",
    "#### In order to illustrate the use of seed function I will compare two scripts"
   ]
  },
  {
   "cell_type": "code",
   "execution_count": null,
   "metadata": {},
   "outputs": [],
   "source": [
    "#from the numpy random module, import randint - the command that returns random integers from your indicated\n",
    "#selection of low to high\n",
    "from random import randint\n",
    "#print a selection of 10 random integers between 1 and 10\n",
    "for i in range (10):print (randint(1,10))\n",
    "#this command,if used, would instead just print one integer: print (randint(1,10))"
   ]
  },
  {
   "cell_type": "code",
   "execution_count": null,
   "metadata": {},
   "outputs": [],
   "source": [
    "#This script first imports seed, then includes the call for the seed function which I have set at 33\n",
    "#When the seed is set each iteration produces the same sequence.\n",
    "from random import randint, seed\n",
    "seed(33)\n",
    "for i in range (10):print (randint(1,10))"
   ]
  },
  {
   "cell_type": "code",
   "execution_count": null,
   "metadata": {},
   "outputs": [],
   "source": [
    "#this time using the random function\n",
    "#the output is always the same\n",
    "np.random.seed (33)\n",
    "np.random.random()"
   ]
  },
  {
   "cell_type": "code",
   "execution_count": null,
   "metadata": {},
   "outputs": [],
   "source": []
  },
  {
   "cell_type": "code",
   "execution_count": null,
   "metadata": {},
   "outputs": [],
   "source": []
  },
  {
   "cell_type": "markdown",
   "metadata": {},
   "source": [
    "## Summary"
   ]
  },
  {
   "cell_type": "markdown",
   "metadata": {},
   "source": [
    "I have explained the benefits of randomness and the overall purpose of the numpy.random package in Python.<br>\n",
    "I have set out the current simple random data options and described three of them (rand, choice and bytes) in detail with a combination of scripts and plots. <br>\n",
    "I have described the use and purpose of five “Distributions” functions using scripts and examples of usage.<br>\n",
    "Finally, I have explained the background of pseudorandom numbers and demonstrated usage of the seed function.<br>"
   ]
  },
  {
   "cell_type": "code",
   "execution_count": null,
   "metadata": {},
   "outputs": [],
   "source": []
  }
 ],
 "metadata": {
  "kernelspec": {
   "display_name": "Python 3",
   "language": "python",
   "name": "python3"
  },
  "language_info": {
   "codemirror_mode": {
    "name": "ipython",
    "version": 3
   },
   "file_extension": ".py",
   "mimetype": "text/x-python",
   "name": "python",
   "nbconvert_exporter": "python",
   "pygments_lexer": "ipython3",
   "version": "3.7.1"
  }
 },
 "nbformat": 4,
 "nbformat_minor": 2
}
