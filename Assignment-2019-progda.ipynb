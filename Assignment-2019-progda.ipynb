{
 "cells": [
  {
   "cell_type": "markdown",
   "metadata": {},
   "source": [
    "# Assignment 2019 Programming for Data Analysis\n",
    "## Due: last commit on or before November 11th"
   ]
  },
  {
   "cell_type": "markdown",
   "metadata": {},
   "source": [
    "1. Explain the overall purpose of the numpy.random package in Python.\n",
    "2. Explain the use of the “Simple random data” and “Permutations” functions.\n",
    "3. Explain the use and purpose of at least five “Distributions” functions.\n",
    "4. Explain the use of seeds in generating pseudorandom numbers.\n",
    "***"
   ]
  },
  {
   "cell_type": "markdown",
   "metadata": {},
   "source": [
    "## Section 1: Explain the overall purpose of the numpy.random package in Python."
   ]
  },
  {
   "cell_type": "markdown",
   "metadata": {},
   "source": [
    "***"
   ]
  },
  {
   "cell_type": "markdown",
   "metadata": {},
   "source": [
    "Randomness is becoming more imortant in computer science - randomised approaches can often outperform deterministic (i.e. no randomness at all) ones or at least,  get close to an optimal solution in a shorter time frame by \"strategcially flipping a few coins while their deterministic cousins sweat it out\".  \n",
    "Brian Christian and Tom Griffiths (2016), _Algorithms To Live By_ William Collins Books pg 182.\n",
    "\n",
    "NumPy, short for Numerical Python, is a linear algebra library in Python that most data science Python packages e.g, Mat−plotlib and Scikit-learn are built on.  NumPy specialises in working with large collections of Python objects called multi-dimensional arrays, this data structure is called ndarray (n-dimensional array).\n",
    "\n",
    "The Python numpy.random package generates random sample numbers, this function is useful when there is a requirement for\n",
    "unpredictability.  \n",
    "The Python Library warns that the package should not be used for cryptographic purposes. \n",
    "\n",
    "NumPy is specialized for building large, multi-dimensional arrays therefore the standard random module that is built into python is a faster option when just an individual random value or small sequence is required. \n",
    "\n",
    "\n",
    "\n",
    "Almost all module functions depend on the basic function random(), which generates a random float uniformly in the half-open range [low, high) [0.0  , 1)\n",
    "\n",
    "\n",
    "The square brackets indicate where the numbers start and the round brackets show that the highest range is 1 but does not include 1. 0 <= n <1.0\n",
    "\n",
    "The basic random( ) function will return a uniform distribution of numbers.\n",
    "If a different type of distribution is required - there are many more to choose from within the package. \n",
    "The \"Mersenne Twister\" pseudo random number generator (PRNG) algorithm is used to generate numbers in NumPy whereas a true random number generator is usually hardware based.\n",
    "\n",
    "\n",
    "***\n"
   ]
  },
  {
   "cell_type": "markdown",
   "metadata": {},
   "source": [
    "## Examples of the numpy random package"
   ]
  },
  {
   "cell_type": "markdown",
   "metadata": {},
   "source": [
    "### .random()"
   ]
  },
  {
   "cell_type": "code",
   "execution_count": 96,
   "metadata": {},
   "outputs": [
    {
     "data": {
      "text/plain": [
       "0.5229352082302846"
      ]
     },
     "execution_count": 96,
     "metadata": {},
     "output_type": "execute_result"
    }
   ],
   "source": [
    "#This is the most basic use of the command - produces numbers between 0 and up to but not including 1\n",
    "#Each time this command is called it will produce a different number\n",
    "import numpy as np\n",
    "import random\n",
    "#when the parenthesis are left empty, the output defaults to one.\n",
    "np.random.random()"
   ]
  },
  {
   "cell_type": "code",
   "execution_count": 97,
   "metadata": {},
   "outputs": [
    {
     "data": {
      "text/plain": [
       "array([0.66536906, 0.94645403, 0.8692166 , 0.04335702, 0.57775215,\n",
       "       0.10619466, 0.99031016])"
      ]
     },
     "execution_count": 97,
     "metadata": {},
     "output_type": "execute_result"
    }
   ],
   "source": [
    "#the inclusion of 7 produces an array of 7 random numbers\n",
    "np.random.random(7)"
   ]
  },
  {
   "cell_type": "markdown",
   "metadata": {},
   "source": [
    "### .randint()"
   ]
  },
  {
   "cell_type": "code",
   "execution_count": 98,
   "metadata": {},
   "outputs": [
    {
     "data": {
      "text/plain": [
       "4"
      ]
     },
     "execution_count": 98,
     "metadata": {},
     "output_type": "execute_result"
    }
   ],
   "source": [
    "#the randint() method (random integer) produces whole numbers\n",
    "#this is an interesting example that uses the command to recreate the result of rolling a six sided dice\n",
    "#from the numpy random module, import randint - the command that returns random integers from your indicated\n",
    "#selection of low to high with the upperbounds being exclusive\n",
    "#call np.random.randint(1, 7) 7 must be included so that the number 6 can be selected randomly\n",
    "np.random.randint(1, 7)"
   ]
  },
  {
   "cell_type": "markdown",
   "metadata": {},
   "source": [
    "***"
   ]
  },
  {
   "cell_type": "markdown",
   "metadata": {},
   "source": [
    "## Section 2: Explain the use of the “Simple random data” and “Permutations” functions"
   ]
  },
  {
   "cell_type": "markdown",
   "metadata": {},
   "source": [
    "***"
   ]
  },
  {
   "cell_type": "markdown",
   "metadata": {},
   "source": [
    "## _Simple Random Data_\n",
    "\n",
    "The simple random data commands offer the most straighforward pseudo random numbers functions for use in scripts. <br>At time of writing there are ten options.\n",
    "I am going to go into detail of a sample of three.\n",
    "\n",
    "Simple random data function | Description\n",
    "------------ | -------------\n",
    "rand(d0, d1, ..., dn)\t| Random values in a given shape.<br>\n",
    "randn(d0, d1, ..., dn)\t|  Return a sample (or samples) from the “standard normal” distribution.<br>\n",
    "randint(low[, high, size, dtype]) |\tReturn random integers from low (inclusive) to high (exclusive).<br>\n",
    "random_integers(low[, high, size]) |\tRandom integers of type np.int between low and high, inclusive.<br>\n",
    "random_sample([size])\t|  Return random floats in the half-open interval [0.0, 1.0).<br>\n",
    "random([size]) | Return random floats in the half-open interval [0.0, 1.0).<br>\n",
    "ranf([size]) |\tReturn random floats in the half-open interval [0.0, 1.0).<br>\n",
    "sample([size])|\tReturn random floats in the half-open interval [0.0, 1.0).<br>\n",
    "choice(a[, size, replace, p])\t|Generates a random sample from a given 1-D array<br>\n",
    "bytes(length)\t|  Return random bytes.<br>"
   ]
  },
  {
   "cell_type": "markdown",
   "metadata": {},
   "source": [
    "### _rand_"
   ]
  },
  {
   "cell_type": "code",
   "execution_count": 99,
   "metadata": {},
   "outputs": [
    {
     "data": {
      "text/plain": [
       "array([[[0.49528459, 0.71181431, 0.19572673],\n",
       "        [0.87036973, 0.99919247, 0.81546267]]])"
      ]
     },
     "execution_count": 99,
     "metadata": {},
     "output_type": "execute_result"
    }
   ],
   "source": [
    "#rand(d0, d1, ..., dn)\n",
    "#calling the rand function produces values in a particular shape of array that is denoted by the appearance of: d0,d1...,dn\n",
    "#the parameters input influence the \"shape\"\n",
    "#but the random numbers created will always be in the half-open range [low, high) [0.0  , 1)\n",
    "np.random.rand(1,2,3)"
   ]
  },
  {
   "cell_type": "code",
   "execution_count": 100,
   "metadata": {},
   "outputs": [
    {
     "data": {
      "text/plain": [
       "<function matplotlib.pyplot.show(*args, **kw)>"
      ]
     },
     "execution_count": 100,
     "metadata": {},
     "output_type": "execute_result"
    },
    {
     "data": {
      "image/png": "[encoded data removed]",
      "text/plain": [
       "<Figure size 432x288 with 1 Axes>"
      ]
     },
     "metadata": {
      "needs_background": "light"
     },
     "output_type": "display_data"
    }
   ],
   "source": [
    "#The supporting documentation advises that this function produces a uniform distribution, i.e. that all numbers have an \n",
    "#equal likelihood of being randomly selected\n",
    "#by plotting a large parameter in a histogram, this idea can be demonstrated to better understand what \"uniform\" means\n",
    "a = np.random.rand(5000,10)\n",
    "#matplotlib is required for plotting\n",
    "import matplotlib.pyplot as plt\n",
    "\n",
    "plt.hist(a)\n",
    "plt.show"
   ]
  },
  {
   "cell_type": "markdown",
   "metadata": {},
   "source": [
    "### _.choice_"
   ]
  },
  {
   "cell_type": "code",
   "execution_count": 101,
   "metadata": {},
   "outputs": [
    {
     "data": {
      "text/plain": [
       "array([0, 1, 2, 3])"
      ]
     },
     "execution_count": 101,
     "metadata": {},
     "output_type": "execute_result"
    }
   ],
   "source": [
    "#choice(a[, size, replace, p])\t\n",
    "#various parameters (or none) can be input when using numpy.random.choice\n",
    "#p refers to probabilities, if none are given then the default is uniform distribution\n",
    "np.random.choice(5,4,replace=False)"
   ]
  },
  {
   "cell_type": "code",
   "execution_count": 102,
   "metadata": {},
   "outputs": [
    {
     "data": {
      "text/plain": [
       "4"
      ]
     },
     "execution_count": 102,
     "metadata": {},
     "output_type": "execute_result"
    }
   ],
   "source": [
    "#this example provides a one dimensional array called nums\n",
    "#by calling the choice function, a random sample is generated from the given 1-D array\n",
    "nums= [2,4,6,8]\n",
    "np.random.choice(nums)"
   ]
  },
  {
   "cell_type": "code",
   "execution_count": 103,
   "metadata": {},
   "outputs": [],
   "source": [
    "#another example for choice using a virtual pack of cards\n",
    "cards = [\"AS\", \"2S\", \"3S\", \"4S\", \"5S\", \"6S\", \"7S\", \"8S\", \"9S\", \"TS\", \"JS\", \"QS\", \"KS\",\n",
    "         \"AH\", \"2H\", \"3H\", \"4H\", \"5H\", \"6H\", \"7H\", \"8H\", \"9H\", \"TH\", \"JH\", \"QH\", \"KH\",\n",
    "         \"AC\", \"2C\", \"3C\", \"4C\", \"5C\", \"6C\", \"7C\", \"8C\", \"9C\", \"TC\", \"JC\", \"QC\", \"KC\",\n",
    "         \"AD\", \"2D\", \"3D\", \"4D\", \"5D\", \"6D\", \"7D\", \"8D\", \"9D\", \"TD\", \"JD\", \"QD\", \"KD\"]"
   ]
  },
  {
   "cell_type": "code",
   "execution_count": 104,
   "metadata": {},
   "outputs": [
    {
     "data": {
      "text/plain": [
       "'AH'"
      ]
     },
     "execution_count": 104,
     "metadata": {},
     "output_type": "execute_result"
    }
   ],
   "source": [
    "random.choice(cards)"
   ]
  },
  {
   "cell_type": "code",
   "execution_count": 105,
   "metadata": {},
   "outputs": [],
   "source": [
    "#using .choice() to randomly choose a simple random data function!\n",
    "simple_random_data = ['rand', 'randn', 'randint', 'random_integers', 'random_sample', 'random', 'ranf', 'sample', 'choice', 'bytes']"
   ]
  },
  {
   "cell_type": "code",
   "execution_count": 106,
   "metadata": {},
   "outputs": [
    {
     "data": {
      "text/plain": [
       "'random'"
      ]
     },
     "execution_count": 106,
     "metadata": {},
     "output_type": "execute_result"
    }
   ],
   "source": [
    "np.random.choice(simple_random_data)"
   ]
  },
  {
   "cell_type": "markdown",
   "metadata": {},
   "source": [
    "### _.bytes_"
   ]
  },
  {
   "cell_type": "code",
   "execution_count": 107,
   "metadata": {},
   "outputs": [
    {
     "data": {
      "text/plain": [
       "b'_FL\\xf3\\xc8x\\xba\\xc1\\xd4/4\\xc41\\xd7B\\xb1\\x16\\xd8LD\\x8b\\xb1R\\x0c&\\r\\x8aL\\xe3,\\xce\\xa7\\xd7\\xc4\\xb3\\xf5\\xd4A\\xf80\\xffQ\\x9c\\xcc_s\\xb3x\\xae^\\x87\\x86I\\xba\\x89\\xf0\\r\\x02\\x84\\xa8x\\x96+\\xb8\\xb9jW.\\xaed\\xe7\\x17V\\xa7\\xd7\\x89\\xe9\\xb7N\\x0c$^\"\\x1f\\x0c\\xa7\\xda\\xc4\\xc2\"\\x9f\\xc0/\\x181\\xd6\\xf5p1\\x1dY\\xcf\\\\\\x9dL\\xd2\\xb4b\\xda7\\x9e\\xb2O\\xd2\\x95{\\xccq\\xd4I\\x82$)\\xc0s\\xec\\xe2\\xd2g\\xaf\"\\x11\\xcd\\'\\xc7s7]\\xdd\\xf3\\xff}Y\\x83q\\xaa\\x9ea\\xae\\xd8wYc\\xd2\\n\\xb9\\x17w\\xbe^\\x02\\x13\\xad(\\xb7\\xb1\\x1a\\x15\\x11s\\x17\\r\\xae=\\x10\\xce\\x1e\\x86\\xd6\\xe4+4\\x19I\\x85\\r\\xb2n\\xe5\\x14\\xaf\\x1ao\\xc93\\xbcex\\x88\\x99'"
      ]
     },
     "execution_count": 107,
     "metadata": {},
     "output_type": "execute_result"
    }
   ],
   "source": [
    "#bytes function is used to return a string of random bytes ( 8 bits) of the length input in parenthesis\n",
    "#this is a useful tool if a large number of pseudo random bytes is required to be efficiently generated\n",
    "np.random.bytes(200)\n"
   ]
  },
  {
   "cell_type": "markdown",
   "metadata": {},
   "source": [
    "[Stefano Cappellini](https://www.stefanocappellini.it/generate-pseudorandom-bytes-with-python/) compared various numpy random functions to generate 1048576 bytes (1MB) .bytes was the most efficient with an execution time of 0.001017 seconds . "
   ]
  },
  {
   "cell_type": "markdown",
   "metadata": {},
   "source": [
    "### _Summary of Simple Random Data_\n",
    "These options are useful tools as an introduction to the concept of pseudo random number generation.\n",
    "When used in conjunction with matplotlib to generate plots of the data, the ideas can be more effectively conveyed for those without a mathematical background."
   ]
  },
  {
   "cell_type": "markdown",
   "metadata": {},
   "source": [
    "## _Permutations_\n",
    "There are two types of permutation functions - shuffle and permutation. <br>\n",
    "Shuffle modifies the contents of a list that has been passed into the argument by \"shuffling\" its contents - not providing new numbers.<br>\n",
    "This means the original order is lost after being passed through shuffle.\n",
    "Permute rearranges the array, in the case of a multi-dimensional array, it is only shuffled along its first index.<br>"
   ]
  },
  {
   "cell_type": "code",
   "execution_count": 108,
   "metadata": {},
   "outputs": [],
   "source": [
    "#to demonstrate an example of shuffle\n",
    "#first create a range called a\n",
    "a=np.arange (10)"
   ]
  },
  {
   "cell_type": "code",
   "execution_count": 109,
   "metadata": {},
   "outputs": [
    {
     "data": {
      "text/plain": [
       "array([0, 1, 2, 3, 4, 5, 6, 7, 8, 9])"
      ]
     },
     "execution_count": 109,
     "metadata": {},
     "output_type": "execute_result"
    }
   ],
   "source": [
    "a"
   ]
  },
  {
   "cell_type": "code",
   "execution_count": 110,
   "metadata": {},
   "outputs": [],
   "source": [
    "#pass the argument of a into the shuffle function\n",
    "#the output is that the array is rearranged.\n",
    "np.random.shuffle (a)"
   ]
  },
  {
   "cell_type": "code",
   "execution_count": 111,
   "metadata": {},
   "outputs": [
    {
     "data": {
      "text/plain": [
       "array([8, 6, 2, 4, 3, 7, 5, 9, 1, 0])"
      ]
     },
     "execution_count": 111,
     "metadata": {},
     "output_type": "execute_result"
    }
   ],
   "source": [
    "a"
   ]
  },
  {
   "cell_type": "code",
   "execution_count": 112,
   "metadata": {},
   "outputs": [
    {
     "data": {
      "text/plain": [
       "array([6, 5, 3, 8, 7, 0, 2, 4, 9, 1])"
      ]
     },
     "execution_count": 112,
     "metadata": {},
     "output_type": "execute_result"
    }
   ],
   "source": [
    "#the output is a permuted sequence or array range.\n",
    "np.random.permutation(a)"
   ]
  },
  {
   "cell_type": "markdown",
   "metadata": {},
   "source": [
    "\n"
   ]
  },
  {
   "cell_type": "code",
   "execution_count": 113,
   "metadata": {},
   "outputs": [],
   "source": [
    "b=np.random.rand(3,2,1)"
   ]
  },
  {
   "cell_type": "code",
   "execution_count": 114,
   "metadata": {},
   "outputs": [
    {
     "data": {
      "text/plain": [
       "array([[[0.57020284],\n",
       "        [0.63290062]],\n",
       "\n",
       "       [[0.62803565],\n",
       "        [0.87637356]],\n",
       "\n",
       "       [[0.46204579],\n",
       "        [0.45341814]]])"
      ]
     },
     "execution_count": 114,
     "metadata": {},
     "output_type": "execute_result"
    }
   ],
   "source": [
    "#use of a multi-dimensional array to illustrate how it is only shuffled along its first index\n",
    "np.random.permutation(b)"
   ]
  },
  {
   "cell_type": "code",
   "execution_count": 115,
   "metadata": {},
   "outputs": [],
   "source": [
    "#another example this time using a larger array\n",
    "#use of a multi-dimensional array to illustrate how it is only shuffled along its first index\n",
    "c=np.random.rand(5,4,3)"
   ]
  },
  {
   "cell_type": "code",
   "execution_count": 116,
   "metadata": {},
   "outputs": [],
   "source": [
    "np.random.shuffle(c)"
   ]
  },
  {
   "cell_type": "code",
   "execution_count": 117,
   "metadata": {},
   "outputs": [
    {
     "data": {
      "text/plain": [
       "array([[[0.57506678, 0.62497498, 0.61806392],\n",
       "        [0.14225005, 0.63860003, 0.85192469],\n",
       "        [0.2550735 , 0.03828095, 0.95500519],\n",
       "        [0.97786103, 0.7716024 , 0.95993832]],\n",
       "\n",
       "       [[0.25727061, 0.46617424, 0.48091157],\n",
       "        [0.7192664 , 0.29942261, 0.80708329],\n",
       "        [0.98695419, 0.48700121, 0.47364141],\n",
       "        [0.36526972, 0.64148305, 0.82023049]],\n",
       "\n",
       "       [[0.72708708, 0.7656171 , 0.97625015],\n",
       "        [0.77276305, 0.70597805, 0.62209215],\n",
       "        [0.08973372, 0.40598939, 0.30501912],\n",
       "        [0.37029115, 0.06041872, 0.83513163]],\n",
       "\n",
       "       [[0.48584572, 0.63007148, 0.47663076],\n",
       "        [0.14902626, 0.17260228, 0.2916423 ],\n",
       "        [0.86658066, 0.27115699, 0.14690558],\n",
       "        [0.95068826, 0.91401458, 0.99746352]],\n",
       "\n",
       "       [[0.80517324, 0.19444207, 0.75832561],\n",
       "        [0.19319743, 0.36966345, 0.25459165],\n",
       "        [0.54300462, 0.57614111, 0.3474541 ],\n",
       "        [0.3496735 , 0.02896646, 0.75271581]]])"
      ]
     },
     "execution_count": 117,
     "metadata": {},
     "output_type": "execute_result"
    }
   ],
   "source": [
    "c"
   ]
  },
  {
   "cell_type": "code",
   "execution_count": 118,
   "metadata": {},
   "outputs": [
    {
     "data": {
      "text/plain": [
       "array([[[0.25727061, 0.46617424, 0.48091157],\n",
       "        [0.7192664 , 0.29942261, 0.80708329],\n",
       "        [0.98695419, 0.48700121, 0.47364141],\n",
       "        [0.36526972, 0.64148305, 0.82023049]],\n",
       "\n",
       "       [[0.80517324, 0.19444207, 0.75832561],\n",
       "        [0.19319743, 0.36966345, 0.25459165],\n",
       "        [0.54300462, 0.57614111, 0.3474541 ],\n",
       "        [0.3496735 , 0.02896646, 0.75271581]],\n",
       "\n",
       "       [[0.57506678, 0.62497498, 0.61806392],\n",
       "        [0.14225005, 0.63860003, 0.85192469],\n",
       "        [0.2550735 , 0.03828095, 0.95500519],\n",
       "        [0.97786103, 0.7716024 , 0.95993832]],\n",
       "\n",
       "       [[0.48584572, 0.63007148, 0.47663076],\n",
       "        [0.14902626, 0.17260228, 0.2916423 ],\n",
       "        [0.86658066, 0.27115699, 0.14690558],\n",
       "        [0.95068826, 0.91401458, 0.99746352]],\n",
       "\n",
       "       [[0.72708708, 0.7656171 , 0.97625015],\n",
       "        [0.77276305, 0.70597805, 0.62209215],\n",
       "        [0.08973372, 0.40598939, 0.30501912],\n",
       "        [0.37029115, 0.06041872, 0.83513163]]])"
      ]
     },
     "execution_count": 118,
     "metadata": {},
     "output_type": "execute_result"
    }
   ],
   "source": [
    "#another use of a multi-dimensional array to illustrate how it is only shuffled along its first index\n",
    "np.random.permutation(c)"
   ]
  },
  {
   "cell_type": "code",
   "execution_count": 119,
   "metadata": {},
   "outputs": [],
   "source": [
    "#permutation and shuffle of a virtual deck of cards\n",
    "cards = [\"AS\", \"2S\", \"3S\", \"4S\", \"5S\", \"6S\", \"7S\", \"8S\", \"9S\", \"TS\", \"JS\", \"QS\", \"KS\",\n",
    "         \"AH\", \"2H\", \"3H\", \"4H\", \"5H\", \"6H\", \"7H\", \"8H\", \"9H\", \"TH\", \"JH\", \"QH\", \"KH\",\n",
    "         \"AC\", \"2C\", \"3C\", \"4C\", \"5C\", \"6C\", \"7C\", \"8C\", \"9C\", \"TC\", \"JC\", \"QC\", \"KC\",\n",
    "         \"AD\", \"2D\", \"3D\", \"4D\", \"5D\", \"6D\", \"7D\", \"8D\", \"9D\", \"TD\", \"JD\", \"QD\", \"KD\"]"
   ]
  },
  {
   "cell_type": "code",
   "execution_count": 120,
   "metadata": {},
   "outputs": [
    {
     "data": {
      "text/plain": [
       "array(['AH', '9C', '2H', 'JH', '6H', 'AS', 'TC', '5H', 'AD', '8C', '8D',\n",
       "       '5D', '7D', '2S', 'KH', '3C', '3D', 'AC', '9D', '4D', 'QD', '4H',\n",
       "       'KD', 'KC', '4S', '6D', '5S', '7H', '7C', '8S', '4C', '7S', '3H',\n",
       "       'JC', '9S', '2C', '9H', '5C', 'JS', 'KS', 'TD', '6C', '6S', 'QH',\n",
       "       '3S', 'TS', '2D', 'QC', 'JD', 'QS', '8H', 'TH'], dtype='<U2')"
      ]
     },
     "execution_count": 120,
     "metadata": {},
     "output_type": "execute_result"
    }
   ],
   "source": [
    "np.random.permutation(cards)"
   ]
  },
  {
   "cell_type": "code",
   "execution_count": 121,
   "metadata": {},
   "outputs": [],
   "source": [
    "np.random.shuffle(cards)"
   ]
  },
  {
   "cell_type": "code",
   "execution_count": 122,
   "metadata": {},
   "outputs": [
    {
     "data": {
      "text/plain": [
       "['AD',\n",
       " '7H',\n",
       " '4D',\n",
       " '3D',\n",
       " '2H',\n",
       " '8S',\n",
       " '8H',\n",
       " '9H',\n",
       " '6S',\n",
       " 'TC',\n",
       " 'QC',\n",
       " 'JH',\n",
       " '4H',\n",
       " '9C',\n",
       " '4S',\n",
       " '3H',\n",
       " 'QD',\n",
       " '4C',\n",
       " 'KH',\n",
       " '7D',\n",
       " 'KC',\n",
       " 'QS',\n",
       " 'AC',\n",
       " '8D',\n",
       " '8C',\n",
       " '6H',\n",
       " '9S',\n",
       " '2C',\n",
       " 'JD',\n",
       " 'AS',\n",
       " '2D',\n",
       " '2S',\n",
       " 'TS',\n",
       " 'QH',\n",
       " '5D',\n",
       " '5S',\n",
       " '5C',\n",
       " 'JC',\n",
       " 'AH',\n",
       " '7C',\n",
       " 'KD',\n",
       " 'TH',\n",
       " '6D',\n",
       " 'KS',\n",
       " 'TD',\n",
       " '9D',\n",
       " '6C',\n",
       " 'JS',\n",
       " '7S',\n",
       " '3S',\n",
       " '3C',\n",
       " '5H']"
      ]
     },
     "execution_count": 122,
     "metadata": {},
     "output_type": "execute_result"
    }
   ],
   "source": [
    "cards"
   ]
  },
  {
   "cell_type": "markdown",
   "metadata": {},
   "source": [
    "### The difference between shuffle and permutation\n",
    "The difference between shuffle and permutation is difficult to identify for a beginner. <br>\n",
    "Stackoverflow user [ecatmur](https://stackoverflow.com/users/567292/ecatmur) offers the following explanation (the emphasis is mine) -\n",
    ">np.random.permutation has two differences from np.random.shuffle:<br>\n",
    ">if passed an array, it will return a shuffled _copy_ of the array; np.random.shuffle shuffles the array inplace<br>\n",
    ">if passed an integer, it will return a shuffled _range_ "
   ]
  },
  {
   "cell_type": "markdown",
   "metadata": {},
   "source": [
    "***"
   ]
  },
  {
   "cell_type": "markdown",
   "metadata": {},
   "source": [
    "## Section 3: Explain the use and purpose of at least five “Distributions” functions.\n",
    "\n",
    "The \"Distributions\" functions are the heavy lifters of Numpy.  \n",
    "Distributions are a mathematical concept that set out the likely results given particular factors(or numbers) in an experiment.<br>\n",
    "Distributions are important because they help understand the probability of an event.\n",
    "***"
   ]
  },
  {
   "cell_type": "markdown",
   "metadata": {},
   "source": [
    "![alt text](List%20of%20Distributions.PNG)"
   ]
  },
  {
   "cell_type": "markdown",
   "metadata": {},
   "source": [
    "### i. normal (loc=0.0, scale=1.0, size=None)"
   ]
  },
  {
   "cell_type": "markdown",
   "metadata": {},
   "source": [
    "#### Purpose"
   ]
  },
  {
   "cell_type": "markdown",
   "metadata": {},
   "source": [
    "The Normal (Gaussian) Distribution is one of the most used distributions in Data Science. Many common phenomena that take place in our daily life follows normal distributions such as: income distribution in the economy, students average marks or the average height in populations."
   ]
  },
  {
   "cell_type": "markdown",
   "metadata": {},
   "source": [
    "In order to use the normal numpy function, the inputs should be: <br>\n",
    "**loc** : float or array_like of floats; it controls the Mean (“centre”) of the distribution.<br>\n",
    "**scale** : float or array_like of floats;it sets the standard deviation (spread or “width”) of the distribution.<br>\n",
    "These two parameters define normal distribution.  \n",
    "Quote from [Probability Distributions blog post](http://hamelg.blogspot.com/2015/11/python-for-data-analysis-part-22.html)\n",
    "\n",
    ">about 68% of the data lies within 1 standard deviation of the mean, <br>\n",
    ">95% lies within 2 standard deviations and <br>\n",
    ">99.7% lies within 3 standard deviations.<br>\n",
    "\n",
    "**size** : int or tuple of ints, optional provides the output size and shape.\n",
    "\n",
    "to give an output of ndarray or scalar samples from a normal distribution."
   ]
  },
  {
   "cell_type": "code",
   "execution_count": 123,
   "metadata": {},
   "outputs": [],
   "source": [
    "#### Applications/Usage"
   ]
  },
  {
   "cell_type": "code",
   "execution_count": 124,
   "metadata": {},
   "outputs": [
    {
     "data": {
      "text/plain": [
       "-1.9285536677679447"
      ]
     },
     "execution_count": 124,
     "metadata": {},
     "output_type": "execute_result"
    }
   ],
   "source": [
    "#An empty parenthesis generates a random number from normal distribution\n",
    "np.random.normal()"
   ]
  },
  {
   "cell_type": "code",
   "execution_count": 125,
   "metadata": {},
   "outputs": [
    {
     "data": {
      "text/plain": [
       "array([-0.25432402,  1.32643074, -0.40989895, -0.10824063, -1.84938124,\n",
       "        0.17913152,  1.22311638])"
      ]
     },
     "execution_count": 125,
     "metadata": {},
     "output_type": "execute_result"
    }
   ],
   "source": [
    "#code to produce an output of 7 random numbers from the normal distribution\n",
    "np.random.normal(0,1,7)"
   ]
  },
  {
   "cell_type": "code",
   "execution_count": 126,
   "metadata": {},
   "outputs": [
    {
     "data": {
      "text/plain": [
       "array([-2.47698935,  0.57276217, -0.90626173,  0.44880614, -0.5703108 ,\n",
       "       -1.58633923, -1.28811302])"
      ]
     },
     "execution_count": 126,
     "metadata": {},
     "output_type": "execute_result"
    }
   ],
   "source": [
    "#code to produce an output of 7 random numbers from the normal distribution\n",
    "#if values are not specified for the loc and scale parameters, they will default to loc = 0 and scale = 1.\n",
    "np.random.normal(size=7)"
   ]
  },
  {
   "cell_type": "code",
   "execution_count": 127,
   "metadata": {},
   "outputs": [
    {
     "data": {
      "text/plain": [
       "999.1808885477561"
      ]
     },
     "execution_count": 127,
     "metadata": {},
     "output_type": "execute_result"
    }
   ],
   "source": [
    "#specifying loc produces an output based on that mean value\n",
    "np.random.normal(loc=1000)"
   ]
  },
  {
   "cell_type": "code",
   "execution_count": 128,
   "metadata": {},
   "outputs": [
    {
     "data": {
      "text/plain": [
       "1000.698681515042"
      ]
     },
     "execution_count": 128,
     "metadata": {},
     "output_type": "execute_result"
    }
   ],
   "source": [
    "#the function produces the same output (defaults to loc) as above example where input is not specified\n",
    "np.random.normal(1000)"
   ]
  },
  {
   "cell_type": "code",
   "execution_count": 129,
   "metadata": {},
   "outputs": [
    {
     "data": {
      "text/plain": [
       "array([ 2.43985717e+02,  1.09516235e+01,  9.63574190e+01,  9.45299606e+01,\n",
       "        1.98480855e+02, -1.23310885e+02, -4.72639850e+00, -6.73383950e+01,\n",
       "        4.22566209e+01,  8.65533582e+01, -1.71169106e+02,  5.05918624e+01,\n",
       "       -1.60419318e+01,  7.95166548e+01, -1.02254175e+02,  4.86388309e+01,\n",
       "       -1.68413136e+02, -7.99778191e+01,  2.34657806e+01,  4.81320313e+01,\n",
       "        9.78991565e+01,  1.55634584e+02, -3.94407262e+01,  1.17681389e+02,\n",
       "       -5.96250915e+01,  6.14132193e+01,  2.38487350e+02,  1.94857116e+02,\n",
       "        6.73981093e+01,  4.06723574e+01,  6.16405114e+01,  7.89426004e+01,\n",
       "        1.10561145e+02,  2.25532717e+02,  1.45518148e+01,  9.56587121e+01,\n",
       "        1.15782922e+02,  9.83803913e+01,  6.91219584e+00, -1.69240614e+01,\n",
       "        1.37799569e+02, -1.10436709e+02,  1.46929543e+02,  1.10117885e+02,\n",
       "        1.09189456e+02,  1.21232157e+02,  6.05378205e+01,  1.25211016e+02,\n",
       "        2.87359817e+01,  7.62036651e+00,  1.38256263e+02,  1.71390592e+02,\n",
       "        1.74083988e+01, -4.62198186e+01,  1.21397828e+02,  2.02082759e+01,\n",
       "       -6.41933112e+01, -5.41467141e+01,  1.90599495e+02,  3.37496605e+00,\n",
       "        1.54021242e+02,  6.19197076e+01, -6.99284474e+01,  1.74556439e+02,\n",
       "        4.48744943e+01,  6.74744944e+01,  6.93314615e+01,  8.43199223e+01,\n",
       "        3.37778530e+02,  5.07853426e+01,  1.53934615e+02, -2.98756594e+01,\n",
       "        6.33212707e+01, -1.30759710e+01, -1.65343570e+02,  4.29977033e+01,\n",
       "       -8.41199716e+01,  2.17242335e+01,  1.08234397e+02,  1.15434699e+02,\n",
       "        8.15155250e+01, -3.40904488e+01,  1.00258779e+02, -7.87355880e+01,\n",
       "        7.05413631e+01, -4.49971121e+00, -2.83925978e+01, -2.72647705e+01,\n",
       "       -5.74888944e+01,  5.92472524e+01,  1.75942351e+02, -2.10239632e+01,\n",
       "       -1.85878048e+01,  6.25106564e+01,  1.74054288e+02,  2.11329738e+01,\n",
       "        2.32002810e+02,  2.66242520e+02,  2.31671814e+02,  4.53642871e+01,\n",
       "        4.31614899e+01,  1.47954479e+02, -1.32810504e+01,  3.37732879e+02,\n",
       "        1.18575718e+02,  1.99917538e+02,  2.18950654e+02, -4.79191707e+01,\n",
       "       -3.54814993e+01,  1.19027021e+02,  1.36071914e+02,  1.47749803e+02,\n",
       "        2.37746942e+02, -1.25062212e+02,  3.50900426e+01,  8.84066692e+00,\n",
       "        6.84545859e+01,  2.33580109e+02, -4.99323167e+01,  1.22243451e+02,\n",
       "       -1.37584397e+02,  2.64504229e+01,  4.91745540e+01,  1.72626074e+02,\n",
       "        9.87088064e+00,  2.10106264e+02,  2.69853381e+01,  9.92742035e+01,\n",
       "       -8.01814678e+01,  1.69078855e+02,  7.28532596e+01, -3.41100331e+01,\n",
       "        2.01801529e+02,  1.34136937e+01,  4.25948461e+01,  1.08918179e+02,\n",
       "       -1.93928155e+01,  6.18694899e+00,  1.05057505e+02,  3.27485633e+01,\n",
       "        1.83700548e+02,  1.92350938e+01,  1.12717010e+02,  1.20596230e+02,\n",
       "        3.66212485e+01,  5.62242949e+01, -7.27556339e+01, -1.04862848e+00,\n",
       "        2.54470745e+02,  6.73283351e+00,  8.45828130e+01,  9.20688153e+01,\n",
       "        4.04094314e+01,  1.09557012e+02,  1.51073257e-01,  6.38604726e+01,\n",
       "        1.21883450e+02,  1.71655763e+02,  2.46820363e+02,  7.54508487e+01,\n",
       "        3.02154573e+01,  2.93602766e+01,  5.72562638e+01, -4.14893535e+00,\n",
       "        7.44128047e+01, -9.12732796e+00,  1.20549591e+02, -1.04914520e+02,\n",
       "        1.07477360e+02,  1.37401347e+02,  9.86692865e+01, -3.52793374e+01,\n",
       "        3.72818698e+01, -4.88368135e+01,  3.06170842e+01,  2.36876744e+01,\n",
       "        2.20996579e+02,  1.28004098e+02,  1.64447608e+02,  7.67299244e+01,\n",
       "        4.58160675e+01,  1.98520945e+02, -6.19137973e+01,  7.65737443e+01,\n",
       "       -2.55228863e+01, -3.70990415e+01,  1.03322312e+02,  5.39441029e+01,\n",
       "        1.66690768e+02, -1.21209244e+02,  1.18684835e+02, -4.27783670e+01,\n",
       "        1.49281787e+02,  3.03105781e+02,  8.18044638e+01,  1.03412875e+01,\n",
       "        1.17896115e+02,  4.80569329e+01,  1.53085878e+02,  1.21915662e+02,\n",
       "        6.27211873e+01,  2.87418771e+01, -1.16735056e+02, -3.66405660e+00,\n",
       "        1.23843470e+02,  1.44114425e+02,  1.84093173e+01,  2.36099390e+02,\n",
       "        1.55506221e+02, -2.89978849e+01, -1.15052976e+02,  1.87048372e+02,\n",
       "        5.24221757e+01, -3.65975194e+01,  1.13705889e+02,  1.24105181e+02,\n",
       "       -1.86154237e+01,  2.98883148e+01,  1.48827086e+02,  9.12573013e+01,\n",
       "        1.54708449e+02,  1.55227581e+02,  9.40291101e+01,  2.28088932e+02,\n",
       "        2.08989772e+02,  4.87653207e+01, -7.10350158e+01,  1.07343163e+02,\n",
       "        2.31242492e+02, -5.83686583e+01,  1.36550849e+02,  7.63303886e+01,\n",
       "       -1.05449807e+01,  1.21622859e+02,  5.93868501e+01,  4.96344736e+01,\n",
       "        1.19042473e+02,  1.36256385e+02,  2.02250744e+01,  1.38153048e+02,\n",
       "        1.08176937e+02,  7.97669112e+01, -6.77771052e+01,  6.03979421e+01,\n",
       "        1.14527464e+02,  3.75782483e+01,  1.83587356e+02,  9.06433717e+00,\n",
       "       -6.39501302e+01,  2.35692936e+02,  2.34021611e+02, -5.80111333e+01,\n",
       "        7.60467933e+01, -5.01878105e+01,  2.18776593e+02, -1.93489366e-01,\n",
       "        1.87914584e+01,  2.42752608e+01,  1.11707417e+01,  6.06889020e+01,\n",
       "        1.22922794e+02, -4.68067232e+01,  4.85661476e+01,  7.57422423e+01,\n",
       "        1.06291301e+02,  1.30162635e+02,  1.12289457e+02,  2.42246976e+02,\n",
       "        1.97600587e+02,  1.10800868e+02,  1.96442906e+02, -1.59848972e+01,\n",
       "       -5.83324163e+01,  1.33332227e+02,  1.27947552e+02,  2.11181340e+01,\n",
       "        1.17462641e+02,  2.02653774e+02,  1.24828485e+02,  1.39198930e+02,\n",
       "        2.44534480e+02, -7.62134632e+00,  1.20369742e+02, -1.16200727e+02,\n",
       "        1.16848098e+02,  1.80960130e+02,  1.94815607e+02,  1.48547777e+02,\n",
       "        2.52312067e+02,  2.62723909e+02,  1.54354874e+02,  1.87236549e+02,\n",
       "        1.02910470e+02, -4.77650833e+01,  2.92066750e+01,  1.75172998e+02,\n",
       "        1.59324582e+02,  3.44006949e+01,  2.87431874e+02,  1.83842269e+02,\n",
       "        1.67266284e+01,  1.30497763e+00,  1.64679965e+02,  8.86784452e+01,\n",
       "        3.53245704e+01,  8.72594956e+01,  1.07357478e+02,  1.40382400e+02,\n",
       "        2.63504107e+02,  2.83643967e+01,  1.13609809e+02,  9.68319536e+01,\n",
       "       -3.84618258e-01,  1.04044355e+02,  8.07222473e+01,  3.70542605e+00,\n",
       "        2.44932047e+02,  1.65675197e+02, -1.00777493e+01,  9.91753108e+01,\n",
       "        3.73696167e+01,  1.68277635e+02, -1.30714757e+01,  8.18164090e+01,\n",
       "       -1.98223079e+01,  1.44333592e+02, -8.23605623e+01, -2.21685587e+02,\n",
       "        2.14791012e+02, -3.28372407e+01, -1.11629561e+01,  1.44275100e+01,\n",
       "        5.31684055e+01,  4.80265422e+01,  8.95374270e+00,  9.02539688e+01,\n",
       "        1.01136999e+02,  1.07986382e+02, -1.29343763e+01,  2.65703577e+02,\n",
       "        1.07022217e+02, -5.77582792e+00,  9.79002701e+01,  1.39031894e+02,\n",
       "        1.33898941e+02,  2.08008447e+02,  1.19749767e+02,  1.08818784e+02,\n",
       "        1.18968116e+02,  6.50796909e+01,  1.99680618e+01,  2.60861661e+01,\n",
       "        7.61599784e+01,  2.11760687e+02,  2.48802419e+02,  8.23527374e+01,\n",
       "       -1.44992217e+01,  8.50131781e+01, -1.17729492e+02,  1.86662450e+01,\n",
       "        3.93777370e+01,  5.20861403e+01,  1.05593621e+02,  1.29350389e+02,\n",
       "        1.34032591e+02,  1.62332329e+01, -1.74282098e+02, -4.27329210e+01,\n",
       "        3.17030294e+02, -7.17035342e+01,  2.97960601e+01,  6.03978696e+01,\n",
       "        8.02203008e+01,  3.33720486e+01,  1.97374716e+02,  9.13085399e+01,\n",
       "        1.00713894e+02,  1.12651878e+02,  1.05610286e+02,  1.35502311e+02,\n",
       "        1.33767608e+02,  6.33801464e+01,  3.49622591e+01, -9.44434546e+01,\n",
       "        6.59933185e+01, -1.00582271e+02,  2.03185265e+01,  2.93944138e+01,\n",
       "        2.94459296e+01,  1.27600191e+02,  2.50099679e+02,  8.30081527e+01,\n",
       "        3.33340399e+01,  2.27723266e+02,  1.96626043e+02,  2.76873162e+02,\n",
       "        7.26565086e+00, -7.20225856e+00,  2.89493481e+02,  2.93912219e+02,\n",
       "       -5.00536759e+01,  6.59485836e+01, -4.79787771e+01,  7.32029655e+00,\n",
       "       -3.92606969e+01,  1.41876144e+02,  9.09568904e+01,  8.11405523e+01,\n",
       "       -5.74193900e+01,  1.62346758e+02,  6.60237189e+01, -1.73713551e+01,\n",
       "        9.60377292e+00, -1.28154556e+02,  9.60362042e+01, -1.90823466e+02,\n",
       "        1.08142399e+02,  7.22154600e+01,  1.25775270e+02,  9.25385566e+01,\n",
       "        1.66673005e+02,  7.80968182e+01, -1.26838559e+01, -9.82463837e+01,\n",
       "       -2.18171420e+01,  1.47747748e+02,  1.46087327e+02,  3.64439421e+01,\n",
       "        1.39434327e+02,  2.37133150e+02,  2.11507385e+02,  1.00570173e+02,\n",
       "        1.21531415e+02,  5.68155415e+01,  2.40824325e+01,  7.05835355e+01,\n",
       "        2.29342106e+02,  7.34440228e+01,  7.37047589e+01,  1.01767478e+02,\n",
       "        1.26311958e+02,  3.25763217e+01,  4.39005151e+01, -6.78004171e+01,\n",
       "       -6.41281022e+01,  3.96959254e+01,  3.94620790e+01,  8.76462593e+01,\n",
       "        1.15993052e+02,  3.25469655e+01, -4.79319096e+01,  7.83837305e+01,\n",
       "       -3.05096750e+01, -7.98911426e+00,  1.45922103e+02,  5.36014833e+01,\n",
       "        4.06162750e+01,  1.28148972e+02,  2.60719382e+00,  1.39139961e+01,\n",
       "        7.96210709e+01,  1.91552691e+02, -2.69931691e+01, -5.03774850e+01,\n",
       "        2.89937338e+02,  8.53668995e+01,  4.63736881e+01,  6.00626183e+01,\n",
       "        8.46639070e+01,  7.93245303e+01,  2.59608015e+02,  8.30847306e+01,\n",
       "        3.28962008e+01, -1.00540644e+02,  1.06155231e+02, -1.74201339e+01,\n",
       "        2.49955179e+01, -1.20458750e+02,  1.33388090e+02,  1.17254175e+02,\n",
       "        6.05341728e+01,  2.85444593e+01, -5.09970427e+01, -1.37893829e+02,\n",
       "        5.28477833e+01,  5.37229717e+01,  1.23071245e+02,  6.07496981e+01,\n",
       "        1.76027763e+02,  1.35866436e+02,  7.50472847e+01,  1.21561427e+02,\n",
       "        8.62301722e+01,  2.35721742e+02,  8.81923214e+01,  8.98774172e+01,\n",
       "        2.63353639e+01,  5.62772094e+01,  1.93082173e+02,  1.66482904e+02,\n",
       "        1.42589737e+01,  1.64650947e+02, -1.91339243e+01,  6.89894923e+01,\n",
       "        1.03917320e+02,  1.85380115e+02, -1.17352107e+00, -1.02694594e+01,\n",
       "       -3.10356387e+01,  2.00660747e+02,  1.50020125e+02, -7.97988309e+00,\n",
       "       -2.22991997e+01, -7.87397574e+00,  1.11210233e+02,  9.84426725e-01,\n",
       "        1.22527231e+01,  1.19773329e+02,  6.63610498e+01,  2.50415062e+02,\n",
       "        2.01977613e+02,  1.60406833e+02,  7.68039541e+01,  2.06971736e+02,\n",
       "        1.14722031e+02,  5.03502271e+01,  7.44104816e+01,  2.03060707e+02,\n",
       "        1.70414623e+02, -6.81545933e+01,  9.34007303e+01,  1.29778077e+02,\n",
       "        1.63755142e+02,  1.28110591e+02,  2.18090265e+02,  1.18291961e+02,\n",
       "        1.80374820e+02,  1.92949367e+01,  2.50969371e+02,  1.95595102e+02,\n",
       "        6.16315762e+01,  2.03170541e+02,  1.13405534e+02,  1.29378721e+02,\n",
       "        5.79931476e+01,  1.00046288e+02,  1.46814186e+02,  9.34367878e+01,\n",
       "        1.35192508e+02,  1.93118714e+02, -1.77141953e+01,  1.07324326e+02,\n",
       "        2.97242502e+01,  1.51442492e+02,  2.83861851e+01,  5.43332438e+01,\n",
       "        1.46339876e+01,  1.54851874e+02,  1.41987106e+02,  1.21609650e+01,\n",
       "        5.08503575e+01, -6.56806595e+01,  4.06430914e+01,  2.66528583e+01,\n",
       "        6.32389987e+01,  5.35654276e+01,  1.60233884e+02,  2.17958712e+02,\n",
       "        3.00640540e+01,  1.06331710e+02,  3.57963185e+01, -9.10739912e+00,\n",
       "        1.91775997e+00, -8.85532756e+01,  1.49554028e+02,  1.66821720e+02,\n",
       "        5.36367175e+01, -5.97627189e+01,  4.99914632e+01,  6.31032045e+00,\n",
       "       -2.81896304e+01,  6.58030475e+01, -1.61570732e+01,  1.43164273e+02,\n",
       "       -6.46505616e+00,  6.66130692e+01,  2.54137516e+01,  3.16378182e+01,\n",
       "       -1.14094755e+01,  5.86551030e+01,  9.71074690e+00,  1.60694023e+02,\n",
       "        1.53311453e+02, -1.58407381e+01,  1.29495617e+02,  6.23792981e+01,\n",
       "        1.47360083e+02, -2.94484264e+01,  3.73101599e+02,  1.01515968e+02,\n",
       "        9.13301869e+01,  5.35900527e+01, -9.90497079e+01,  3.46095606e+02,\n",
       "        1.31912591e+02,  4.70316627e+01,  1.91048404e+02,  3.52766287e+01,\n",
       "        2.77346132e+02,  1.06891298e+02,  7.35613134e+00,  8.60944279e+01,\n",
       "       -1.09353006e+02,  7.84706251e+01,  2.83114218e+02,  1.39994471e+01,\n",
       "        6.06685415e+00,  1.80624779e+02,  3.92832863e+01,  1.09002855e+02,\n",
       "        2.60619127e+02,  1.44231883e+02,  9.06617968e+00,  3.24273721e+02,\n",
       "        1.23475077e+01,  2.97768734e+02, -1.73302629e+02,  1.64529669e+02,\n",
       "        3.33011497e+02,  2.01736876e+01,  4.54538923e+01,  1.80230660e+02,\n",
       "       -1.13655338e+01,  1.57494122e+02,  2.51502911e+02, -7.25030411e+01,\n",
       "        4.12166228e+01,  6.57632515e-01,  2.00091727e+01,  4.01155522e+01,\n",
       "        5.14044494e+01,  2.38272149e+02,  3.08074141e+01, -3.93877390e+01,\n",
       "        8.23657008e+01,  8.19832723e+01,  1.94489027e+02, -1.84441045e+01,\n",
       "        3.20216080e+01,  6.76641580e+01,  1.34719584e+02,  1.10974669e+02,\n",
       "       -7.70835419e+01, -7.34431326e+01,  5.73418140e+01,  1.75592256e+02,\n",
       "        1.24311231e+02, -7.56875215e+01,  2.65203039e+01, -9.18085860e+01,\n",
       "        2.62225051e+01,  1.30124211e+01, -2.25535267e+01,  1.01688280e+02,\n",
       "        1.04168445e+02,  1.75082978e+02,  1.92590718e+02,  1.18386802e+02,\n",
       "       -3.05422205e+01,  2.62477206e+01, -1.70190009e+01,  1.73283090e+02,\n",
       "        1.07044198e+02, -1.70449562e+01, -1.03817135e+02,  2.36634444e+01,\n",
       "        2.89210938e+02,  1.17124093e+01,  1.65449635e+02,  1.89262988e+02,\n",
       "        7.00545080e+01, -5.00434336e+01,  1.51934281e+02, -2.35993413e+01,\n",
       "        1.89379064e+02,  1.68177769e+02, -5.40292726e+01,  6.70513320e+01,\n",
       "        1.18936846e+02,  7.00232682e+01,  1.09090161e+02,  1.63051295e+02,\n",
       "        7.30870528e+01,  3.89673607e+01,  1.53664981e+02,  8.69023622e+01,\n",
       "        2.57862874e+02,  5.92579501e+01,  1.60529147e+02,  2.06551029e+02,\n",
       "       -9.58319291e+01,  1.77989234e+01,  2.96051088e+01, -1.39344416e+02,\n",
       "        1.44035892e+02,  6.58472402e+01,  9.02804451e+00,  7.89712792e+01,\n",
       "       -2.13200647e+00,  1.17791350e+02,  8.35490000e+01,  1.94466568e+02,\n",
       "        2.90739883e+02, -2.13564851e+01,  1.21538834e+02,  1.96334002e+01,\n",
       "        6.70419697e+01,  1.34123026e+02, -3.49553857e+01,  3.59667130e+01,\n",
       "        7.74236536e+01, -5.53600502e+01,  1.44793484e+01, -3.73325673e+01,\n",
       "       -1.56024626e+01,  3.19717743e+01,  1.61182798e+02,  2.66426199e+01,\n",
       "        4.32634192e+01,  1.13404250e+02,  1.17685782e+02,  2.91393680e+01,\n",
       "       -4.24158301e+01, -5.88908702e+01, -7.29417145e+01, -3.44133622e+01,\n",
       "        3.19914069e+02,  2.77719684e+01,  8.29722033e+01,  1.33544843e+02,\n",
       "        1.79688720e+01, -7.40306259e+00, -1.79635094e+01, -1.11923153e+01,\n",
       "        2.10674119e-01,  2.13445340e+02, -2.46442655e+01,  1.16987978e+02,\n",
       "        1.28169456e+02,  2.32574266e+02,  8.50036174e+01,  4.60770911e+01,\n",
       "        9.50129500e+01,  2.60288722e+02,  1.00606077e+02, -1.15703496e+01,\n",
       "        2.62538752e+02, -1.14899958e+02,  9.25086734e+01,  5.40661217e+01,\n",
       "        2.13291855e+01,  1.18619108e+02,  1.10242353e+02,  2.08013025e+02,\n",
       "        2.09111475e+02,  2.10919968e+02, -9.59948838e+01,  1.18217262e+02,\n",
       "       -1.04839474e+02,  7.64366560e+01,  3.16969661e+01,  1.18258191e+02,\n",
       "        1.33379844e+02,  1.34745963e+02,  3.61161219e+01, -1.43224252e+01,\n",
       "        1.76014013e+01,  6.68309765e+01, -1.05561751e+02, -3.42421381e+00,\n",
       "       -9.05189864e+01,  1.87958842e+02, -1.77259747e+02, -5.03833549e+00,\n",
       "        5.81718887e+01,  7.52782216e+01,  2.11986046e+02,  5.65506415e+01,\n",
       "        9.78585911e+01, -1.84048046e+01, -1.02214092e+02,  1.01381797e+00,\n",
       "        1.41905915e+02,  8.26827808e+01,  6.31949493e+01,  1.61031424e+02,\n",
       "       -2.37624184e+01,  2.02558093e+02,  4.69874623e+01, -2.86646671e+01,\n",
       "        2.18215254e+02, -1.38810167e+02, -3.94490976e+00,  9.07385780e+01,\n",
       "        8.03498118e+01,  1.25924841e+02, -2.71359220e+01, -6.24166119e+01,\n",
       "        3.78687005e+01,  1.71519323e+02,  1.26686830e+02, -6.11003798e+01,\n",
       "       -2.19082393e+01,  1.32761388e+02,  3.01857546e+01,  1.04702257e+02,\n",
       "        7.92379554e+01, -4.23448020e+01,  3.56189896e+01,  1.74975332e+02,\n",
       "        1.17545764e+02,  3.83092617e+01,  1.50045143e+02,  2.92293666e+01,\n",
       "        1.69732092e+02,  1.07495086e+02,  1.00933935e+02,  9.39797380e+01,\n",
       "        6.73253006e+01,  1.66877450e+02,  3.08002532e+01, -1.58780273e+02,\n",
       "        5.00231312e+01, -4.76819803e+00,  1.24821304e+02,  2.72813332e+01,\n",
       "        1.26134852e+02,  1.75980871e+02,  2.39482585e+02,  1.43413303e+02,\n",
       "        9.75591387e+01,  1.58663411e+02, -3.95367132e+01,  9.47821171e+01,\n",
       "       -1.37916804e+01,  1.80970359e+02,  2.19342899e+02,  2.22172746e+01,\n",
       "        6.86321859e+01, -4.84381463e+01, -4.58183434e+01, -6.94118601e+01,\n",
       "        1.45306420e+02,  2.01936073e+02,  4.71260497e+01, -1.25479910e+02,\n",
       "        1.43864958e+02,  3.59415500e+01,  1.14869127e+02, -9.14234896e+01,\n",
       "        1.30063438e+02,  1.73924531e+02, -1.07586562e+01,  1.46220568e+02,\n",
       "       -1.21746376e+01,  1.57885392e+02,  1.34821497e+02,  8.40619602e+01,\n",
       "        1.04530983e+02,  5.14865878e+01,  1.15237828e+01,  2.82895289e+02,\n",
       "        9.17735884e+01,  6.06770247e+01, -6.18518714e+01,  1.23139822e+02,\n",
       "       -6.02800017e+01,  2.04353677e+02, -3.78022051e+01,  6.08017569e+01,\n",
       "        1.44437498e+02,  1.16147674e+02,  1.22056121e+02,  1.06548750e+02,\n",
       "       -3.98268791e+01, -5.14457872e+01,  1.44588015e+02, -1.34716653e+02,\n",
       "        8.94977125e+01, -2.29562938e+01,  8.83937980e+01,  3.26135305e+01,\n",
       "        1.21689844e+00,  1.23179116e+02,  1.65208700e+02,  9.12342186e-01,\n",
       "        3.85358310e+01,  1.41457711e+02, -2.15334199e+01,  1.94371109e+02,\n",
       "        1.07060118e+02, -6.55121437e+01, -1.24289785e+02, -6.80007161e+01,\n",
       "       -2.04903035e+01,  1.16139237e+02,  1.68303125e+02, -1.67245345e+02,\n",
       "        2.52869333e+02,  9.55644386e+01,  2.31915410e+02, -1.46748822e+02,\n",
       "        5.56817607e+01,  7.67781878e+01,  8.01555621e+01,  6.49574180e+00,\n",
       "        1.26840589e+02,  3.37823558e+01,  1.97299197e+00, -8.09574685e+01,\n",
       "        9.77519174e+01,  2.21369902e+02,  2.89648879e+02,  3.06920742e+02,\n",
       "        1.92755407e+02,  1.36559075e+02,  2.00850476e+02,  6.46503498e+01,\n",
       "        5.60266082e+01, -2.12818377e+01,  4.60857180e+01,  8.58683905e+01,\n",
       "        1.44261403e+02, -7.94659281e+01, -2.99079935e+01,  2.04891332e+02,\n",
       "        2.24011999e+02, -5.22939920e+01, -6.27121734e+01,  2.01380013e+01,\n",
       "        7.96762580e+01,  1.84525185e+02, -1.19945403e+02, -2.20209786e+01,\n",
       "        1.79932516e+02,  1.22877686e+02,  5.00508177e+01,  8.91470400e+01,\n",
       "       -7.48492223e+01,  2.94730349e+01,  6.41812142e+01,  7.26406057e+01,\n",
       "        1.63871349e+02, -6.11472628e+01, -8.07898643e+01, -1.14517846e+01,\n",
       "        2.41128856e+00,  9.04344443e+01,  1.90053363e+02,  1.84484631e+02,\n",
       "        3.35269922e+01,  1.46332583e+02,  2.90510590e+02,  2.00258923e+02,\n",
       "        1.30320713e+02,  1.95371951e+02,  9.44851131e+01, -3.36277488e+01,\n",
       "        9.58727719e+01, -1.09818673e+02,  2.15708496e+02,  1.66551765e+02,\n",
       "       -2.27286737e+01,  1.00759189e+02,  2.34298500e+02,  2.78485960e+01,\n",
       "        6.72622589e+01,  1.86014725e+02,  3.48045961e+01,  7.31539773e+01,\n",
       "        1.62284264e+01,  1.00815679e+02,  2.41779086e+02,  9.51931145e+01,\n",
       "        2.14234817e+02,  2.99859277e+02,  1.73421629e+02,  1.97585719e+02,\n",
       "        5.79841727e+01, -3.05610771e+00,  1.37601867e+02,  1.02968681e+02,\n",
       "        8.77921318e+01,  2.25186500e+02,  1.10901881e+02,  4.67848999e+00,\n",
       "       -1.93487822e+01, -1.18870096e+02, -3.49433911e+01,  9.12627716e+01])"
      ]
     },
     "execution_count": 129,
     "metadata": {},
     "output_type": "execute_result"
    }
   ],
   "source": [
    "#An example of using the loc and scale parameters.\n",
    "#To create an array of values with a mean of 75 (loc) and a standard deviation of 100 (scale)\n",
    "c=np.random.normal( loc = 75, size = 1000, scale = 100)\n",
    "#The array will display a mix of positive and negative outputs.\n",
    "c"
   ]
  },
  {
   "cell_type": "code",
   "execution_count": 130,
   "metadata": {},
   "outputs": [
    {
     "data": {
      "text/plain": [
       "<function matplotlib.pyplot.show(*args, **kw)>"
      ]
     },
     "execution_count": 130,
     "metadata": {},
     "output_type": "execute_result"
    },
    {
     "data": {
      "image/png": "[encoded data removed]",
      "text/plain": [
       "<Figure size 432x288 with 1 Axes>"
      ]
     },
     "metadata": {
      "needs_background": "light"
     },
     "output_type": "display_data"
    }
   ],
   "source": [
    "plt.hist(c)\n",
    "plt.show"
   ]
  },
  {
   "cell_type": "markdown",
   "metadata": {},
   "source": [
    "The production of a plot displays how the normal distribution looks.<br>\n",
    "Normal distribution in its ideal form shows the majority of numbers concentrated centrally with an<br>\n",
    "equal dispersal of values tapering off to either side.\n",
    "In common usage the shape may not follow the ideal \"bell curve\" due to variations in the values."
   ]
  },
  {
   "cell_type": "markdown",
   "metadata": {},
   "source": [
    "### ii. uniform (low=0.0, high=1.0, size=None)"
   ]
  },
  {
   "cell_type": "code",
   "execution_count": 131,
   "metadata": {},
   "outputs": [],
   "source": [
    "#### Purpose"
   ]
  },
  {
   "cell_type": "markdown",
   "metadata": {},
   "source": [
    "Uniform distribution has constant probability - every outcome is equally likely to occur. Real-life examples are rolling a dice or the chance winning a raffle prize - everyone in the draw has an equal possibility to win."
   ]
  },
  {
   "cell_type": "markdown",
   "metadata": {},
   "source": [
    "In order to use this function the inputs are:<br>\n",
    "**low** : float or array_like of floats, optional; <br> default is 0. Lower boundary - all random values generated will be greater than or equal to it. <br>\n",
    "**high** : float or array_like of floats:<br> default is 1.0. Upper boundary -all random values generated will be lower than it.<br>\n",
    "**size** : int or tuple of ints, optional\n",
    "to give an output of ndarray or scalar samples from the uniform distribution."
   ]
  },
  {
   "cell_type": "code",
   "execution_count": 132,
   "metadata": {},
   "outputs": [],
   "source": [
    "#### Applications/Usage"
   ]
  },
  {
   "cell_type": "code",
   "execution_count": 133,
   "metadata": {},
   "outputs": [
    {
     "data": {
      "text/plain": [
       "0.559759204252065"
      ]
     },
     "execution_count": 133,
     "metadata": {},
     "output_type": "execute_result"
    }
   ],
   "source": [
    "#An empty parenthesis defaults to 1.0 and generates a random number from uniform distribution\n",
    "np.random.uniform()"
   ]
  },
  {
   "cell_type": "code",
   "execution_count": 134,
   "metadata": {},
   "outputs": [
    {
     "data": {
      "text/plain": [
       "array([17.33517867, 10.06716853, 15.91261306, 13.01260284, 19.83314393,\n",
       "       18.61007733, 16.96093239])"
      ]
     },
     "execution_count": 134,
     "metadata": {},
     "output_type": "execute_result"
    }
   ],
   "source": [
    "#this code will produce an array of 7 random floating point numbers between 10 and 20\n",
    "#the output is in a continuous uniform distribution\n",
    "np.random.uniform (10,20,7)"
   ]
  },
  {
   "cell_type": "code",
   "execution_count": 135,
   "metadata": {},
   "outputs": [
    {
     "data": {
      "text/plain": [
       "<function matplotlib.pyplot.show(*args, **kw)>"
      ]
     },
     "execution_count": 135,
     "metadata": {},
     "output_type": "execute_result"
    },
    {
     "data": {
      "image/png": "[encoded data removed]",
      "text/plain": [
       "<Figure size 432x288 with 1 Axes>"
      ]
     },
     "metadata": {
      "needs_background": "light"
     },
     "output_type": "display_data"
    }
   ],
   "source": [
    "y = np.random.uniform (10,20,7)\n",
    "plt.hist(y)\n",
    "plt.show"
   ]
  },
  {
   "cell_type": "markdown",
   "metadata": {},
   "source": [
    "The plot appears to show a large discrepancy on certain numbers,but when the range is bigger (as in the graph below)<br>\n",
    "the distribution is easier to view.  \n",
    "The bars in the histogram are almost all the same height - but don't appear in a straight line."
   ]
  },
  {
   "cell_type": "code",
   "execution_count": 136,
   "metadata": {},
   "outputs": [
    {
     "data": {
      "text/plain": [
       "<function matplotlib.pyplot.show(*args, **kw)>"
      ]
     },
     "execution_count": 136,
     "metadata": {},
     "output_type": "execute_result"
    },
    {
     "data": {
      "image/png": "[encoded data removed]",
      "text/plain": [
       "<Figure size 432x288 with 1 Axes>"
      ]
     },
     "metadata": {
      "needs_background": "light"
     },
     "output_type": "display_data"
    }
   ],
   "source": [
    "y = np.random.uniform (10,20,700)\n",
    "plt.hist(y)\n",
    "plt.show"
   ]
  },
  {
   "cell_type": "markdown",
   "metadata": {},
   "source": [
    "### iii. exponential (scale=1.0, size=None)¶"
   ]
  },
  {
   "cell_type": "code",
   "execution_count": 137,
   "metadata": {},
   "outputs": [],
   "source": [
    "#### Purpose"
   ]
  },
  {
   "cell_type": "markdown",
   "metadata": {},
   "source": [
    "The exponential distribution can be used to describe many common situation e.g. the size of raindrops measured during storms,   and often models waiting time e.g., the time it takes, after an event, for the next event to occur.<br>\n",
    "Exponential distribution is regularly used to model items with a constant failure rate e.g. the time until a component in a machine breaks.\n",
    "It is linked to the poisson distribution.<br>\n",
    "In order to use the numpy function, the inputs should be: <br>\n",
    "**scale** (floats) which represents the mean and standard deviation <br>\n",
    "**size** (optional - integer format) <br>\n",
    "to give an output of ndarray or scalar samples from an exponential distribution."
   ]
  },
  {
   "cell_type": "code",
   "execution_count": 138,
   "metadata": {},
   "outputs": [],
   "source": [
    "#### Applications/Usage"
   ]
  },
  {
   "cell_type": "code",
   "execution_count": 139,
   "metadata": {},
   "outputs": [
    {
     "data": {
      "text/plain": [
       "0.3767742720211204"
      ]
     },
     "execution_count": 139,
     "metadata": {},
     "output_type": "execute_result"
    }
   ],
   "source": [
    "#An empty parenthesis generates a random number from exponential distribution\n",
    "np.random.exponential()"
   ]
  },
  {
   "cell_type": "code",
   "execution_count": 157,
   "metadata": {},
   "outputs": [
    {
     "data": {
      "text/plain": [
       "array([  4.14504119,  21.6475266 ,   8.93451764, 204.22017009,\n",
       "       106.27560773,  34.06720243,  25.62128192,  30.00939382,\n",
       "        63.80510957,  14.2355435 ])"
      ]
     },
     "execution_count": 157,
     "metadata": {},
     "output_type": "execute_result"
    }
   ],
   "source": [
    "#code to produce a sample of 10 numbers with an exponential distribution where the mean/scale value is 50\n",
    "np.random.exponential(50,10)"
   ]
  },
  {
   "cell_type": "code",
   "execution_count": 164,
   "metadata": {},
   "outputs": [
    {
     "data": {
      "text/plain": [
       "<function matplotlib.pyplot.show(*args, **kw)>"
      ]
     },
     "execution_count": 164,
     "metadata": {},
     "output_type": "execute_result"
    },
    {
     "data": {
      "image/png": "[encoded data removed]",
      "text/plain": [
       "<Figure size 432x288 with 1 Axes>"
      ]
     },
     "metadata": {
      "needs_background": "light"
     },
     "output_type": "display_data"
    }
   ],
   "source": [
    "#a plot to illustrate exponential distribution\n",
    "#a larger sample of 500 is selected so that the pattern becomes more obvious in the histogram\n",
    "z=np.random.exponential(50,500)\n",
    "plt.hist(z)\n",
    "plt.show"
   ]
  },
  {
   "cell_type": "markdown",
   "metadata": {},
   "source": [
    "Exponential distribution is regularly used to model items with a constant failure rate and the histogram shape characteristically shows a downward trajectory and the \"constant failure rate\"."
   ]
  },
  {
   "cell_type": "markdown",
   "metadata": {},
   "source": [
    "### iv.  binomial (n, p, size=None)"
   ]
  },
  {
   "cell_type": "markdown",
   "metadata": {},
   "source": [
    "#### Purpose"
   ]
  },
  {
   "cell_type": "markdown",
   "metadata": {},
   "source": [
    "The binomial distribution can be used in any instance repeated multiple times where there are deemed to be two possible outcomes - success or failure e.g. the purchase of a Lotto ticket - you either win something or you don't.<br>\n",
    "It is linked to the Bernoulli distribution. <br>\n",
    "In order to use the numpy function, the inputs should be: <br>\n",
    "**n**: number of trials (int or array_like of ints. Parameter of the distribution, >= 0. Floats are also accepted, but they will be truncated to integers.)<br>\n",
    "**p** : probability of success - float or array_like of floats (Parameter of the distribution, >= 0 and <=1.)<br>\n",
    "**size** : int or tuple of ints, optional<br>\n",
    "\n",
    "The output is of ndarray or scalar samples from the parameterized binomial distribution, where each sample is equal to the number of successes over the n trials"
   ]
  },
  {
   "cell_type": "markdown",
   "metadata": {},
   "source": [
    "#### Applications/Usage"
   ]
  },
  {
   "cell_type": "code",
   "execution_count": 142,
   "metadata": {},
   "outputs": [
    {
     "data": {
      "text/plain": [
       "3"
      ]
     },
     "execution_count": 142,
     "metadata": {},
     "output_type": "execute_result"
    }
   ],
   "source": [
    "#An empty parenthesis roduces an error because this distribution requires at least 2 arguments.\n",
    "#This code produces the number of success where the probability is 0.5 in 4 trials\n",
    "np.random.binomial(4,0.5)"
   ]
  },
  {
   "cell_type": "code",
   "execution_count": 143,
   "metadata": {},
   "outputs": [
    {
     "name": "stdout",
     "output_type": "stream",
     "text": [
      "[259 262 265 ... 261 246 242]\n"
     ]
    }
   ],
   "source": [
    "#code verbatim from https://discuss.codecademy.com/t/what-does-the-np-random-binomial-function-return/361162\n",
    "# n = 500 (samples or trials)\n",
    "# p = 0.5 (probability of success)\n",
    "# size = 10000 (number of experiments)\n",
    "# The result is 10000 randomly selected \n",
    "# experiments from the distribution using the binomial distribution of two possible outcomes\n",
    "\n",
    "tests = np.random.binomial(500, 0.5, size=10000)\n",
    "print(tests)"
   ]
  },
  {
   "cell_type": "code",
   "execution_count": 144,
   "metadata": {},
   "outputs": [
    {
     "data": {
      "text/plain": [
       "<function matplotlib.pyplot.show(*args, **kw)>"
      ]
     },
     "execution_count": 144,
     "metadata": {},
     "output_type": "execute_result"
    },
    {
     "data": {
      "image/png": "[encoded data removed]",
      "text/plain": [
       "<Figure size 432x288 with 1 Axes>"
      ]
     },
     "metadata": {
      "needs_background": "light"
     },
     "output_type": "display_data"
    }
   ],
   "source": [
    "plt.hist(tests)\n",
    "#the plot displays the majority of results around 250 half of the sample (500), that is consistent with the binomial\n",
    "#principle of two possible outcomes.  \n",
    "plt.show"
   ]
  },
  {
   "cell_type": "markdown",
   "metadata": {},
   "source": [
    "I note that the resulting plot resembles the \"bell shaped\" curve of a normal distribution.  \n",
    "Normal distribution can be used as an approximation to the binomial distribution, under certain circumstances."
   ]
  },
  {
   "cell_type": "markdown",
   "metadata": {},
   "source": [
    "### v. poisson (lam=1.0, size=None)"
   ]
  },
  {
   "cell_type": "code",
   "execution_count": 145,
   "metadata": {},
   "outputs": [],
   "source": [
    "#### Use and Purpose"
   ]
  },
  {
   "cell_type": "markdown",
   "metadata": {},
   "source": [
    "The Poisson distribution is used to plot the likelihood of a certain number of events within an expected time interval.\n",
    "It is linked to exponential distribution which can be used models the waiting time between such events."
   ]
  },
  {
   "cell_type": "markdown",
   "metadata": {},
   "source": [
    "In order to use the poisson numpy function, the two inputs should be: <br>\n",
    "**lam** : >= 0 float or array_like of floats (lam/lambda is a mathematical function)<br>\n",
    "**size** : optional, int or tuple of ints<br>\n",
    "The output is of ndarray or scalar samples from the parameterized poisson distribution."
   ]
  },
  {
   "cell_type": "code",
   "execution_count": 146,
   "metadata": {},
   "outputs": [
    {
     "data": {
      "text/plain": [
       "array([1, 3, 7, ..., 7, 2, 2])"
      ]
     },
     "execution_count": 146,
     "metadata": {},
     "output_type": "execute_result"
    }
   ],
   "source": [
    "#s = the probability of 2000 events over intervals of 3\n",
    "s = np.random.poisson(3,2000)\n",
    "s"
   ]
  },
  {
   "cell_type": "code",
   "execution_count": null,
   "metadata": {},
   "outputs": [],
   "source": []
  },
  {
   "cell_type": "code",
   "execution_count": 147,
   "metadata": {},
   "outputs": [
    {
     "data": {
      "text/plain": [
       "<function matplotlib.pyplot.show(*args, **kw)>"
      ]
     },
     "execution_count": 147,
     "metadata": {},
     "output_type": "execute_result"
    },
    {
     "data": {
      "image/png": "[encoded data removed]",
      "text/plain": [
       "<Figure size 432x288 with 1 Axes>"
      ]
     },
     "metadata": {
      "needs_background": "light"
     },
     "output_type": "display_data"
    }
   ],
   "source": [
    "plt.hist(s)\n",
    "#the plot displays the number of occurences along the horizontal axis and the probability along the vertical one.  \n",
    "  \n",
    "plt.show"
   ]
  },
  {
   "cell_type": "markdown",
   "metadata": {},
   "source": [
    "I note that this plot has similarities to the characteristic bell shape of the normal distribution.\n",
    "Normal distribution can be used to approximate the Poisson distribution for large values."
   ]
  },
  {
   "cell_type": "markdown",
   "metadata": {},
   "source": [
    "***"
   ]
  },
  {
   "cell_type": "markdown",
   "metadata": {},
   "source": [
    "## Section 4: Explain the use of seeds in generating pseudorandom numbers."
   ]
  },
  {
   "cell_type": "markdown",
   "metadata": {},
   "source": [
    "***"
   ]
  },
  {
   "cell_type": "markdown",
   "metadata": {},
   "source": [
    "\n",
    "\n",
    "The topic of seeds and random number generation is currently an active area of research.  \n",
    "For example, the paper [Design and Analysis of a True Random Number Generator Based on GSR Signals for Body Sensor Network](https://www.mdpi.com/1424-8220/19/9/2033) published in 2019 explores how a TRNG can be created using the vital signs of a monitored patient and this in turn is used to encrypt their medical data that is being transmitted on a radio signal.<br>\n",
    "Computers have difficulty generating truly random numbers and require a mechanism to do so; therefore \n",
    "a number is not actually random but appears to be so i.e., pseudo random.\n",
    "\n",
    "The term \"seed\" refers to the starting position of generating pseudo-random numbers which then uses an algorithim to continue producing numbers e.g. multiplying this by a large number then taking modulo (remainder after division) of the product. <br>\n",
    "The seed is linked to the system time when the number was generated, i.e., when the numpy random generator is imported onto your machine, the seed is selected and holds from that moment on.  \n",
    "\n",
    "If the seed is known/set it is possible to predict the pattern because the algorithm will do the same equation and return the same numbers at each iteration. \n",
    "Setting the seed is useful when demonstrating or testing code, e.g., a script can calculate results based on a \n",
    "random selection of numbers, then after debugging, test the code again using the same selection of numbers so that the code will do the same thing.\n",
    "\n",
    "When seemingly random numbers are required: do not set the seed. \n",
    "To get the most random numbers for each run, call numpy.random.seed(). This will cause numpy to set the seed to a random number obtained from /dev/urandom or its Windows analog or, if neither of those is available, it will use the clock.\n",
    "***"
   ]
  },
  {
   "cell_type": "markdown",
   "metadata": {},
   "source": [
    "### Examples of the seed function\n",
    "#### In order to illustrate the use of seed function I will compare two scripts"
   ]
  },
  {
   "cell_type": "code",
   "execution_count": 148,
   "metadata": {},
   "outputs": [
    {
     "name": "stdout",
     "output_type": "stream",
     "text": [
      "2\n",
      "9\n",
      "10\n",
      "3\n",
      "7\n",
      "4\n",
      "2\n",
      "4\n",
      "6\n",
      "4\n"
     ]
    }
   ],
   "source": [
    "#from the numpy random module, import randint - the command that returns random integers from your indicated\n",
    "#selection of low to high\n",
    "from random import randint\n",
    "#print a selection of 10 random integers between 1 and 10\n",
    "for i in range (10):print (randint(1,10))\n",
    "#this command,if used, would instead just print one integer: print (randint(1,10))"
   ]
  },
  {
   "cell_type": "code",
   "execution_count": 149,
   "metadata": {},
   "outputs": [
    {
     "name": "stdout",
     "output_type": "stream",
     "text": [
      "10\n",
      "3\n",
      "4\n",
      "5\n",
      "8\n",
      "9\n",
      "9\n",
      "3\n",
      "10\n",
      "9\n"
     ]
    }
   ],
   "source": [
    "#This script first imports seed, then includes the call for the seed function which I have set at 33\n",
    "#When the seed is set each iteration produces the same sequence.\n",
    "from random import randint, seed\n",
    "seed(33)\n",
    "for i in range (10):print (randint(1,10))"
   ]
  },
  {
   "cell_type": "code",
   "execution_count": 150,
   "metadata": {},
   "outputs": [
    {
     "data": {
      "text/plain": [
       "0.24851012743772993"
      ]
     },
     "execution_count": 150,
     "metadata": {},
     "output_type": "execute_result"
    }
   ],
   "source": [
    "#this time using the random function\n",
    "#the output is always the same\n",
    "np.random.seed (33)\n",
    "np.random.random()"
   ]
  },
  {
   "cell_type": "markdown",
   "metadata": {},
   "source": [
    "***"
   ]
  },
  {
   "cell_type": "markdown",
   "metadata": {},
   "source": [
    "## Summary"
   ]
  },
  {
   "cell_type": "markdown",
   "metadata": {},
   "source": [
    "I have explained the benefits of randomness and the overall purpose of the numpy.random package in Python.<br>\n",
    "I have set out the current simple random data options and described three of them (rand, choice and bytes) in detail with a combination of scripts and plots. <br>\n",
    "I have described the use and purpose of five “Distributions” functions using scripts, plots and real-life examples of usage.<br>\n",
    "Finally, I have explained the background of pseudorandom numbers and demonstrated usage of the seed function.<br>"
   ]
  },
  {
   "cell_type": "markdown",
   "metadata": {},
   "source": [
    "## References used in completing the project"
   ]
  },
  {
   "cell_type": "markdown",
   "metadata": {},
   "source": [
    "Assignment 2019 for Programming for Data Analysis module, GMIT. [Online]\n",
    "Available on: https://github.com/ClodaghMurphy/Assignment-2019-progda [viewed October 2019]\n",
    "\n",
    "\n",
    "A Quick Introduction to the NumPy Library by Adi Bronshtein Apr 26, 2017   [Online]<br>\n",
    "Available on: https://towardsdatascience.com/a-quick-introduction-to-the-numpy-library-6f61b7dee4db [viewed October 2019]<br>\n",
    "\n",
    "Binomial Distribution: Formula, What it is and How to use it   [Online]<br>\n",
    "Available on: https://www.statisticshowto.datasciencecentral.com/probability-and-statistics/binomial-theorem/binomial-distribution-formula/[viewed October 2019]<br>\n",
    "\n",
    "Brian Christian and Tom Griffiths (2016), _Algorithms To Live By_ William Collins Books <br>\n",
    "\n",
    "Chapter 9.6. random — Generate pseudo-random numbers [Online<br>\n",
    "Available on: https://docs.python.org/2/library/random.html [viewed October 2019]<br>\n",
    "\n",
    "Continuous Probability Distributions for Machine Learning   [Online]<br>\n",
    "Available on: https://machinelearningmastery.com/continuous-probability-distributions-for-machine-learning/[viewed October 2019]<br>\n",
    "\n",
    "Design and Analysis of a True Random Number Generator Based on GSR Signals for Body Sensor Networks   [Online] <br>\n",
    "Available on: https://www.mdpi.com/1424-8220/19/9/2033 [viewed October 2019]<br>\n",
    "\n",
    "Exponential Distribution / Negative Exponential: Definition, Examples   [Online] <br>\n",
    "Available on: https://www.statisticshowto.datasciencecentral.com/exponential-distribution/ [viewed October 2019]<br>\n",
    "\n",
    "Generating Random Numbers With NumPy   [Online]<br>\n",
    "Available on: https://chrisalbon.com/python/basics/generating_random_numbers_with_numpy/ [viewed October 2019]<br>\n",
    "\n",
    "Histograms by Andrew F. Siegel, in Practical Business Statistics (Seventh Edition), 2016  [Online]<br>\n",
    "Available on: https://www.sciencedirect.com/topics/mathematics/histograms[viewed October 2019]<br>\n",
    "\n",
    "How to (efficiently) generate a huge number of pseudorandom bytes using Python   [Online]<br>\n",
    "Available on: https://www.stefanocappellini.it/generate-pseudorandom-bytes-with-python/ [viewed October 2019]<br>\n",
    "\n",
    "How to use numpy random normal in Python    [Online]<br>\n",
    "Available on: https://www.sharpsightlabs.com/blog/numpy-random-normal/[viewed October 2019]<br>\n",
    "\n",
    "Jupyter Notebook: An Introduction by Mike Driscoll Jan 28, 2019   [Online]<br>\n",
    "Available on: https://realpython.com/jupyter-notebook-introduction/ [viewed October 2019]<br>\n",
    "\n",
    "Let’s talk about NumPy — for Data Science Beginners by Ehi Aigiomawu Apr 15, 2018  [Online] <br>\n",
    "Available on: https://towardsdatascience.com/lets-talk-about-numpy-for-datascience-beginners-b8088722309f [viewed October 2019]<br>\n",
    "\n",
    "Normal Approximations [Online] <br>\n",
    "Available on: https://revisionmaths.com/advanced-level-maths-revision/statistics/normal-approximations [viewed October 2019]<br>\n",
    "\n",
    "NumPy Tutorial: random, randint, seed, randn, rand, randint, shuffle, uniform, choice - Part 6 [Online] <br>\n",
    "Available on: https://www.youtube.com/watch?v=ck-ymnLYWQ0[viewed October 2019]<br>\n",
    "\n",
    "Playing cards [Online]<br>\n",
    "Available on: https://rosettacode.org/wiki/Playing_cards[viewed October 2019]<br>\n",
    "\n",
    "Probability Distributions in Data Science [Online] <br>\n",
    "Available on: https://towardsdatascience.com/probability-distributions-in-data-science-cce6e64873a7[viewed October 2019]<br>\n",
    "\n",
    "Python Basics Tutorial Random Seed Method [Online] <br>\n",
    "Available on: https://www.youtube.com/watch?v=mZiwtDYrpO8 [viewed October 2019]<br>\n",
    "\n",
    "Python for Data Analysis Part 22: Probability Distributions [Online]<br>\n",
    "Available on: http://hamelg.blogspot.com/2015/11/python-for-data-analysis-part-22.html [viewed October 2019]<br>\n",
    "\n",
    "Python Tutorial: Generate Random Numbers and Data Using the random Module [Online][viewed October 2019]<br>\n",
    "Available on: https://www.youtube.com/watch?v=KzqSDvzOFNA <br>\n",
    "\n",
    "Python Random Number Generator: the Random Module || Python Tutorial || Learn Python Programming [Online] <br>\n",
    "Available on: https://www.youtube.com/watch?v=zWL3z7NMqAs [viewed October 2019]<br>\n",
    "\n",
    "Randomness for Modeling and Simulation by Jackie Wilson [Online] <br>\n",
    "Available on: https://realpython.com/lessons/randomness-modeling-and-simulation/[viewed October 2019]<br>\n",
    "\n",
    "Random sampling (numpy.random) [Online] <br>\n",
    "Available on: https://docs.scipy.org/doc/numpy-1.14.0/reference/routines.random.html[viewed October 2019]<br>\n",
    "\n",
    "The Exponential Distribution [Online] <br>\n",
    "Available on: http://reliawiki.org/index.php/The_Exponential_Distribution[viewed October 2019]<br>\n",
    "\n",
    "Understanding random number generators, and their limitations, in Linux [Online] <br>\n",
    "Available on: https://www.redhat.com/en/blog/understanding-random-number-generators-and-their-limitations-linux [viewed October 2019]<br>\n",
    "\n",
    "user John1024 [Online]\n",
    "Available on: https://stackoverflow.com/questions/21494489/what-does-numpy-random-seed0-do  [viewed October 2019]<br>\n",
    "\n",
    "What does the np.random.binomial function return?[Online]<br>\n",
    "Available on: https://discuss.codecademy.com/t/what-does-the-np-random-binomial-function-return/361162 [viewed October 2019]<br>\n",
    "\n",
    "What Is a Uniform Distribution? [Online] <br>\n",
    "Available on: https://www.thoughtco.com/uniform-distribution-3126573 [viewed October 2019]<br>\n",
    "\n"
   ]
  },
  {
   "cell_type": "code",
   "execution_count": null,
   "metadata": {},
   "outputs": [],
   "source": [
    "End"
   ]
  },
  {
   "cell_type": "markdown",
   "metadata": {},
   "source": [
    "***"
   ]
  }
 ],
 "metadata": {
  "kernelspec": {
   "display_name": "Python 3",
   "language": "python",
   "name": "python3"
  },
  "language_info": {
   "codemirror_mode": {
    "name": "ipython",
    "version": 3
   },
   "file_extension": ".py",
   "mimetype": "text/x-python",
   "name": "python",
   "nbconvert_exporter": "python",
   "pygments_lexer": "ipython3",
   "version": "3.7.1"
  }
 },
 "nbformat": 4,
 "nbformat_minor": 2
}
