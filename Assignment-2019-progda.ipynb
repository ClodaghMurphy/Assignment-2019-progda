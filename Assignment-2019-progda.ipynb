{
 "cells": [
  {
   "cell_type": "markdown",
   "metadata": {},
   "source": [
    "# Assignment 2019 Programming for Data Analysis\n",
    "## Due: last commit on or before November 11th"
   ]
  },
  {
   "cell_type": "markdown",
   "metadata": {},
   "source": [
    "1. Explain the overall purpose of the numpy.random package in Python.\n",
    "2. Explain the use of the “Simple random data” and “Permutations” functions.\n",
    "3. Explain the use and purpose of at least five “Distributions” functions.\n",
    "4. Explain the use of seeds in generating pseudorandom numbers.\n",
    "***"
   ]
  },
  {
   "cell_type": "markdown",
   "metadata": {},
   "source": [
    "## Section 1: Explain the overall purpose of the numpy.random package in Python."
   ]
  },
  {
   "cell_type": "markdown",
   "metadata": {},
   "source": [
    "NumPy, short for Numerical Python, is a linear algebra library in Python that most data science Python packages e.g, Mat−plotlib and Scikit-learn are built on.  NumPy works with collections of Python objects called multi-dimensional arrays this data structure is called ndarray (n-dimensional array).\n",
    "\n",
    "\n",
    "The Python numpy.random package generates random sample numbers, this function is useful when there is a requirement for\n",
    "unpredictability.  \n",
    "The Python Library warns that the package should not be used for cryptographic purposes. \n",
    "\n",
    "\n",
    "Almost all module functions depend on the basic function random(), which generates a random float uniformly in the half-open range [low, high) [0.0  , 1)\n",
    "The square brackets indicate where the numbers start and the round brackets show that the highest range is 1 but does not include 1.\n",
    "\n",
    "The basic random ( ) function will return a uniform distribution of numbers.\n",
    "If a different type of distribution is required - there are many more to choose from. \n",
    "The Mersenne Twister pseudorandom number generator (PRNG) algorithm is used to generate numbers.\n",
    "***\n"
   ]
  },
  {
   "cell_type": "code",
   "execution_count": 51,
   "metadata": {},
   "outputs": [
    {
     "data": {
      "text/plain": [
       "0.555607972776598"
      ]
     },
     "execution_count": 51,
     "metadata": {},
     "output_type": "execute_result"
    }
   ],
   "source": [
    "# example 1 of 3 with comments\n",
    "#Python Tutorial: Generate Random Numbers and Data Using the random Module https://www.youtube.com/watch?v=KzqSDvzOFNA\n",
    "#The most basic use of the command - produces numbers between 0 and up to but not including 1\n",
    "#Each time this command is called it will produce a different number\n",
    "import numpy as np\n",
    "import random\n",
    "#when the parenthesis are left empty, the output defaults to one.\n",
    "random.random()"
   ]
  },
  {
   "cell_type": "code",
   "execution_count": 63,
   "metadata": {},
   "outputs": [
    {
     "data": {
      "text/plain": [
       "array([0.23397467, 0.37524756, 0.7571289 , 0.40336663, 0.29832748,\n",
       "       0.99551737, 0.8400615 ])"
      ]
     },
     "execution_count": 63,
     "metadata": {},
     "output_type": "execute_result"
    }
   ],
   "source": [
    "#the inclusion of 7 produces an array of 7 random numbers\n",
    "np.random.random(7)"
   ]
  },
  {
   "cell_type": "code",
   "execution_count": 53,
   "metadata": {},
   "outputs": [
    {
     "data": {
      "text/plain": [
       "2"
      ]
     },
     "execution_count": 53,
     "metadata": {},
     "output_type": "execute_result"
    }
   ],
   "source": [
    "# example 2 of 3 with comments\n",
    "#the randint() method can be used for example to recreate the result of rolling a dice becuase it will produce integers\n",
    "#from the numpy random module, import randint - the command that returns random integers from your indicated\n",
    "#selection of low to high\n",
    "#call random.randint(1, 6)\n",
    "random.randint(1, 6)"
   ]
  },
  {
   "cell_type": "code",
   "execution_count": 60,
   "metadata": {},
   "outputs": [],
   "source": [
    "# example 3 of 3 with comments\n",
    "#something more advanced, also an example of data"
   ]
  },
  {
   "cell_type": "markdown",
   "metadata": {},
   "source": [
    "## Section 2: Explain the use of the “Simple random data” and “Permutations” functions.\n",
    "\n",
    "1. _Simple Random Data_\n",
    "INCLUDE EXAMPLE COdING WITH COMMENTS\n",
    "1. _Permutations_\n",
    "There are two functions - shuffle and permutation\n",
    "Shuffle modifies the contents of a sequence by \"shuffling\" its contents.\n",
    "Permute  rearranges the array,in the case of a multi-dimensional array, it is only shuffled along its first index.\n",
    "\n",
    "***"
   ]
  },
  {
   "cell_type": "code",
   "execution_count": 73,
   "metadata": {},
   "outputs": [],
   "source": [
    "#to demonstrate an example of shuffle\n",
    "#first create a range called a\n",
    "a=np.arange (10)"
   ]
  },
  {
   "cell_type": "code",
   "execution_count": 74,
   "metadata": {},
   "outputs": [
    {
     "data": {
      "text/plain": [
       "array([0, 1, 2, 3, 4, 5, 6, 7, 8, 9])"
      ]
     },
     "execution_count": 74,
     "metadata": {},
     "output_type": "execute_result"
    }
   ],
   "source": [
    "a"
   ]
  },
  {
   "cell_type": "code",
   "execution_count": 80,
   "metadata": {},
   "outputs": [],
   "source": [
    "#pass the argument of a into the shuffle function\n",
    "#the array is rearranged.\n",
    "np.random.shuffle (a)"
   ]
  },
  {
   "cell_type": "code",
   "execution_count": 77,
   "metadata": {},
   "outputs": [
    {
     "data": {
      "text/plain": [
       "array([9, 8, 6, 2, 5, 0, 3, 4, 7, 1])"
      ]
     },
     "execution_count": 77,
     "metadata": {},
     "output_type": "execute_result"
    }
   ],
   "source": [
    "a"
   ]
  },
  {
   "cell_type": "code",
   "execution_count": 79,
   "metadata": {},
   "outputs": [
    {
     "data": {
      "text/plain": [
       "array([9, 1, 7, 3, 0, 2, 5, 8, 6, 4])"
      ]
     },
     "execution_count": 79,
     "metadata": {},
     "output_type": "execute_result"
    }
   ],
   "source": [
    "np.random.permutation(a)"
   ]
  },
  {
   "cell_type": "code",
   "execution_count": null,
   "metadata": {},
   "outputs": [],
   "source": []
  },
  {
   "cell_type": "markdown",
   "metadata": {},
   "source": [
    "## Section 3: Explain the use and purpose of at least five “Distributions” functions.\n",
    "\n",
    "The \"Distributions\" functions are the heavy lifters of Numpy.  \n"
   ]
  },
  {
   "cell_type": "code",
   "execution_count": 69,
   "metadata": {},
   "outputs": [
    {
     "data": {
      "text/plain": [
       "array([14.49975421, 14.10940803, 12.60299691, 18.70395688, 11.85039927,\n",
       "       10.19661425, 19.53252032])"
      ]
     },
     "execution_count": 69,
     "metadata": {},
     "output_type": "execute_result"
    }
   ],
   "source": [
    "#uniform\n",
    "#produce an array of 7 random floating point numbers between 10 and 20\n",
    "#the output is in a continuous uniform distribution\n",
    "np.random.uniform (10,20,7)"
   ]
  },
  {
   "cell_type": "code",
   "execution_count": null,
   "metadata": {},
   "outputs": [],
   "source": []
  },
  {
   "cell_type": "code",
   "execution_count": null,
   "metadata": {},
   "outputs": [],
   "source": []
  },
  {
   "cell_type": "code",
   "execution_count": null,
   "metadata": {},
   "outputs": [],
   "source": []
  },
  {
   "cell_type": "markdown",
   "metadata": {},
   "source": [
    "## Section 4: Explain the use of seeds in generating pseudorandom numbers.\n",
    "\n",
    "The topic of seeds and random number generation is currently an active area of research.  \n",
    "Computers have difficulty generating truly random numbers and require a mechanism to do so; therefore \n",
    "a number is not actually random but appears to be so i.e., pseudorandom.\n",
    "\n",
    "The term \"seed\" refers to the starting position of generating pseudo-random numbers which then uses an algorithim to continue producing numbers e.g. multiplying this by a large number then taking modulo (remainder after division) of the product\n",
    "It relates to the time when the number was generated, that is when the numpy random generator is imported onto your \n",
    "machine the seed is selected and holds from that moment on.  \n",
    "\n",
    "If the seed is known/set it is possible to predict the pattern because the algorithm will do the same equation and return the same numbers at  each iteration. \n",
    "Setting the seed is useful when testing code, e.g., a script can calculate results based on a \n",
    "random selection of numbers, then after debugging, test the code again using the same selection of numbers so that the code will do the same thing.\n",
    "\n",
    "\n",
    "When seemingly random numbers are required: do not set the seed. \n",
    "To get the most random numbers for each run, call numpy.random.seed(). This will cause numpy to set the seed to a random number obtained from /dev/urandom or its Windows analog or, if neither of those is available, it will use the clock.\n",
    "***"
   ]
  },
  {
   "cell_type": "code",
   "execution_count": null,
   "metadata": {},
   "outputs": [],
   "source": [
    "#INCLUDE 3 SAMPLE SCRIPTS"
   ]
  },
  {
   "cell_type": "code",
   "execution_count": 31,
   "metadata": {},
   "outputs": [
    {
     "name": "stdout",
     "output_type": "stream",
     "text": [
      "6\n",
      "9\n",
      "8\n",
      "8\n",
      "5\n",
      "2\n",
      "5\n",
      "7\n",
      "5\n",
      "9\n"
     ]
    }
   ],
   "source": [
    "#In order to illustrate the use of seed function I will compare two scripts\n",
    "#from the numpy random module, import randint - the command that returns random integers from your indicated\n",
    "#selection of low to high\n",
    "from random import randint\n",
    "#print a selection of 10 random integers between 1 and 10\n",
    "for i in range (10):print (randint(1,10))\n",
    "#this command just prints one integer: print (randint(1,10))"
   ]
  },
  {
   "cell_type": "code",
   "execution_count": 27,
   "metadata": {},
   "outputs": [
    {
     "name": "stdout",
     "output_type": "stream",
     "text": [
      "10\n",
      "3\n",
      "4\n",
      "5\n",
      "8\n",
      "9\n",
      "9\n",
      "3\n",
      "10\n",
      "9\n"
     ]
    }
   ],
   "source": [
    "#This script first imports seed, then includes the call for the seed function which I have set at 33\n",
    "#When the seed is set each iteration produces the same sequence.\n",
    "from random import randint, seed\n",
    "seed(33)\n",
    "for i in range (10):print (randint(1,10))"
   ]
  },
  {
   "cell_type": "code",
   "execution_count": 68,
   "metadata": {},
   "outputs": [
    {
     "data": {
      "text/plain": [
       "0.24851012743772993"
      ]
     },
     "execution_count": 68,
     "metadata": {},
     "output_type": "execute_result"
    }
   ],
   "source": [
    "#this time using the random function\n",
    "np.random.seed (33)\n",
    "np.random.random()"
   ]
  },
  {
   "cell_type": "code",
   "execution_count": null,
   "metadata": {},
   "outputs": [],
   "source": []
  },
  {
   "cell_type": "code",
   "execution_count": null,
   "metadata": {},
   "outputs": [],
   "source": []
  },
  {
   "cell_type": "code",
   "execution_count": null,
   "metadata": {},
   "outputs": [],
   "source": []
  }
 ],
 "metadata": {
  "kernelspec": {
   "display_name": "Python 3",
   "language": "python",
   "name": "python3"
  },
  "language_info": {
   "codemirror_mode": {
    "name": "ipython",
    "version": 3
   },
   "file_extension": ".py",
   "mimetype": "text/x-python",
   "name": "python",
   "nbconvert_exporter": "python",
   "pygments_lexer": "ipython3",
   "version": "3.7.1"
  }
 },
 "nbformat": 4,
 "nbformat_minor": 2
}
