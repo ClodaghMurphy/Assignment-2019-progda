{
 "cells": [
  {
   "cell_type": "markdown",
   "metadata": {},
   "source": [
    "# Assignment 2019 Programming for Data Analysis\n",
    "## Due: last commit on or before November 11th"
   ]
  },
  {
   "cell_type": "markdown",
   "metadata": {},
   "source": [
    "1. Explain the overall purpose of the numpy.random package in Python.\n",
    "2. Explain the use of the “Simple random data” and “Permutations” functions.\n",
    "3. Explain the use and purpose of at least five “Distributions” functions.\n",
    "4. Explain the use of seeds in generating pseudorandom numbers.\n",
    "***"
   ]
  },
  {
   "cell_type": "markdown",
   "metadata": {},
   "source": [
    "## Section 1: Explain the overall purpose of the numpy.random package in Python."
   ]
  },
  {
   "cell_type": "markdown",
   "metadata": {},
   "source": [
    "NumPy, short for Numerical Python, is a linear algebra library in Python that most data science Python packages e.g, Mat−plotlib and Scikit-learn are built on.  NumPy specialises in working with large collections of Python objects called multi-dimensional arrays, this data structure is called ndarray (n-dimensional array).\n",
    "\n",
    "\n",
    "The Python numpy.random package generates random sample numbers, this function is useful when there is a requirement for\n",
    "unpredictability.  \n",
    "The Python Library warns that the package should not be used for cryptographic purposes. \n",
    "\n",
    "NumPy is specialized for building large, multi-dimensional arrays therefore the standard random module that is built into python is a faster option when just an individual random value or small sequence is required. \n",
    "\n",
    "\n",
    "\n",
    "Almost all module functions depend on the basic function random(), which generates a random float uniformly in the half-open range [low, high) [0.0  , 1)\n",
    "\n",
    "\n",
    "The square brackets indicate where the numbers start and the round brackets show that the highest range is 1 but does not include 1. 0 <= n <1.0\n",
    "\n",
    "The basic random ( ) function will return a uniform distribution of numbers.\n",
    "If a different type of distribution is required - there are many more to choose from. \n",
    "The \"Mersenne Twister\" pseudo random number generator (PRNG) algorithm is used to generate numbers in numpy whereas a true random number generator is usually hardware based.\n",
    "\n",
    "\n",
    "***\n"
   ]
  },
  {
   "cell_type": "markdown",
   "metadata": {},
   "source": [
    "## Examples of the numpy random package"
   ]
  },
  {
   "cell_type": "code",
   "execution_count": 3,
   "metadata": {},
   "outputs": [
    {
     "data": {
      "text/plain": [
       "0.6396362493277714"
      ]
     },
     "execution_count": 3,
     "metadata": {},
     "output_type": "execute_result"
    }
   ],
   "source": [
    "#The most basic use of the command - produces numbers between 0 and up to but not including 1\n",
    "#Each time this command is called it will produce a different number\n",
    "import numpy as np\n",
    "import random\n",
    "#when the parenthesis are left empty, the output defaults to one.\n",
    "np.random.random()"
   ]
  },
  {
   "cell_type": "code",
   "execution_count": 4,
   "metadata": {},
   "outputs": [
    {
     "data": {
      "text/plain": [
       "array([0.96023632, 0.50941424, 0.26573327, 0.1861572 , 0.65105583,\n",
       "       0.38075873, 0.88200824])"
      ]
     },
     "execution_count": 4,
     "metadata": {},
     "output_type": "execute_result"
    }
   ],
   "source": [
    "#the inclusion of 7 produces an array of 7 random numbers\n",
    "np.random.random(7)"
   ]
  },
  {
   "cell_type": "code",
   "execution_count": 55,
   "metadata": {},
   "outputs": [
    {
     "data": {
      "text/plain": [
       "6"
      ]
     },
     "execution_count": 55,
     "metadata": {},
     "output_type": "execute_result"
    }
   ],
   "source": [
    "#the randint() method (random integer) produces whole numbers\n",
    "#this is an interesting example that uses the command to recreate the result of rolling a six sided dice\n",
    "#from the numpy random module, import randint - the command that returns random integers from your indicated\n",
    "#selection of low to high with the upperbounds being exclusive\n",
    "#call np.random.randint(1, 7) 7 must beincluded so that 6 can be selected randomly\n",
    "np.random.randint(1, 7)"
   ]
  },
  {
   "cell_type": "code",
   "execution_count": 46,
   "metadata": {},
   "outputs": [],
   "source": [
    "# example 3 of 3 with comments\n",
    "#something more advanced, also an example of data"
   ]
  },
  {
   "cell_type": "markdown",
   "metadata": {},
   "source": [
    "***"
   ]
  },
  {
   "cell_type": "markdown",
   "metadata": {},
   "source": [
    "## Section 2: Explain the use of the “Simple random data” and “Permutations” functions"
   ]
  },
  {
   "cell_type": "markdown",
   "metadata": {},
   "source": []
  },
  {
   "cell_type": "markdown",
   "metadata": {},
   "source": [
    "## _Simple Random Data_\n",
    "\n",
    "The simple random data commands offer the most straighforward pseudo random numbers functions for use in scripts. At time of writing there are ten options.\n",
    "I am going to go into detail of a sample of three (not chosen at random!)\n",
    "\n",
    "Simple random data function | Description\n",
    "------------ | -------------\n",
    "rand(d0, d1, ..., dn)\t| Random values in a given shape.<br>\n",
    "randn(d0, d1, ..., dn)\t|  Return a sample (or samples) from the “standard normal” distribution.<br>\n",
    "randint(low[, high, size, dtype]) |\tReturn random integers from low (inclusive) to high (exclusive).<br>\n",
    "random_integers(low[, high, size]) |\tRandom integers of type np.int between low and high, inclusive.<br>\n",
    "random_sample([size])\t|  Return random floats in the half-open interval [0.0, 1.0).<br>\n",
    "random([size]) | Return random floats in the half-open interval [0.0, 1.0).<br>\n",
    "ranf([size]) |\tReturn random floats in the half-open interval [0.0, 1.0).<br>\n",
    "sample([size])|\tReturn random floats in the half-open interval [0.0, 1.0).<br>\n",
    "choice(a[, size, replace, p])\t|Generates a random sample from a given 1-D array<br>\n",
    "bytes(length)\t|  Return random bytes.<br>"
   ]
  },
  {
   "cell_type": "markdown",
   "metadata": {},
   "source": [
    "### _rand_"
   ]
  },
  {
   "cell_type": "code",
   "execution_count": 82,
   "metadata": {},
   "outputs": [
    {
     "data": {
      "text/plain": [
       "array([[[0.29200277, 0.82073726, 0.81774012],\n",
       "        [0.11436724, 0.7324204 , 0.09730903]]])"
      ]
     },
     "execution_count": 82,
     "metadata": {},
     "output_type": "execute_result"
    }
   ],
   "source": [
    "#rand(d0, d1, ..., dn)\n",
    "#calling the rand function produces values in a particular shape of array that is denoted by the appearance of: d0,d1...,dn\n",
    "#the parameters input influence the \"shape\"\n",
    "#but the random numbers created will always be in the half-open range [low, high) [0.0  , 1)\n",
    "np.random.rand(1,2,3)"
   ]
  },
  {
   "cell_type": "code",
   "execution_count": 7,
   "metadata": {},
   "outputs": [
    {
     "data": {
      "text/plain": [
       "<function matplotlib.pyplot.show(*args, **kw)>"
      ]
     },
     "execution_count": 7,
     "metadata": {},
     "output_type": "execute_result"
    },
    {
     "data": {
      "image/png": "[encoded data removed]",
      "text/plain": [
       "<Figure size 432x288 with 1 Axes>"
      ]
     },
     "metadata": {
      "needs_background": "light"
     },
     "output_type": "display_data"
    }
   ],
   "source": [
    "#The supporting documentation advises that this function produces a uniform distribution, i.e. that all numbers have an \n",
    "#equal likelihood of being randomly selected\n",
    "#by plotting a large parameter in a histogram, this idea can be demonstrated to help understand better what \"uniform\" means\n",
    "a = np.random.rand(5000,10)\n",
    "#matplotlib is required for plotting\n",
    "import matplotlib.pyplot as plt\n",
    "\n",
    "plt.hist(a)\n",
    "plt.show"
   ]
  },
  {
   "cell_type": "markdown",
   "metadata": {},
   "source": [
    "### _.choice_"
   ]
  },
  {
   "cell_type": "code",
   "execution_count": 28,
   "metadata": {},
   "outputs": [
    {
     "data": {
      "text/plain": [
       "array([4, 0, 2, 3])"
      ]
     },
     "execution_count": 28,
     "metadata": {},
     "output_type": "execute_result"
    }
   ],
   "source": [
    "#choice(a[, size, replace, p])\t\n",
    "#various parameters (or none) can be input when using numpy.random.choice\n",
    "#p refers to probabilities, if none are given then the default is uniform distribution\n",
    "np.random.choice(5,4,replace=False)"
   ]
  },
  {
   "cell_type": "code",
   "execution_count": 63,
   "metadata": {},
   "outputs": [
    {
     "data": {
      "text/plain": [
       "8"
      ]
     },
     "execution_count": 63,
     "metadata": {},
     "output_type": "execute_result"
    }
   ],
   "source": [
    "#this example provides a one dimensional array called nums\n",
    "#by calling the choice function, a random sample is generated from the given 1-D array\n",
    "nums= [2,4,6,8]\n",
    "np.random.choice(nums)"
   ]
  },
  {
   "cell_type": "code",
   "execution_count": 61,
   "metadata": {},
   "outputs": [],
   "source": [
    "#another example for choice using a virtual pack of cards\n",
    "cards = [\"AS\", \"2S\", \"3S\", \"4S\", \"5S\", \"6S\", \"7S\", \"8S\", \"9S\", \"TS\", \"JS\", \"QS\", \"KS\",\n",
    "         \"AH\", \"2H\", \"3H\", \"4H\", \"5H\", \"6H\", \"7H\", \"8H\", \"9H\", \"TH\", \"JH\", \"QH\", \"KH\",\n",
    "         \"AC\", \"2C\", \"3C\", \"4C\", \"5C\", \"6C\", \"7C\", \"8C\", \"9C\", \"TC\", \"JC\", \"QC\", \"KC\",\n",
    "         \"AD\", \"2D\", \"3D\", \"4D\", \"5D\", \"6D\", \"7D\", \"8D\", \"9D\", \"TD\", \"JD\", \"QD\", \"KD\"]"
   ]
  },
  {
   "cell_type": "code",
   "execution_count": 63,
   "metadata": {},
   "outputs": [
    {
     "data": {
      "text/plain": [
       "'8H'"
      ]
     },
     "execution_count": 63,
     "metadata": {},
     "output_type": "execute_result"
    }
   ],
   "source": [
    "random.choice(cards)"
   ]
  },
  {
   "cell_type": "markdown",
   "metadata": {},
   "source": [
    "### _.bytes_"
   ]
  },
  {
   "cell_type": "code",
   "execution_count": 58,
   "metadata": {},
   "outputs": [
    {
     "data": {
      "text/plain": [
       "b'\\x12\\xd5]6\\x1a\\x01n\\x87H\\r\\xf8#e\\xd8\\xe2P\\xca\\x12 u~\\x9a\\x80\\xd6+\\xe0\\x85\\xc6\\xd0\\x94CR\\xdeTxb\\xef\\x10g2\\x8a\\xb4hf\\x17\\xc3\\t\\x06\\xadT\\xb4Y\\x9cQU#\\x02\\xb8\\xa7!1\"\\'\\x02\\xc62\\xe00WB\\xdakb\\xb0\\x19\\'\\x9e9.\\xe1q\\x89A\\x83\\x17\\xef\\x85\\xc1&|x?\\xac>\\x1e\\xb6\\x13}\\xd9\\x97\\x98B\\xfb\\x90\\xd7^\\xfd\\xda\\x88\\xaa\\xe8$*i\\xb1o;\\\\U\\x1f</\\xd3_\\x9d\\x85\\xca\\x98\\xfaJ\\xdf{\\xfay\\x8f\\x0bn\\x06\\xc9i\\xa3\\xeb4\\x08<\\x0b\\x8e!\\xfc\\xfa\\xcf\\xe0\\xbb\\xf1x#_N\\\\\\xa6\\x17\\'\\xc6\\xd8\\xf4\\xec\\xc0X\\xbe\\xc2\\xc2w\\xfe0\\xc6E\\xd9,M\\xffh\\xb1\\xad\\xbc\\x0c\\x17o\\x81\\xb1~\\xab\\x06Y|Xk~\\xfep\\xb9'"
      ]
     },
     "execution_count": 58,
     "metadata": {},
     "output_type": "execute_result"
    }
   ],
   "source": [
    "#bytes function is used to return a string of random bytes ( 8 bits) of the length input in parenthesis\n",
    "#this is a useful tool if a large number of pseudo random bytes is required to be efficiently generated\n",
    "np.random.bytes(200)\n"
   ]
  },
  {
   "cell_type": "markdown",
   "metadata": {},
   "source": [
    "[Stefano Cappellini](https://www.stefanocappellini.it/generate-pseudorandom-bytes-with-python/) compared various numpy random functions to generate 1048576 bytes (1MB) .bytes was the most efficient with 0.001017 seconds execution time. "
   ]
  },
  {
   "cell_type": "markdown",
   "metadata": {},
   "source": [
    "### _Summary of Simple Random Data_\n",
    "These options are useful tools as an introduction to the concept of pseudo random number generation.\n",
    "When used in conjunction with matplotlib to generate plots of the data, the ideas can be more effectively conveyed for those without a mathematical background."
   ]
  },
  {
   "cell_type": "markdown",
   "metadata": {},
   "source": [
    "## _Permutations_\n",
    "There are two types of permutation functions - shuffle and permutation. <br>\n",
    "Shuffle modifies the contents of a list that has been passed into the argument by \"shuffling\" its contents- not providing new numbers.<br>\n",
    "This means the original order is lost after being passed through shuffle.\n",
    "Permute rearranges the array, in the case of a multi-dimensional array, it is only shuffled along its first index.<br>"
   ]
  },
  {
   "cell_type": "code",
   "execution_count": 6,
   "metadata": {},
   "outputs": [],
   "source": [
    "#to demonstrate an example of shuffle\n",
    "#first create a range called a\n",
    "a=np.arange (10)"
   ]
  },
  {
   "cell_type": "code",
   "execution_count": 7,
   "metadata": {},
   "outputs": [
    {
     "data": {
      "text/plain": [
       "array([0, 1, 2, 3, 4, 5, 6, 7, 8, 9])"
      ]
     },
     "execution_count": 7,
     "metadata": {},
     "output_type": "execute_result"
    }
   ],
   "source": [
    "a"
   ]
  },
  {
   "cell_type": "code",
   "execution_count": 12,
   "metadata": {},
   "outputs": [],
   "source": [
    "#pass the argument of a into the shuffle function\n",
    "#the array is rearranged.\n",
    "np.random.shuffle (a)"
   ]
  },
  {
   "cell_type": "code",
   "execution_count": 16,
   "metadata": {},
   "outputs": [
    {
     "data": {
      "text/plain": [
       "array([8, 2, 0, 9, 3, 4, 5, 7, 1, 6])"
      ]
     },
     "execution_count": 16,
     "metadata": {},
     "output_type": "execute_result"
    }
   ],
   "source": [
    "a"
   ]
  },
  {
   "cell_type": "code",
   "execution_count": 31,
   "metadata": {},
   "outputs": [
    {
     "data": {
      "text/plain": [
       "array([0, 8, 1, 4, 3, 9, 6, 2, 5, 7])"
      ]
     },
     "execution_count": 31,
     "metadata": {},
     "output_type": "execute_result"
    }
   ],
   "source": [
    "#the output is a permuted sequence or array range.\n",
    "np.random.permutation(a)"
   ]
  },
  {
   "cell_type": "markdown",
   "metadata": {},
   "source": [
    "\n"
   ]
  },
  {
   "cell_type": "code",
   "execution_count": 67,
   "metadata": {},
   "outputs": [],
   "source": [
    "b=np.random.rand(3,2,1)"
   ]
  },
  {
   "cell_type": "code",
   "execution_count": 27,
   "metadata": {},
   "outputs": [
    {
     "data": {
      "text/plain": [
       "array([[[0.28317715],\n",
       "        [0.69173194]],\n",
       "\n",
       "       [[0.77399939],\n",
       "        [0.0763707 ]],\n",
       "\n",
       "       [[0.23769406],\n",
       "        [0.30437776]]])"
      ]
     },
     "execution_count": 27,
     "metadata": {},
     "output_type": "execute_result"
    }
   ],
   "source": [
    "#use of a multi-dimensional array to illustrate how it is only shuffled along its first index\n",
    "np.random.permutation(b)"
   ]
  },
  {
   "cell_type": "code",
   "execution_count": 68,
   "metadata": {},
   "outputs": [],
   "source": [
    "c=np.random.rand(5,4,3)"
   ]
  },
  {
   "cell_type": "code",
   "execution_count": 41,
   "metadata": {},
   "outputs": [],
   "source": [
    "np.random.shuffle(c)"
   ]
  },
  {
   "cell_type": "code",
   "execution_count": 43,
   "metadata": {},
   "outputs": [
    {
     "data": {
      "text/plain": [
       "array([[[0.84767058, 0.0808854 , 0.83102721],\n",
       "        [0.89886968, 0.88568917, 0.53045288],\n",
       "        [0.62085262, 0.24188983, 0.63883473],\n",
       "        [0.3011421 , 0.30038452, 0.57640639]],\n",
       "\n",
       "       [[0.17787055, 0.4958418 , 0.48639733],\n",
       "        [0.5819276 , 0.87959263, 0.88684226],\n",
       "        [0.06159674, 0.89028377, 0.59258723],\n",
       "        [0.26498436, 0.39107987, 0.98859759]],\n",
       "\n",
       "       [[0.28486445, 0.2626721 , 0.64376372],\n",
       "        [0.51169682, 0.98788417, 0.03187201],\n",
       "        [0.53213897, 0.27134688, 0.00785172],\n",
       "        [0.77613758, 0.6802745 , 0.31299986]],\n",
       "\n",
       "       [[0.88150064, 0.02422601, 0.91975217],\n",
       "        [0.45528861, 0.2131771 , 0.39092916],\n",
       "        [0.86296418, 0.78246836, 0.82491865],\n",
       "        [0.65467891, 0.27918174, 0.5674281 ]],\n",
       "\n",
       "       [[0.36452326, 0.45948861, 0.42496033],\n",
       "        [0.35172121, 0.50926645, 0.20419857],\n",
       "        [0.07400142, 0.44647518, 0.66312678],\n",
       "        [0.73347604, 0.0587072 , 0.57671431]]])"
      ]
     },
     "execution_count": 43,
     "metadata": {},
     "output_type": "execute_result"
    }
   ],
   "source": [
    "c"
   ]
  },
  {
   "cell_type": "code",
   "execution_count": 69,
   "metadata": {},
   "outputs": [
    {
     "data": {
      "text/plain": [
       "array([[[0.97190975, 0.57956662, 0.67919876],\n",
       "        [0.16694878, 0.27423973, 0.74846806],\n",
       "        [0.08282728, 0.19668789, 0.11727714],\n",
       "        [0.18612597, 0.44737985, 0.98194074]],\n",
       "\n",
       "       [[0.8021893 , 0.47978847, 0.0279154 ],\n",
       "        [0.47012589, 0.63802097, 0.06543188],\n",
       "        [0.7269384 , 0.9734517 , 0.95025867],\n",
       "        [0.14185329, 0.32875616, 0.26199679]],\n",
       "\n",
       "       [[0.12035513, 0.10510108, 0.86161405],\n",
       "        [0.46518001, 0.17934177, 0.61966066],\n",
       "        [0.0308466 , 0.42543312, 0.55019849],\n",
       "        [0.16998428, 0.91634516, 0.03561866]],\n",
       "\n",
       "       [[0.9655329 , 0.79110228, 0.45601647],\n",
       "        [0.93396899, 0.76781493, 0.04575457],\n",
       "        [0.94600393, 0.50121803, 0.59366317],\n",
       "        [0.41662332, 0.86690552, 0.95859313]],\n",
       "\n",
       "       [[0.233471  , 0.53223738, 0.95268811],\n",
       "        [0.75623483, 0.72905014, 0.20487928],\n",
       "        [0.08785024, 0.76413022, 0.21792016],\n",
       "        [0.99673548, 0.64752573, 0.29552451]]])"
      ]
     },
     "execution_count": 69,
     "metadata": {},
     "output_type": "execute_result"
    }
   ],
   "source": [
    "#use of a multi-dimensional array to illustrate how it is only shuffled along its first index\n",
    "np.random.permutation(c)"
   ]
  },
  {
   "cell_type": "code",
   "execution_count": 58,
   "metadata": {},
   "outputs": [],
   "source": [
    "#permutation and shuffle a virtual deck of cards\n",
    "cards = [\"AS\", \"2S\", \"3S\", \"4S\", \"5S\", \"6S\", \"7S\", \"8S\", \"9S\", \"TS\", \"JS\", \"QS\", \"KS\",\n",
    "         \"AH\", \"2H\", \"3H\", \"4H\", \"5H\", \"6H\", \"7H\", \"8H\", \"9H\", \"TH\", \"JH\", \"QH\", \"KH\",\n",
    "         \"AC\", \"2C\", \"3C\", \"4C\", \"5C\", \"6C\", \"7C\", \"8C\", \"9C\", \"TC\", \"JC\", \"QC\", \"KC\",\n",
    "         \"AD\", \"2D\", \"3D\", \"4D\", \"5D\", \"6D\", \"7D\", \"8D\", \"9D\", \"TD\", \"JD\", \"QD\", \"KD\"]"
   ]
  },
  {
   "cell_type": "code",
   "execution_count": 66,
   "metadata": {},
   "outputs": [
    {
     "data": {
      "text/plain": [
       "array(['7D', '5H', '8C', 'TD', '9C', '4D', '2H', '8D', 'AS', 'AC', '7H',\n",
       "       'TC', 'KC', 'QD', 'KS', '4S', '9D', 'QH', 'AD', '3S', '7S', 'KD',\n",
       "       'JH', '6C', '2C', 'TH', '4H', '3C', '8S', '6S', '5D', 'JD', '3H',\n",
       "       'QC', '6H', '9H', '2S', 'TS', '6D', 'JS', '2D', '9S', '8H', '4C',\n",
       "       'AH', 'JC', '3D', 'QS', '5S', '7C', '5C', 'KH'], dtype='<U2')"
      ]
     },
     "execution_count": 66,
     "metadata": {},
     "output_type": "execute_result"
    }
   ],
   "source": [
    "np.random.permutation(cards)"
   ]
  },
  {
   "cell_type": "code",
   "execution_count": 55,
   "metadata": {},
   "outputs": [],
   "source": [
    "np.random.shuffle(cards)"
   ]
  },
  {
   "cell_type": "code",
   "execution_count": 60,
   "metadata": {},
   "outputs": [
    {
     "data": {
      "text/plain": [
       "['AS',\n",
       " '2S',\n",
       " '3S',\n",
       " '4S',\n",
       " '5S',\n",
       " '6S',\n",
       " '7S',\n",
       " '8S',\n",
       " '9S',\n",
       " 'TS',\n",
       " 'JS',\n",
       " 'QS',\n",
       " 'KS',\n",
       " 'AH',\n",
       " '2H',\n",
       " '3H',\n",
       " '4H',\n",
       " '5H',\n",
       " '6H',\n",
       " '7H',\n",
       " '8H',\n",
       " '9H',\n",
       " 'TH',\n",
       " 'JH',\n",
       " 'QH',\n",
       " 'KH',\n",
       " 'AC',\n",
       " '2C',\n",
       " '3C',\n",
       " '4C',\n",
       " '5C',\n",
       " '6C',\n",
       " '7C',\n",
       " '8C',\n",
       " '9C',\n",
       " 'TC',\n",
       " 'JC',\n",
       " 'QC',\n",
       " 'KC',\n",
       " 'AD',\n",
       " '2D',\n",
       " '3D',\n",
       " '4D',\n",
       " '5D',\n",
       " '6D',\n",
       " '7D',\n",
       " '8D',\n",
       " '9D',\n",
       " 'TD',\n",
       " 'JD',\n",
       " 'QD',\n",
       " 'KD']"
      ]
     },
     "execution_count": 60,
     "metadata": {},
     "output_type": "execute_result"
    }
   ],
   "source": [
    "cards"
   ]
  },
  {
   "cell_type": "markdown",
   "metadata": {},
   "source": [
    "### The difference between shuffle and permutation\n",
    "The difference between shuffle and permutation is difficult to identify. <br>\n",
    "Stackoverflow user [ecatmur](https://stackoverflow.com/users/567292/ecatmur) offers the following explanation (the emphasis is mine)-\n",
    ">np.random.permutation has two differences from np.random.shuffle:<br>\n",
    ">if passed an array, it will return a shuffled _copy_ of the array; np.random.shuffle shuffles the array inplace<br>\n",
    ">if passed an integer, it will return a shuffled _range_ "
   ]
  },
  {
   "cell_type": "code",
   "execution_count": 70,
   "metadata": {},
   "outputs": [
    {
     "ename": "SyntaxError",
     "evalue": "invalid syntax (<ipython-input-70-0380c03be6c7>, line 2)",
     "output_type": "error",
     "traceback": [
      "\u001b[1;36m  File \u001b[1;32m\"<ipython-input-70-0380c03be6c7>\"\u001b[1;36m, line \u001b[1;32m2\u001b[0m\n\u001b[1;33m    Format: ![Alt Text](url)\u001b[0m\n\u001b[1;37m            ^\u001b[0m\n\u001b[1;31mSyntaxError\u001b[0m\u001b[1;31m:\u001b[0m invalid syntax\n"
     ]
    }
   ],
   "source": [
    "![GitHub Logo](/images/logo.png)\n",
    "Format: ![Alt Text](url)"
   ]
  },
  {
   "cell_type": "markdown",
   "metadata": {},
   "source": [
    "## Section 3: Explain the use and purpose of at least five “Distributions” functions.\n",
    "\n",
    "The \"Distributions\" functions are the heavy lifters of Numpy.  \n"
   ]
  },
  {
   "cell_type": "code",
   "execution_count": 69,
   "metadata": {},
   "outputs": [
    {
     "data": {
      "text/plain": [
       "array([14.49975421, 14.10940803, 12.60299691, 18.70395688, 11.85039927,\n",
       "       10.19661425, 19.53252032])"
      ]
     },
     "execution_count": 69,
     "metadata": {},
     "output_type": "execute_result"
    }
   ],
   "source": [
    "#uniform\n",
    "#produce an array of 7 random floating point numbers between 10 and 20\n",
    "#the output is in a continuous uniform distribution\n",
    "np.random.uniform (10,20,7)"
   ]
  },
  {
   "cell_type": "markdown",
   "metadata": {},
   "source": [
    "use this as an example for distributions  https://realpython.com/lessons/randomness-modeling-and-simulation/"
   ]
  },
  {
   "cell_type": "code",
   "execution_count": null,
   "metadata": {},
   "outputs": [],
   "source": []
  },
  {
   "cell_type": "code",
   "execution_count": null,
   "metadata": {},
   "outputs": [],
   "source": []
  },
  {
   "cell_type": "markdown",
   "metadata": {},
   "source": [
    "## Section 4: Explain the use of seeds in generating pseudorandom numbers.\n",
    "\n",
    "The topic of seeds and random number generation is currently an active area of research.  \n",
    "For example, the paper \"Design and Analysis of a True Random Number Generator Based on GSR Signals for Body Sensor Networks\" published in 2019 explores how a TRNG can be created using the vital signs of a patient and this in turn is used to encrypt their medical data being transmitted on a radio signal.\n",
    "Computers have difficulty generating truly random numbers and require a mechanism to do so; therefore \n",
    "a number is not actually random but appears to be so i.e., pseudo random.\n",
    "\n",
    "The term \"seed\" refers to the starting position of generating pseudo-random numbers which then uses an algorithim to continue producing numbers e.g. multiplying this by a large number then taking modulo (remainder after division) of the product\n",
    "It relates to the system time when the number was generated, that is when the numpy random generator is imported onto your \n",
    "machine the seed is selected and holds from that moment on.  \n",
    "\n",
    "If the seed is known/set it is possible to predict the pattern because the algorithm will do the same equation and return the same numbers at  each iteration. \n",
    "Setting the seed is useful when demonstrating or testing code, e.g., a script can calculate results based on a \n",
    "random selection of numbers, then after debugging, test the code again using the same selection of numbers so that the code will do the same thing.\n",
    "\n",
    "\n",
    "When seemingly random numbers are required: do not set the seed. \n",
    "To get the most random numbers for each run, call numpy.random.seed(). This will cause numpy to set the seed to a random number obtained from /dev/urandom or its Windows analog or, if neither of those is available, it will use the clock.\n",
    "***"
   ]
  },
  {
   "cell_type": "code",
   "execution_count": null,
   "metadata": {},
   "outputs": [],
   "source": [
    "#INCLUDE 3 SAMPLE SCRIPTS"
   ]
  },
  {
   "cell_type": "code",
   "execution_count": 31,
   "metadata": {},
   "outputs": [
    {
     "name": "stdout",
     "output_type": "stream",
     "text": [
      "6\n",
      "9\n",
      "8\n",
      "8\n",
      "5\n",
      "2\n",
      "5\n",
      "7\n",
      "5\n",
      "9\n"
     ]
    }
   ],
   "source": [
    "#In order to illustrate the use of seed function I will compare two scripts\n",
    "#from the numpy random module, import randint - the command that returns random integers from your indicated\n",
    "#selection of low to high\n",
    "from random import randint\n",
    "#print a selection of 10 random integers between 1 and 10\n",
    "for i in range (10):print (randint(1,10))\n",
    "#this command just prints one integer: print (randint(1,10))"
   ]
  },
  {
   "cell_type": "code",
   "execution_count": 27,
   "metadata": {},
   "outputs": [
    {
     "name": "stdout",
     "output_type": "stream",
     "text": [
      "10\n",
      "3\n",
      "4\n",
      "5\n",
      "8\n",
      "9\n",
      "9\n",
      "3\n",
      "10\n",
      "9\n"
     ]
    }
   ],
   "source": [
    "#This script first imports seed, then includes the call for the seed function which I have set at 33\n",
    "#When the seed is set each iteration produces the same sequence.\n",
    "from random import randint, seed\n",
    "seed(33)\n",
    "for i in range (10):print (randint(1,10))"
   ]
  },
  {
   "cell_type": "code",
   "execution_count": 68,
   "metadata": {},
   "outputs": [
    {
     "data": {
      "text/plain": [
       "0.24851012743772993"
      ]
     },
     "execution_count": 68,
     "metadata": {},
     "output_type": "execute_result"
    }
   ],
   "source": [
    "#this time using the random function\n",
    "np.random.seed (33)\n",
    "np.random.random()"
   ]
  },
  {
   "cell_type": "code",
   "execution_count": null,
   "metadata": {},
   "outputs": [],
   "source": []
  },
  {
   "cell_type": "code",
   "execution_count": null,
   "metadata": {},
   "outputs": [],
   "source": []
  },
  {
   "cell_type": "code",
   "execution_count": null,
   "metadata": {},
   "outputs": [],
   "source": []
  }
 ],
 "metadata": {
  "kernelspec": {
   "display_name": "Python 3",
   "language": "python",
   "name": "python3"
  },
  "language_info": {
   "codemirror_mode": {
    "name": "ipython",
    "version": 3
   },
   "file_extension": ".py",
   "mimetype": "text/x-python",
   "name": "python",
   "nbconvert_exporter": "python",
   "pygments_lexer": "ipython3",
   "version": "3.7.1"
  }
 },
 "nbformat": 4,
 "nbformat_minor": 2
}
